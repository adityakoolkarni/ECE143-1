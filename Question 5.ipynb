{
 "cells": [
  {
   "cell_type": "code",
   "execution_count": 1,
   "metadata": {},
   "outputs": [],
   "source": [
    "import pandas as pd\n",
    "import numpy as np\n",
    "import matplotlib.pyplot as plt"
   ]
  },
  {
   "cell_type": "code",
   "execution_count": 2,
   "metadata": {},
   "outputs": [],
   "source": [
    "# Read in the .csv file\n",
    "df = pd.read_csv('Preprocess_Completed.csv')\n",
    "df.set_index(['Department'], inplace=True)"
   ]
  },
  {
   "cell_type": "code",
   "execution_count": 3,
   "metadata": {},
   "outputs": [],
   "source": [
    "# Split the dataframe into the different departments\n",
    "ece = df.loc['ECE']\n",
    "cse = df.loc['CSE']\n",
    "mae = df.loc['MAE']                                                                                            \n",
    "beng = df.loc['BENG']\n",
    "\n",
    "ece.reset_index(inplace=True)\n",
    "cse.reset_index(inplace=True)                                                                                        \n",
    "mae.reset_index(inplace=True)                                                                                        \n",
    "beng.reset_index(inplace=True)"
   ]
  },
  {
   "cell_type": "code",
   "execution_count": 4,
   "metadata": {},
   "outputs": [
    {
     "name": "stdout",
     "output_type": "stream",
     "text": [
      "81.60566741237884\n"
     ]
    }
   ],
   "source": [
    "# Get the sum of the 'Rcmnd Instr' column for each department\n",
    "ece_total = ece['Rcmnd Instr'].sum()\n",
    "cse_total = cse['Rcmnd Instr'].sum()                                                                                 \n",
    "mae_total = mae['Rcmnd Instr'].sum()                                                                                 \n",
    "beng_total = beng['Rcmnd Instr'].sum() \n",
    "\n",
    "# Find the average by dividing by the number of rows\n",
    "ece_avg = ece_total / len(ece)\n",
    "cse_avg = cse_total / len(cse)                                                                                       \n",
    "mae_avg = mae_total / len(mae)                                                                                       \n",
    "beng_avg = beng_total / len(beng)"
   ]
  },
  {
   "cell_type": "code",
   "execution_count": 5,
   "metadata": {},
   "outputs": [
    {
     "data": {
      "image/png": "[encoded data removed]",
      "text/plain": [
       "<Figure size 432x288 with 1 Axes>"
      ]
     },
     "metadata": {
      "needs_background": "light"
     },
     "output_type": "display_data"
    }
   ],
   "source": [
    "# Create a bar chart with each average\n",
    "objects = ('ECE', 'CSE', 'MAE', 'BENG')\n",
    "y_pos = np.arange(len(objects))\n",
    "avgs = [ece_avg, cse_avg, mae_avg, beng_avg]\n",
    "\n",
    "plt.bar(y_pos, avgs, align='center', alpha=0.5)\n",
    "plt.xticks(y_pos, objects)\n",
    "plt.ylabel('Average Recommendations Percent')\n",
    "plt.title('Instructor Recommendation by Department')\n",
    "plt.ylim(80,90)\n",
    "\n",
    "plt.show()"
   ]
  }
 ],
 "metadata": {
  "kernelspec": {
   "display_name": "Python 3",
   "language": "python",
   "name": "python3"
  },
  "language_info": {
   "codemirror_mode": {
    "name": "ipython",
    "version": 3
   },
   "file_extension": ".py",
   "mimetype": "text/x-python",
   "name": "python",
   "nbconvert_exporter": "python",
   "pygments_lexer": "ipython3",
   "version": "3.7.4"
  }
 },
 "nbformat": 4,
 "nbformat_minor": 2
}
