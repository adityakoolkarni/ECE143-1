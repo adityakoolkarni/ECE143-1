{
 "cells": [
  {
   "cell_type": "markdown",
   "metadata": {},
   "source": [
    "## 143 Final Project - ECE Department Analysis"
   ]
  },
  {
   "cell_type": "code",
   "execution_count": 85,
   "metadata": {},
   "outputs": [],
   "source": [
    "import pandas as pd\n",
    "import numpy as np\n",
    "combined_df = pd.read_csv(\"Preprocess_Completed.csv\")\n",
    "combined_df.set_index([\"Department\"], inplace=True)\n",
    "df = combined_df.loc[\"ECE\"]\n",
    "df.reset_index(inplace=True)"
   ]
  },
  {
   "cell_type": "code",
   "execution_count": 86,
   "metadata": {},
   "outputs": [
    {
     "data": {
      "text/plain": [
       "Index(['Department', 'Course Number', 'Instructor', 'Term', 'Enroll',\n",
       "       'Evals Made', 'Rcmnd Class', 'Rcmnd Instr', 'Study Hrs/wk',\n",
       "       'Avg Grade Expected', 'Avg Grade Received'],\n",
       "      dtype='object')"
      ]
     },
     "execution_count": 86,
     "metadata": {},
     "output_type": "execute_result"
    }
   ],
   "source": [
    "df.columns"
   ]
  },
  {
   "cell_type": "code",
   "execution_count": 87,
   "metadata": {},
   "outputs": [
    {
     "data": {
      "text/html": [
       "<div>\n",
       "<style scoped>\n",
       "    .dataframe tbody tr th:only-of-type {\n",
       "        vertical-align: middle;\n",
       "    }\n",
       "\n",
       "    .dataframe tbody tr th {\n",
       "        vertical-align: top;\n",
       "    }\n",
       "\n",
       "    .dataframe thead th {\n",
       "        text-align: right;\n",
       "    }\n",
       "</style>\n",
       "<table border=\"1\" class=\"dataframe\">\n",
       "  <thead>\n",
       "    <tr style=\"text-align: right;\">\n",
       "      <th></th>\n",
       "      <th>Department</th>\n",
       "      <th>Course Number</th>\n",
       "      <th>Instructor</th>\n",
       "      <th>Term</th>\n",
       "      <th>Enroll</th>\n",
       "      <th>Evals Made</th>\n",
       "      <th>Rcmnd Class</th>\n",
       "      <th>Rcmnd Instr</th>\n",
       "      <th>Study Hrs/wk</th>\n",
       "      <th>Avg Grade Expected</th>\n",
       "      <th>Avg Grade Received</th>\n",
       "    </tr>\n",
       "  </thead>\n",
       "  <tbody>\n",
       "    <tr>\n",
       "      <th>0</th>\n",
       "      <td>ECE</td>\n",
       "      <td>ECE 100</td>\n",
       "      <td>Abd El-Messih, Andrew Saad</td>\n",
       "      <td>WI19</td>\n",
       "      <td>43</td>\n",
       "      <td>40</td>\n",
       "      <td>76.9</td>\n",
       "      <td>74.4</td>\n",
       "      <td>9.00</td>\n",
       "      <td>3.16</td>\n",
       "      <td>2.79</td>\n",
       "    </tr>\n",
       "    <tr>\n",
       "      <th>1</th>\n",
       "      <td>ECE</td>\n",
       "      <td>ECE 100</td>\n",
       "      <td>Coles, William A.</td>\n",
       "      <td>FA09</td>\n",
       "      <td>57</td>\n",
       "      <td>39</td>\n",
       "      <td>68.4</td>\n",
       "      <td>47.4</td>\n",
       "      <td>7.22</td>\n",
       "      <td>3.11</td>\n",
       "      <td>2.18</td>\n",
       "    </tr>\n",
       "    <tr>\n",
       "      <th>2</th>\n",
       "      <td>ECE</td>\n",
       "      <td>ECE 100</td>\n",
       "      <td>Cruz, Rene L</td>\n",
       "      <td>WI13</td>\n",
       "      <td>77</td>\n",
       "      <td>38</td>\n",
       "      <td>80.0</td>\n",
       "      <td>31.4</td>\n",
       "      <td>10.03</td>\n",
       "      <td>3.00</td>\n",
       "      <td>2.68</td>\n",
       "    </tr>\n",
       "  </tbody>\n",
       "</table>\n",
       "</div>"
      ],
      "text/plain": [
       "  Department Course Number                  Instructor  Term  Enroll  \\\n",
       "0        ECE      ECE 100   Abd El-Messih, Andrew Saad  WI19      43   \n",
       "1        ECE      ECE 100            Coles, William A.  FA09      57   \n",
       "2        ECE      ECE 100                 Cruz, Rene L  WI13      77   \n",
       "\n",
       "   Evals Made  Rcmnd Class  Rcmnd Instr  Study Hrs/wk  Avg Grade Expected  \\\n",
       "0          40         76.9         74.4          9.00                3.16   \n",
       "1          39         68.4         47.4          7.22                3.11   \n",
       "2          38         80.0         31.4         10.03                3.00   \n",
       "\n",
       "   Avg Grade Received  \n",
       "0                2.79  \n",
       "1                2.18  \n",
       "2                2.68  "
      ]
     },
     "execution_count": 87,
     "metadata": {},
     "output_type": "execute_result"
    }
   ],
   "source": [
    "df.head(3)"
   ]
  },
  {
   "cell_type": "code",
   "execution_count": 88,
   "metadata": {},
   "outputs": [],
   "source": [
    "course_group = df.groupby([\"Course Number\"])\n",
    "max_unique_course_grade_ratio_df = pd.DataFrame(columns =[\"Course\", \"Total Enrolled\", \"Avrg Grade Expected\", \"Avrg Grade Received\"])\n",
    "len(course_group)\n",
    "#new dataframe to incldue all the ratios there\n",
    "total_enrolled_dict = {}\n",
    "total_grade_expected_dict = {}\n",
    "total_grade_receieved_dict = {}\n",
    "course_name = []\n",
    "total_enrolled = []"
   ]
  },
  {
   "cell_type": "code",
   "execution_count": 89,
   "metadata": {},
   "outputs": [],
   "source": [
    "for course, data in course_group:\n",
    "    total_enrolled_val = data[\"Enroll\"].sum()\n",
    "    average_grade_per_course_receieved = data[\"Avg Grade Received\"].sum()/len(data)\n",
    "    average_grade_per_course_expected = data[\"Avg Grade Expected\"].sum()/len(data)\n",
    "    total_enrolled_dict[course] = total_enrolled_val\n",
    "    total_grade_receieved_dict[course] = average_grade_per_course_receieved\n",
    "    total_grade_expected_dict[course] = average_grade_per_course_expected"
   ]
  },
  {
   "cell_type": "code",
   "execution_count": 90,
   "metadata": {},
   "outputs": [],
   "source": [
    "course_name = total_enrolled_dict.keys()\n",
    "total_enrolled = total_enrolled_dict.values()\n",
    "average_grade_expected = total_grade_expected_dict.values()\n",
    "average_grade_receieved = total_grade_receieved_dict.values()"
   ]
  },
  {
   "cell_type": "code",
   "execution_count": 91,
   "metadata": {},
   "outputs": [],
   "source": [
    "max_unique_course_grade_ratio_df[\"Course\"] = course_name\n",
    "max_unique_course_grade_ratio_df[\"Total Enrolled\"] = total_enrolled\n",
    "max_unique_course_grade_ratio_df[\"Avrg Grade Expected\"] = average_grade_expected\n",
    "max_unique_course_grade_ratio_df[\"Avrg Grade Received\"] = average_grade_receieved"
   ]
  },
  {
   "cell_type": "code",
   "execution_count": 92,
   "metadata": {},
   "outputs": [
    {
     "data": {
      "text/html": [
       "<div>\n",
       "<style scoped>\n",
       "    .dataframe tbody tr th:only-of-type {\n",
       "        vertical-align: middle;\n",
       "    }\n",
       "\n",
       "    .dataframe tbody tr th {\n",
       "        vertical-align: top;\n",
       "    }\n",
       "\n",
       "    .dataframe thead th {\n",
       "        text-align: right;\n",
       "    }\n",
       "</style>\n",
       "<table border=\"1\" class=\"dataframe\">\n",
       "  <thead>\n",
       "    <tr style=\"text-align: right;\">\n",
       "      <th></th>\n",
       "      <th>Course</th>\n",
       "      <th>Total Enrolled</th>\n",
       "      <th>Avrg Grade Expected</th>\n",
       "      <th>Avrg Grade Received</th>\n",
       "    </tr>\n",
       "  </thead>\n",
       "  <tbody>\n",
       "    <tr>\n",
       "      <th>0</th>\n",
       "      <td>ECE 100</td>\n",
       "      <td>1731</td>\n",
       "      <td>3.161176</td>\n",
       "      <td>2.664118</td>\n",
       "    </tr>\n",
       "    <tr>\n",
       "      <th>1</th>\n",
       "      <td>ECE 101</td>\n",
       "      <td>3609</td>\n",
       "      <td>3.157222</td>\n",
       "      <td>2.646944</td>\n",
       "    </tr>\n",
       "    <tr>\n",
       "      <th>2</th>\n",
       "      <td>ECE 102</td>\n",
       "      <td>1902</td>\n",
       "      <td>3.068571</td>\n",
       "      <td>2.471905</td>\n",
       "    </tr>\n",
       "  </tbody>\n",
       "</table>\n",
       "</div>"
      ],
      "text/plain": [
       "     Course  Total Enrolled  Avrg Grade Expected  Avrg Grade Received\n",
       "0  ECE 100             1731             3.161176             2.664118\n",
       "1  ECE 101             3609             3.157222             2.646944\n",
       "2  ECE 102             1902             3.068571             2.471905"
      ]
     },
     "execution_count": 92,
     "metadata": {},
     "output_type": "execute_result"
    }
   ],
   "source": [
    "max_unique_course_grade_ratio_df.head(3)"
   ]
  },
  {
   "cell_type": "code",
   "execution_count": 93,
   "metadata": {},
   "outputs": [],
   "source": [
    "max_unique_course_grade_ratio_df[\"grade ratio\"] = (max_unique_course_grade_ratio_df[\"Avrg Grade Received\"]/max_unique_course_grade_ratio_df[\"Avrg Grade Expected\"]) * 100"
   ]
  },
  {
   "cell_type": "code",
   "execution_count": 102,
   "metadata": {},
   "outputs": [
    {
     "data": {
      "text/html": [
       "<div>\n",
       "<style scoped>\n",
       "    .dataframe tbody tr th:only-of-type {\n",
       "        vertical-align: middle;\n",
       "    }\n",
       "\n",
       "    .dataframe tbody tr th {\n",
       "        vertical-align: top;\n",
       "    }\n",
       "\n",
       "    .dataframe thead th {\n",
       "        text-align: right;\n",
       "    }\n",
       "</style>\n",
       "<table border=\"1\" class=\"dataframe\">\n",
       "  <thead>\n",
       "    <tr style=\"text-align: right;\">\n",
       "      <th></th>\n",
       "      <th>Course</th>\n",
       "      <th>Total Enrolled</th>\n",
       "      <th>Avrg Grade Expected</th>\n",
       "      <th>Avrg Grade Received</th>\n",
       "      <th>grade ratio</th>\n",
       "    </tr>\n",
       "  </thead>\n",
       "  <tbody>\n",
       "    <tr>\n",
       "      <th>34</th>\n",
       "      <td>ECE 156</td>\n",
       "      <td>172</td>\n",
       "      <td>3.362500</td>\n",
       "      <td>2.507500</td>\n",
       "      <td>74.572491</td>\n",
       "    </tr>\n",
       "    <tr>\n",
       "      <th>52</th>\n",
       "      <td>ECE 175</td>\n",
       "      <td>28</td>\n",
       "      <td>3.330000</td>\n",
       "      <td>2.670000</td>\n",
       "      <td>80.180180</td>\n",
       "    </tr>\n",
       "    <tr>\n",
       "      <th>2</th>\n",
       "      <td>ECE 102</td>\n",
       "      <td>1902</td>\n",
       "      <td>3.068571</td>\n",
       "      <td>2.471905</td>\n",
       "      <td>80.555556</td>\n",
       "    </tr>\n",
       "    <tr>\n",
       "      <th>6</th>\n",
       "      <td>ECE 109</td>\n",
       "      <td>4040</td>\n",
       "      <td>3.106071</td>\n",
       "      <td>2.513571</td>\n",
       "      <td>80.924457</td>\n",
       "    </tr>\n",
       "    <tr>\n",
       "      <th>37</th>\n",
       "      <td>ECE 159A</td>\n",
       "      <td>17</td>\n",
       "      <td>3.690000</td>\n",
       "      <td>2.990000</td>\n",
       "      <td>81.029810</td>\n",
       "    </tr>\n",
       "  </tbody>\n",
       "</table>\n",
       "</div>"
      ],
      "text/plain": [
       "       Course  Total Enrolled  Avrg Grade Expected  Avrg Grade Received  \\\n",
       "34   ECE 156              172             3.362500             2.507500   \n",
       "52   ECE 175               28             3.330000             2.670000   \n",
       "2    ECE 102             1902             3.068571             2.471905   \n",
       "6    ECE 109             4040             3.106071             2.513571   \n",
       "37  ECE 159A               17             3.690000             2.990000   \n",
       "\n",
       "    grade ratio  \n",
       "34    74.572491  \n",
       "52    80.180180  \n",
       "2     80.555556  \n",
       "6     80.924457  \n",
       "37    81.029810  "
      ]
     },
     "execution_count": 102,
     "metadata": {},
     "output_type": "execute_result"
    }
   ],
   "source": [
    "#see the top courses where the lowest grade ratio\n",
    "max_unique_course_grade_ratio_df.sort_values(by=\"grade ratio\").head()"
   ]
  },
  {
   "cell_type": "code",
   "execution_count": 103,
   "metadata": {},
   "outputs": [],
   "source": [
    "mask1 = max_unique_course_grade_ratio_df[\"grade ratio\"] >=100.00"
   ]
  },
  {
   "cell_type": "code",
   "execution_count": 107,
   "metadata": {
    "scrolled": true
   },
   "outputs": [
    {
     "data": {
      "text/html": [
       "<div>\n",
       "<style scoped>\n",
       "    .dataframe tbody tr th:only-of-type {\n",
       "        vertical-align: middle;\n",
       "    }\n",
       "\n",
       "    .dataframe tbody tr th {\n",
       "        vertical-align: top;\n",
       "    }\n",
       "\n",
       "    .dataframe thead th {\n",
       "        text-align: right;\n",
       "    }\n",
       "</style>\n",
       "<table border=\"1\" class=\"dataframe\">\n",
       "  <thead>\n",
       "    <tr style=\"text-align: right;\">\n",
       "      <th></th>\n",
       "      <th>Course</th>\n",
       "      <th>Total Enrolled</th>\n",
       "      <th>Avrg Grade Expected</th>\n",
       "      <th>Avrg Grade Received</th>\n",
       "      <th>grade ratio</th>\n",
       "    </tr>\n",
       "  </thead>\n",
       "  <tbody>\n",
       "    <tr>\n",
       "      <th>8</th>\n",
       "      <td>ECE 115</td>\n",
       "      <td>62</td>\n",
       "      <td>3.583333</td>\n",
       "      <td>3.663333</td>\n",
       "      <td>102.232558</td>\n",
       "    </tr>\n",
       "    <tr>\n",
       "      <th>21</th>\n",
       "      <td>ECE 140A</td>\n",
       "      <td>228</td>\n",
       "      <td>3.400000</td>\n",
       "      <td>3.470000</td>\n",
       "      <td>102.058824</td>\n",
       "    </tr>\n",
       "    <tr>\n",
       "      <th>22</th>\n",
       "      <td>ECE 140B</td>\n",
       "      <td>142</td>\n",
       "      <td>3.530000</td>\n",
       "      <td>3.610000</td>\n",
       "      <td>102.266289</td>\n",
       "    </tr>\n",
       "    <tr>\n",
       "      <th>26</th>\n",
       "      <td>ECE 144</td>\n",
       "      <td>52</td>\n",
       "      <td>3.520000</td>\n",
       "      <td>3.660000</td>\n",
       "      <td>103.977273</td>\n",
       "    </tr>\n",
       "    <tr>\n",
       "      <th>33</th>\n",
       "      <td>ECE 154C</td>\n",
       "      <td>47</td>\n",
       "      <td>3.325000</td>\n",
       "      <td>3.400000</td>\n",
       "      <td>102.255639</td>\n",
       "    </tr>\n",
       "  </tbody>\n",
       "</table>\n",
       "</div>"
      ],
      "text/plain": [
       "       Course  Total Enrolled  Avrg Grade Expected  Avrg Grade Received  \\\n",
       "8    ECE 115               62             3.583333             3.663333   \n",
       "21  ECE 140A              228             3.400000             3.470000   \n",
       "22  ECE 140B              142             3.530000             3.610000   \n",
       "26   ECE 144               52             3.520000             3.660000   \n",
       "33  ECE 154C               47             3.325000             3.400000   \n",
       "\n",
       "    grade ratio  \n",
       "8    102.232558  \n",
       "21   102.058824  \n",
       "22   102.266289  \n",
       "26   103.977273  \n",
       "33   102.255639  "
      ]
     },
     "execution_count": 107,
     "metadata": {},
     "output_type": "execute_result"
    }
   ],
   "source": [
    "easy_courses_df = max_unique_course_grade_ratio_df[mask1]\n",
    "easy_courses_df.head()"
   ]
  },
  {
   "cell_type": "code",
   "execution_count": 105,
   "metadata": {},
   "outputs": [
    {
     "data": {
      "text/plain": [
       "15.277777777777779"
      ]
     },
     "execution_count": 105,
     "metadata": {},
     "output_type": "execute_result"
    }
   ],
   "source": [
    "#see the percentage of the courses that receive higher grade than expected\n",
    "(len(easy_courses_df) / len(max_unique_course_grade_ratio_df)) * 100"
   ]
  },
  {
   "cell_type": "code",
   "execution_count": 108,
   "metadata": {},
   "outputs": [],
   "source": [
    "#and many more extractions from the singled out df above, maybe we can list them or something or extract more stuff with more masks"
   ]
  },
  {
   "cell_type": "code",
   "execution_count": null,
   "metadata": {},
   "outputs": [],
   "source": []
  }
 ],
 "metadata": {
  "kernelspec": {
   "display_name": "Python 3",
   "language": "python",
   "name": "python3"
  },
  "language_info": {
   "codemirror_mode": {
    "name": "ipython",
    "version": 3
   },
   "file_extension": ".py",
   "mimetype": "text/x-python",
   "name": "python",
   "nbconvert_exporter": "python",
   "pygments_lexer": "ipython3",
   "version": "3.7.3"
  }
 },
 "nbformat": 4,
 "nbformat_minor": 2
}
