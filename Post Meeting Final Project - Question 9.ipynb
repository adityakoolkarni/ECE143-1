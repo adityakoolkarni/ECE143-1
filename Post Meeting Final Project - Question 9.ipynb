{
 "cells": [
  {
   "cell_type": "code",
   "execution_count": 1,
   "metadata": {},
   "outputs": [],
   "source": [
    "import pandas as pd\n",
    "import numpy as np\n",
    "import matplotlib.pyplot as plt"
   ]
  },
  {
   "cell_type": "code",
   "execution_count": 2,
   "metadata": {},
   "outputs": [
    {
     "name": "stderr",
     "output_type": "stream",
     "text": [
      "C:\\Users\\TonyY\\Anaconda3\\lib\\site-packages\\ipykernel_launcher.py:3: SettingWithCopyWarning: \n",
      "A value is trying to be set on a copy of a slice from a DataFrame.\n",
      "Try using .loc[row_indexer,col_indexer] = value instead\n",
      "\n",
      "See the caveats in the documentation: http://pandas.pydata.org/pandas-docs/stable/indexing.html#indexing-view-versus-copy\n",
      "  This is separate from the ipykernel package so we can avoid doing imports until\n"
     ]
    }
   ],
   "source": [
    "data = pd.read_csv('Preprocess_Completed.csv')\n",
    "mae = data.loc[data['Department'] == 'MAE']\n",
    "mae[\"student ratio\"] = (mae[\"Evals Made\"]/mae[\"Enroll\"]) *100"
   ]
  },
  {
   "cell_type": "code",
   "execution_count": 3,
   "metadata": {},
   "outputs": [
    {
     "data": {
      "text/html": [
       "<div>\n",
       "<style scoped>\n",
       "    .dataframe tbody tr th:only-of-type {\n",
       "        vertical-align: middle;\n",
       "    }\n",
       "\n",
       "    .dataframe tbody tr th {\n",
       "        vertical-align: top;\n",
       "    }\n",
       "\n",
       "    .dataframe thead th {\n",
       "        text-align: right;\n",
       "    }\n",
       "</style>\n",
       "<table border=\"1\" class=\"dataframe\">\n",
       "  <thead>\n",
       "    <tr style=\"text-align: right;\">\n",
       "      <th></th>\n",
       "      <th>Department</th>\n",
       "      <th>Course Number</th>\n",
       "      <th>Instructor</th>\n",
       "      <th>Term</th>\n",
       "      <th>Enroll</th>\n",
       "      <th>Evals Made</th>\n",
       "      <th>Rcmnd Class</th>\n",
       "      <th>Rcmnd Instr</th>\n",
       "      <th>Study Hrs/wk</th>\n",
       "      <th>Avg Grade Expected</th>\n",
       "      <th>Avg Grade Received</th>\n",
       "      <th>student ratio</th>\n",
       "    </tr>\n",
       "  </thead>\n",
       "  <tbody>\n",
       "    <tr>\n",
       "      <th>2728</th>\n",
       "      <td>MAE</td>\n",
       "      <td>MAE 1</td>\n",
       "      <td>Bahadori, Mohammad Yousef</td>\n",
       "      <td>FA07</td>\n",
       "      <td>213</td>\n",
       "      <td>119</td>\n",
       "      <td>63.2</td>\n",
       "      <td>79.3</td>\n",
       "      <td>3.96</td>\n",
       "      <td>3.27</td>\n",
       "      <td>2.87</td>\n",
       "      <td>55.868545</td>\n",
       "    </tr>\n",
       "    <tr>\n",
       "      <th>2729</th>\n",
       "      <td>MAE</td>\n",
       "      <td>MAE 1</td>\n",
       "      <td>Linden, Paul F.</td>\n",
       "      <td>FA07</td>\n",
       "      <td>213</td>\n",
       "      <td>119</td>\n",
       "      <td>63.2</td>\n",
       "      <td>79.3</td>\n",
       "      <td>3.96</td>\n",
       "      <td>3.27</td>\n",
       "      <td>2.87</td>\n",
       "      <td>55.868545</td>\n",
       "    </tr>\n",
       "    <tr>\n",
       "      <th>2730</th>\n",
       "      <td>MAE</td>\n",
       "      <td>MAE 1</td>\n",
       "      <td>Nagy, Geza</td>\n",
       "      <td>FA07</td>\n",
       "      <td>213</td>\n",
       "      <td>119</td>\n",
       "      <td>63.2</td>\n",
       "      <td>79.3</td>\n",
       "      <td>3.96</td>\n",
       "      <td>3.27</td>\n",
       "      <td>2.87</td>\n",
       "      <td>55.868545</td>\n",
       "    </tr>\n",
       "    <tr>\n",
       "      <th>2731</th>\n",
       "      <td>MAE</td>\n",
       "      <td>MAE 101A</td>\n",
       "      <td>Bahadori, Mohammad Yousef</td>\n",
       "      <td>FA14</td>\n",
       "      <td>55</td>\n",
       "      <td>25</td>\n",
       "      <td>96.0</td>\n",
       "      <td>96.0</td>\n",
       "      <td>6.42</td>\n",
       "      <td>3.13</td>\n",
       "      <td>2.36</td>\n",
       "      <td>45.454545</td>\n",
       "    </tr>\n",
       "    <tr>\n",
       "      <th>2732</th>\n",
       "      <td>MAE</td>\n",
       "      <td>MAE 101A</td>\n",
       "      <td>Bahadori, Mohammad Yousef</td>\n",
       "      <td>S112</td>\n",
       "      <td>50</td>\n",
       "      <td>13</td>\n",
       "      <td>92.3</td>\n",
       "      <td>84.6</td>\n",
       "      <td>9.58</td>\n",
       "      <td>3.23</td>\n",
       "      <td>2.69</td>\n",
       "      <td>26.000000</td>\n",
       "    </tr>\n",
       "  </tbody>\n",
       "</table>\n",
       "</div>"
      ],
      "text/plain": [
       "     Department Course Number                 Instructor  Term  Enroll  \\\n",
       "2728        MAE        MAE 1   Bahadori, Mohammad Yousef  FA07     213   \n",
       "2729        MAE        MAE 1             Linden, Paul F.  FA07     213   \n",
       "2730        MAE        MAE 1                  Nagy, Geza  FA07     213   \n",
       "2731        MAE     MAE 101A   Bahadori, Mohammad Yousef  FA14      55   \n",
       "2732        MAE     MAE 101A   Bahadori, Mohammad Yousef  S112      50   \n",
       "\n",
       "      Evals Made  Rcmnd Class  Rcmnd Instr  Study Hrs/wk  Avg Grade Expected  \\\n",
       "2728         119         63.2         79.3          3.96                3.27   \n",
       "2729         119         63.2         79.3          3.96                3.27   \n",
       "2730         119         63.2         79.3          3.96                3.27   \n",
       "2731          25         96.0         96.0          6.42                3.13   \n",
       "2732          13         92.3         84.6          9.58                3.23   \n",
       "\n",
       "      Avg Grade Received  student ratio  \n",
       "2728                2.87      55.868545  \n",
       "2729                2.87      55.868545  \n",
       "2730                2.87      55.868545  \n",
       "2731                2.36      45.454545  \n",
       "2732                2.69      26.000000  "
      ]
     },
     "execution_count": 3,
     "metadata": {},
     "output_type": "execute_result"
    }
   ],
   "source": [
    "mae.head()"
   ]
  },
  {
   "cell_type": "code",
   "execution_count": 7,
   "metadata": {},
   "outputs": [
    {
     "data": {
      "text/html": [
       "<div>\n",
       "<style scoped>\n",
       "    .dataframe tbody tr th:only-of-type {\n",
       "        vertical-align: middle;\n",
       "    }\n",
       "\n",
       "    .dataframe tbody tr th {\n",
       "        vertical-align: top;\n",
       "    }\n",
       "\n",
       "    .dataframe thead th {\n",
       "        text-align: right;\n",
       "    }\n",
       "</style>\n",
       "<table border=\"1\" class=\"dataframe\">\n",
       "  <thead>\n",
       "    <tr style=\"text-align: right;\">\n",
       "      <th></th>\n",
       "      <th>FA</th>\n",
       "      <th>WI</th>\n",
       "      <th>SP</th>\n",
       "      <th>S1</th>\n",
       "    </tr>\n",
       "  </thead>\n",
       "  <tbody>\n",
       "    <tr>\n",
       "      <th>MAE 105</th>\n",
       "      <td>2.971538</td>\n",
       "      <td>3.170000</td>\n",
       "      <td>2.995000</td>\n",
       "      <td>3.193333</td>\n",
       "    </tr>\n",
       "    <tr>\n",
       "      <th>MAE 130A</th>\n",
       "      <td>2.780833</td>\n",
       "      <td>3.095385</td>\n",
       "      <td>3.050000</td>\n",
       "      <td>3.073750</td>\n",
       "    </tr>\n",
       "    <tr>\n",
       "      <th>MAE 130B</th>\n",
       "      <td>2.280000</td>\n",
       "      <td>2.800000</td>\n",
       "      <td>3.047692</td>\n",
       "      <td>2.820000</td>\n",
       "    </tr>\n",
       "    <tr>\n",
       "      <th>MAE 131A</th>\n",
       "      <td>3.147500</td>\n",
       "      <td>2.768889</td>\n",
       "      <td>2.975000</td>\n",
       "      <td>3.330000</td>\n",
       "    </tr>\n",
       "    <tr>\n",
       "      <th>MAE 143A</th>\n",
       "      <td>2.660000</td>\n",
       "      <td>2.996429</td>\n",
       "      <td>2.730000</td>\n",
       "      <td>3.040000</td>\n",
       "    </tr>\n",
       "    <tr>\n",
       "      <th>MAE 150</th>\n",
       "      <td>2.829231</td>\n",
       "      <td>2.670000</td>\n",
       "      <td>2.854545</td>\n",
       "      <td>2.970000</td>\n",
       "    </tr>\n",
       "    <tr>\n",
       "      <th>MAE 20</th>\n",
       "      <td>2.966667</td>\n",
       "      <td>3.180000</td>\n",
       "      <td>3.460000</td>\n",
       "      <td>3.615000</td>\n",
       "    </tr>\n",
       "    <tr>\n",
       "      <th>MAE 8</th>\n",
       "      <td>3.180000</td>\n",
       "      <td>3.195000</td>\n",
       "      <td>3.173750</td>\n",
       "      <td>3.368000</td>\n",
       "    </tr>\n",
       "  </tbody>\n",
       "</table>\n",
       "</div>"
      ],
      "text/plain": [
       "                 FA        WI        SP        S1\n",
       "MAE 105    2.971538  3.170000  2.995000  3.193333\n",
       "MAE 130A   2.780833  3.095385  3.050000  3.073750\n",
       "MAE 130B   2.280000  2.800000  3.047692  2.820000\n",
       "MAE 131A   3.147500  2.768889  2.975000  3.330000\n",
       "MAE 143A   2.660000  2.996429  2.730000  3.040000\n",
       "MAE 150    2.829231  2.670000  2.854545  2.970000\n",
       "MAE 20     2.966667  3.180000  3.460000  3.615000\n",
       "MAE 8      3.180000  3.195000  3.173750  3.368000"
      ]
     },
     "execution_count": 7,
     "metadata": {},
     "output_type": "execute_result"
    }
   ],
   "source": [
    "unique_course = mae.groupby('Course Number')  # groupby each course\n",
    "data = {}\n",
    "for course_num, table1 in unique_course:\n",
    "    fall = table1.loc[mae['Term'].str.startswith('FA')]  # find all current course open in fall\n",
    "    winter = table1.loc[mae['Term'].str.startswith('WI')]  # find all current course open in winter\n",
    "    spring = table1.loc[mae['Term'].str.startswith('SP')]  # find all current course open in spring\n",
    "    summer = table1.loc[mae['Term'].str.startswith('S1')]  # find all current course open in summer\n",
    "    if fall.empty or winter.empty or spring.empty or summer.empty:  # if not open in all four quarter\n",
    "        continue\n",
    "    data[course_num] = [fall['Avg Grade Received'].mean(), winter['Avg Grade Received'].mean(), spring['Avg Grade Received'].mean(), summer['Avg Grade Received'].mean()]\n",
    "compare_gpa = pd.DataFrame(data, index=['FA', 'WI', 'SP', 'S1']).transpose()\n",
    "compare_gpa"
   ]
  },
  {
   "cell_type": "code",
   "execution_count": 9,
   "metadata": {},
   "outputs": [
    {
     "data": {
      "text/plain": [
       "<matplotlib.legend.Legend at 0x27037cb7898>"
      ]
     },
     "execution_count": 9,
     "metadata": {},
     "output_type": "execute_result"
    },
    {
     "data": {
      "image/png": "[encoded data removed]",
      "text/plain": [
       "<Figure size 720x360 with 1 Axes>"
      ]
     },
     "metadata": {
      "needs_background": "light"
     },
     "output_type": "display_data"
    }
   ],
   "source": [
    "compare_gpa.plot.bar(rot = 0, figsize=(10,5)).legend(bbox_to_anchor=(1, 1))"
   ]
  }
 ],
 "metadata": {
  "kernelspec": {
   "display_name": "Python 3",
   "language": "python",
   "name": "python3"
  },
  "language_info": {
   "codemirror_mode": {
    "name": "ipython",
    "version": 3
   },
   "file_extension": ".py",
   "mimetype": "text/x-python",
   "name": "python",
   "nbconvert_exporter": "python",
   "pygments_lexer": "ipython3",
   "version": "3.7.1"
  }
 },
 "nbformat": 4,
 "nbformat_minor": 2
}
