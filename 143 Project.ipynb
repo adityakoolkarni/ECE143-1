{
 "cells": [
  {
   "cell_type": "code",
   "execution_count": 312,
   "metadata": {},
   "outputs": [],
   "source": [
    "import pandas as pd"
   ]
  },
  {
   "cell_type": "code",
   "execution_count": 315,
   "metadata": {},
   "outputs": [],
   "source": [
    "def get_course_number(course):\n",
    "    course_num = course.split(\"-\")\n",
    "    return course_num[0]\n",
    "\n",
    "def get_course_description(course):\n",
    "    course_description = course.split(\"-\")\n",
    "    return course_description[1]\n",
    "\n",
    "def grade_cleaner(grade):\n",
    "    temp =  grade.split(\"(\")\n",
    "    temp_grade = temp[1]\n",
    "    temp_grade_2 = temp_grade.split(\")\")\n",
    "    final_grade = temp_grade_2[0]\n",
    "    return final_grade"
   ]
  },
  {
   "cell_type": "code",
   "execution_count": 316,
   "metadata": {},
   "outputs": [],
   "source": [
    "df = pd.read_csv(\"143Data.csv\")\n",
    "df.dropna(inplace = True)\n",
    "df[\"Course Number\"] = df[\"Course\"].apply(get_course_number)\n",
    "df[\"Course Description\"] = df[\"Course\"].apply(get_course_description)\n",
    "df[\"Avg Grade Received\"] = df[\"Avg Grade Received\"].apply(grade_cleaner)\n"
   ]
  },
  {
   "cell_type": "code",
   "execution_count": 317,
   "metadata": {},
   "outputs": [
    {
     "data": {
      "text/html": [
       "<div>\n",
       "<style scoped>\n",
       "    .dataframe tbody tr th:only-of-type {\n",
       "        vertical-align: middle;\n",
       "    }\n",
       "\n",
       "    .dataframe tbody tr th {\n",
       "        vertical-align: top;\n",
       "    }\n",
       "\n",
       "    .dataframe thead th {\n",
       "        text-align: right;\n",
       "    }\n",
       "</style>\n",
       "<table border=\"1\" class=\"dataframe\">\n",
       "  <thead>\n",
       "    <tr style=\"text-align: right;\">\n",
       "      <th></th>\n",
       "      <th>Instructor</th>\n",
       "      <th>Course</th>\n",
       "      <th>Term</th>\n",
       "      <th>Enroll</th>\n",
       "      <th>Evals Made</th>\n",
       "      <th>Rcmnd Class</th>\n",
       "      <th>Rcmnd Instr</th>\n",
       "      <th>Study Hrs/wk</th>\n",
       "      <th>Avg Grade Expected</th>\n",
       "      <th>Avg Grade Received</th>\n",
       "      <th>Course Number</th>\n",
       "      <th>Course Description</th>\n",
       "    </tr>\n",
       "  </thead>\n",
       "  <tbody>\n",
       "    <tr>\n",
       "      <th>2</th>\n",
       "      <td>Abi Samra, Nicholas Camill</td>\n",
       "      <td>ECE 180 - Topics in ECE (A)</td>\n",
       "      <td>S219</td>\n",
       "      <td>29</td>\n",
       "      <td>16</td>\n",
       "      <td>100.0 %</td>\n",
       "      <td>100.0 %</td>\n",
       "      <td>4.23</td>\n",
       "      <td>A- (3.80)</td>\n",
       "      <td>3.48</td>\n",
       "      <td>ECE 180</td>\n",
       "      <td>Topics in ECE (A)</td>\n",
       "    </tr>\n",
       "    <tr>\n",
       "      <th>3</th>\n",
       "      <td>Abi Samra, Nicholas Camill</td>\n",
       "      <td>ECE 180 - Topics in ECE (A)</td>\n",
       "      <td>S119</td>\n",
       "      <td>30</td>\n",
       "      <td>11</td>\n",
       "      <td>100.0 %</td>\n",
       "      <td>100.0 %</td>\n",
       "      <td>6.14</td>\n",
       "      <td>A- (3.91)</td>\n",
       "      <td>3.53</td>\n",
       "      <td>ECE 180</td>\n",
       "      <td>Topics in ECE (A)</td>\n",
       "    </tr>\n",
       "  </tbody>\n",
       "</table>\n",
       "</div>"
      ],
      "text/plain": [
       "                   Instructor                       Course  Term  Enroll  \\\n",
       "2  Abi Samra, Nicholas Camill  ECE 180 - Topics in ECE (A)  S219      29   \n",
       "3  Abi Samra, Nicholas Camill  ECE 180 - Topics in ECE (A)  S119      30   \n",
       "\n",
       "   Evals Made Rcmnd Class Rcmnd Instr  Study Hrs/wk Avg Grade Expected  \\\n",
       "2          16     100.0 %     100.0 %          4.23          A- (3.80)   \n",
       "3          11     100.0 %     100.0 %          6.14          A- (3.91)   \n",
       "\n",
       "  Avg Grade Received Course Number  Course Description  \n",
       "2               3.48      ECE 180    Topics in ECE (A)  \n",
       "3               3.53      ECE 180    Topics in ECE (A)  "
      ]
     },
     "execution_count": 317,
     "metadata": {},
     "output_type": "execute_result"
    }
   ],
   "source": [
    "df.head(2)"
   ]
  },
  {
   "cell_type": "code",
   "execution_count": 309,
   "metadata": {},
   "outputs": [
    {
     "name": "stdout",
     "output_type": "stream",
     "text": [
      "<class 'pandas.core.frame.DataFrame'>\n",
      "Int64Index: 4045 entries, 2 to 5228\n",
      "Data columns (total 10 columns):\n",
      "Instructor            4045 non-null object\n",
      "Course                4045 non-null object\n",
      "Term                  4045 non-null object\n",
      "Enroll                4045 non-null int64\n",
      "Evals Made            4045 non-null int64\n",
      "Rcmnd Class           4045 non-null object\n",
      "Rcmnd Instr           4045 non-null object\n",
      "Study Hrs/wk          4045 non-null float64\n",
      "Avg Grade Expected    4045 non-null object\n",
      "Avg Grade Received    4045 non-null object\n",
      "dtypes: float64(1), int64(2), object(7)\n",
      "memory usage: 347.6+ KB\n"
     ]
    }
   ],
   "source": [
    "df.info()"
   ]
  },
  {
   "cell_type": "code",
   "execution_count": 311,
   "metadata": {},
   "outputs": [],
   "source": [
    "df[\"Avg Grade Received\"] = df[\"Avg Grade Received\"].apply(grade_cleaner)"
   ]
  },
  {
   "cell_type": "code",
   "execution_count": 306,
   "metadata": {},
   "outputs": [
    {
     "data": {
      "text/html": [
       "<div>\n",
       "<style scoped>\n",
       "    .dataframe tbody tr th:only-of-type {\n",
       "        vertical-align: middle;\n",
       "    }\n",
       "\n",
       "    .dataframe tbody tr th {\n",
       "        vertical-align: top;\n",
       "    }\n",
       "\n",
       "    .dataframe thead th {\n",
       "        text-align: right;\n",
       "    }\n",
       "</style>\n",
       "<table border=\"1\" class=\"dataframe\">\n",
       "  <thead>\n",
       "    <tr style=\"text-align: right;\">\n",
       "      <th></th>\n",
       "      <th>Instructor</th>\n",
       "      <th>Term</th>\n",
       "      <th>Enroll</th>\n",
       "      <th>Evals Made</th>\n",
       "      <th>Rcmnd Class</th>\n",
       "      <th>Rcmnd Instr</th>\n",
       "      <th>Study Hrs/wk</th>\n",
       "      <th>Avg Grade Expected</th>\n",
       "      <th>Avg Grade Received</th>\n",
       "      <th>Course Number</th>\n",
       "      <th>Course Description</th>\n",
       "    </tr>\n",
       "  </thead>\n",
       "  <tbody>\n",
       "    <tr>\n",
       "      <th>2</th>\n",
       "      <td>Abi Samra, Nicholas Camill</td>\n",
       "      <td>S219</td>\n",
       "      <td>29</td>\n",
       "      <td>16</td>\n",
       "      <td>100.0</td>\n",
       "      <td>100.0</td>\n",
       "      <td>4.23</td>\n",
       "      <td>3.80</td>\n",
       "      <td>3.48</td>\n",
       "      <td>ECE 180</td>\n",
       "      <td>Topics in ECE</td>\n",
       "    </tr>\n",
       "    <tr>\n",
       "      <th>3</th>\n",
       "      <td>Abi Samra, Nicholas Camill</td>\n",
       "      <td>S119</td>\n",
       "      <td>30</td>\n",
       "      <td>11</td>\n",
       "      <td>100.0</td>\n",
       "      <td>100.0</td>\n",
       "      <td>6.14</td>\n",
       "      <td>3.91</td>\n",
       "      <td>3.53</td>\n",
       "      <td>ECE 180</td>\n",
       "      <td>Topics in ECE</td>\n",
       "    </tr>\n",
       "  </tbody>\n",
       "</table>\n",
       "</div>"
      ],
      "text/plain": [
       "                   Instructor  Term  Enroll  Evals Made  Rcmnd Class  \\\n",
       "2  Abi Samra, Nicholas Camill  S219      29          16        100.0   \n",
       "3  Abi Samra, Nicholas Camill  S119      30          11        100.0   \n",
       "\n",
       "   Rcmnd Instr  Study Hrs/wk  Avg Grade Expected Avg Grade Received  \\\n",
       "2        100.0          4.23                3.80               3.48   \n",
       "3        100.0          6.14                3.91               3.53   \n",
       "\n",
       "  Course Number Course Description  \n",
       "2      ECE 180      Topics in ECE   \n",
       "3      ECE 180      Topics in ECE   "
      ]
     },
     "execution_count": 306,
     "metadata": {},
     "output_type": "execute_result"
    }
   ],
   "source": [
    "df.head(2)"
   ]
  },
  {
   "cell_type": "code",
   "execution_count": null,
   "metadata": {},
   "outputs": [],
   "source": []
  }
 ],
 "metadata": {
  "kernelspec": {
   "display_name": "Python 3",
   "language": "python",
   "name": "python3"
  },
  "language_info": {
   "codemirror_mode": {
    "name": "ipython",
    "version": 3
   },
   "file_extension": ".py",
   "mimetype": "text/x-python",
   "name": "python",
   "nbconvert_exporter": "python",
   "pygments_lexer": "ipython3",
   "version": "3.7.3"
  }
 },
 "nbformat": 4,
 "nbformat_minor": 2
}
