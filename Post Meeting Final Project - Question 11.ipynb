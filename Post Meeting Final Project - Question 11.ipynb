{
 "cells": [
  {
   "cell_type": "code",
   "execution_count": 1,
   "metadata": {},
   "outputs": [],
   "source": [
    "import pandas as pd\n",
    "import numpy as np\n",
    "import matplotlib.pyplot as plt"
   ]
  },
  {
   "cell_type": "code",
   "execution_count": 2,
   "metadata": {},
   "outputs": [],
   "source": [
    "data = pd.read_csv('Preprocess_Completed.csv')\n",
    "mae = data.loc[data['Department'] == 'MAE']\n",
    "ece = data.loc[data['Department'] == 'ECE']\n",
    "cse = data.loc[data['Department'] == 'CSE']\n",
    "bio = data.loc[data['Department'] == 'BENG']"
   ]
  },
  {
   "cell_type": "code",
   "execution_count": 3,
   "metadata": {},
   "outputs": [
    {
     "data": {
      "text/html": [
       "<div>\n",
       "<style scoped>\n",
       "    .dataframe tbody tr th:only-of-type {\n",
       "        vertical-align: middle;\n",
       "    }\n",
       "\n",
       "    .dataframe tbody tr th {\n",
       "        vertical-align: top;\n",
       "    }\n",
       "\n",
       "    .dataframe thead th {\n",
       "        text-align: right;\n",
       "    }\n",
       "</style>\n",
       "<table border=\"1\" class=\"dataframe\">\n",
       "  <thead>\n",
       "    <tr style=\"text-align: right;\">\n",
       "      <th></th>\n",
       "      <th>Department</th>\n",
       "      <th>Course Number</th>\n",
       "      <th>Instructor</th>\n",
       "      <th>Term</th>\n",
       "      <th>Enroll</th>\n",
       "      <th>Evals Made</th>\n",
       "      <th>Rcmnd Class</th>\n",
       "      <th>Rcmnd Instr</th>\n",
       "      <th>Study Hrs/wk</th>\n",
       "      <th>Avg Grade Expected</th>\n",
       "      <th>Avg Grade Received</th>\n",
       "    </tr>\n",
       "  </thead>\n",
       "  <tbody>\n",
       "    <tr>\n",
       "      <th>2728</th>\n",
       "      <td>MAE</td>\n",
       "      <td>MAE 1</td>\n",
       "      <td>Bahadori, Mohammad Yousef</td>\n",
       "      <td>FA07</td>\n",
       "      <td>213</td>\n",
       "      <td>119</td>\n",
       "      <td>63.2</td>\n",
       "      <td>79.3</td>\n",
       "      <td>3.96</td>\n",
       "      <td>3.27</td>\n",
       "      <td>2.87</td>\n",
       "    </tr>\n",
       "    <tr>\n",
       "      <th>2729</th>\n",
       "      <td>MAE</td>\n",
       "      <td>MAE 1</td>\n",
       "      <td>Linden, Paul F.</td>\n",
       "      <td>FA07</td>\n",
       "      <td>213</td>\n",
       "      <td>119</td>\n",
       "      <td>63.2</td>\n",
       "      <td>79.3</td>\n",
       "      <td>3.96</td>\n",
       "      <td>3.27</td>\n",
       "      <td>2.87</td>\n",
       "    </tr>\n",
       "    <tr>\n",
       "      <th>2730</th>\n",
       "      <td>MAE</td>\n",
       "      <td>MAE 1</td>\n",
       "      <td>Nagy, Geza</td>\n",
       "      <td>FA07</td>\n",
       "      <td>213</td>\n",
       "      <td>119</td>\n",
       "      <td>63.2</td>\n",
       "      <td>79.3</td>\n",
       "      <td>3.96</td>\n",
       "      <td>3.27</td>\n",
       "      <td>2.87</td>\n",
       "    </tr>\n",
       "    <tr>\n",
       "      <th>2731</th>\n",
       "      <td>MAE</td>\n",
       "      <td>MAE 101A</td>\n",
       "      <td>Bahadori, Mohammad Yousef</td>\n",
       "      <td>FA14</td>\n",
       "      <td>55</td>\n",
       "      <td>25</td>\n",
       "      <td>96.0</td>\n",
       "      <td>96.0</td>\n",
       "      <td>6.42</td>\n",
       "      <td>3.13</td>\n",
       "      <td>2.36</td>\n",
       "    </tr>\n",
       "    <tr>\n",
       "      <th>2732</th>\n",
       "      <td>MAE</td>\n",
       "      <td>MAE 101A</td>\n",
       "      <td>Bahadori, Mohammad Yousef</td>\n",
       "      <td>S112</td>\n",
       "      <td>50</td>\n",
       "      <td>13</td>\n",
       "      <td>92.3</td>\n",
       "      <td>84.6</td>\n",
       "      <td>9.58</td>\n",
       "      <td>3.23</td>\n",
       "      <td>2.69</td>\n",
       "    </tr>\n",
       "  </tbody>\n",
       "</table>\n",
       "</div>"
      ],
      "text/plain": [
       "     Department Course Number                 Instructor  Term  Enroll  \\\n",
       "2728        MAE        MAE 1   Bahadori, Mohammad Yousef  FA07     213   \n",
       "2729        MAE        MAE 1             Linden, Paul F.  FA07     213   \n",
       "2730        MAE        MAE 1                  Nagy, Geza  FA07     213   \n",
       "2731        MAE     MAE 101A   Bahadori, Mohammad Yousef  FA14      55   \n",
       "2732        MAE     MAE 101A   Bahadori, Mohammad Yousef  S112      50   \n",
       "\n",
       "      Evals Made  Rcmnd Class  Rcmnd Instr  Study Hrs/wk  Avg Grade Expected  \\\n",
       "2728         119         63.2         79.3          3.96                3.27   \n",
       "2729         119         63.2         79.3          3.96                3.27   \n",
       "2730         119         63.2         79.3          3.96                3.27   \n",
       "2731          25         96.0         96.0          6.42                3.13   \n",
       "2732          13         92.3         84.6          9.58                3.23   \n",
       "\n",
       "      Avg Grade Received  \n",
       "2728                2.87  \n",
       "2729                2.87  \n",
       "2730                2.87  \n",
       "2731                2.36  \n",
       "2732                2.69  "
      ]
     },
     "execution_count": 3,
     "metadata": {},
     "output_type": "execute_result"
    }
   ],
   "source": [
    "mae.head()"
   ]
  },
  {
   "cell_type": "code",
   "execution_count": 4,
   "metadata": {},
   "outputs": [
    {
     "name": "stdout",
     "output_type": "stream",
     "text": [
      "                    Rcmnd Instr  Avg Grade Received\n",
      "Rcmnd Instr            1.000000            0.248562\n",
      "Avg Grade Received     0.248562            1.000000\n"
     ]
    },
    {
     "data": {
      "image/png": "[encoded data removed]",
      "text/plain": [
       "<Figure size 1080x720 with 1 Axes>"
      ]
     },
     "metadata": {
      "needs_background": "light"
     },
     "output_type": "display_data"
    }
   ],
   "source": [
    "unique_prof = mae.groupby(by='Instructor')['Rcmnd Instr','Avg Grade Received'].mean().sort_values(by='Rcmnd Instr')\n",
    "rmnd_prof = unique_prof['Rcmnd Instr'].values\n",
    "gpa = unique_prof['Avg Grade Received'].values\n",
    "#for i in range(gpa.shape[0]):\n",
    "#    print(rmnd_prof[i], gpa[i])\n",
    "#print(unique_prof['Avg Grade Received'].values)\n",
    "corr = unique_prof.corr(method='pearson')\n",
    "print(corr)\n",
    "plt.figure(figsize=(15,10))\n",
    "plt.scatter(unique_prof['Rcmnd Instr'].values, unique_prof['Avg Grade Received'].values)\n",
    "plt.title('professor recomended and gpa relationship')\n",
    "plt.show()"
   ]
  },
  {
   "cell_type": "code",
   "execution_count": null,
   "metadata": {},
   "outputs": [],
   "source": []
  }
 ],
 "metadata": {
  "kernelspec": {
   "display_name": "Python 3",
   "language": "python",
   "name": "python3"
  },
  "language_info": {
   "codemirror_mode": {
    "name": "ipython",
    "version": 3
   },
   "file_extension": ".py",
   "mimetype": "text/x-python",
   "name": "python",
   "nbconvert_exporter": "python",
   "pygments_lexer": "ipython3",
   "version": "3.7.1"
  }
 },
 "nbformat": 4,
 "nbformat_minor": 2
}
