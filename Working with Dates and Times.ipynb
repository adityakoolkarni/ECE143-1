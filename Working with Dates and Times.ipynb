{
 "cells": [
  {
   "cell_type": "code",
   "execution_count": 224,
   "metadata": {},
   "outputs": [],
   "source": [
    "#not an external library; it is a module; built into a python package, HOWEVER not activated by defualt;reason is to save memory\n",
    "import pandas as pd\n",
    "import datetime as dt "
   ]
  },
  {
   "cell_type": "markdown",
   "metadata": {},
   "source": [
    "## Review of Python's datetime Module"
   ]
  },
  {
   "cell_type": "code",
   "execution_count": 4,
   "metadata": {},
   "outputs": [],
   "source": [
    "import pandas as pd\n",
    "import datetime as dt"
   ]
  },
  {
   "cell_type": "code",
   "execution_count": 5,
   "metadata": {},
   "outputs": [],
   "source": [
    "#there is a datetime module and a datetime function, so calling datetime.datetime() will be ok but since we import dt as module  we will have dt.datetime()"
   ]
  },
  {
   "cell_type": "code",
   "execution_count": 8,
   "metadata": {},
   "outputs": [
    {
     "data": {
      "text/plain": [
       "datetime.date(2016, 4, 20)"
      ]
     },
     "execution_count": 8,
     "metadata": {},
     "output_type": "execute_result"
    }
   ],
   "source": [
    "dt.date(2016, 4, 20) #store in a variable"
   ]
  },
  {
   "cell_type": "code",
   "execution_count": 11,
   "metadata": {},
   "outputs": [],
   "source": [
    "someday = dt.datetime(2019, 2, 20)"
   ]
  },
  {
   "cell_type": "code",
   "execution_count": 14,
   "metadata": {},
   "outputs": [
    {
     "data": {
      "text/plain": [
       "20"
      ]
     },
     "execution_count": 14,
     "metadata": {},
     "output_type": "execute_result"
    }
   ],
   "source": [
    "someday.year\n",
    "someday.month\n",
    "someday.day"
   ]
  },
  {
   "cell_type": "code",
   "execution_count": 17,
   "metadata": {},
   "outputs": [
    {
     "data": {
      "text/plain": [
       "datetime.datetime(2010, 2, 20, 0, 0)"
      ]
     },
     "execution_count": 17,
     "metadata": {},
     "output_type": "execute_result"
    }
   ],
   "source": [
    "dt.datetime(2010, 2, 20) #datetime object has to have a time as well, if not provided it will replace it with 0"
   ]
  },
  {
   "cell_type": "code",
   "execution_count": 18,
   "metadata": {},
   "outputs": [
    {
     "data": {
      "text/plain": [
       "'2019-02-20 00:00:00'"
      ]
     },
     "execution_count": 18,
     "metadata": {},
     "output_type": "execute_result"
    }
   ],
   "source": [
    "#to make it more readable we need to use the str() method\n",
    "str(someday)"
   ]
  },
  {
   "cell_type": "code",
   "execution_count": 27,
   "metadata": {},
   "outputs": [],
   "source": [
    "sometime = dt.datetime(2010, 2, 10, 12, 2, 2) #store in a variable and check the time, year, day, etc"
   ]
  },
  {
   "cell_type": "code",
   "execution_count": 36,
   "metadata": {},
   "outputs": [
    {
     "data": {
      "text/plain": [
       "2"
      ]
     },
     "execution_count": 36,
     "metadata": {},
     "output_type": "execute_result"
    }
   ],
   "source": [
    "sometime.year\n",
    "sometime.month\n",
    "sometime.day\n",
    "sometime.hour\n",
    "sometime.month\n",
    "sometime.day\n",
    "sometime.second"
   ]
  },
  {
   "cell_type": "markdown",
   "metadata": {},
   "source": [
    "## The pandas Timestamp Object"
   ]
  },
  {
   "cell_type": "code",
   "execution_count": 46,
   "metadata": {},
   "outputs": [
    {
     "data": {
      "text/plain": [
       "Timestamp('2019-08-12 21:00:00')"
      ]
     },
     "execution_count": 46,
     "metadata": {},
     "output_type": "execute_result"
    }
   ],
   "source": [
    "import pandas as pd\n",
    "#the timestamp object is pythons version of the datetime object; pandas is smart enough to recognize year/month/day\n",
    "pd.Timestamp(\"2019-01-22\")\n",
    "pd.Timestamp(\"2019/3/12\")\n",
    "pd.Timestamp(\"4/3/2000\")\n",
    "pd.Timestamp(\"2012/3/14 12:00:00\")\n",
    "pd.Timestamp(\"2019-8-12 9:00:00 PM\")"
   ]
  },
  {
   "cell_type": "code",
   "execution_count": 48,
   "metadata": {},
   "outputs": [
    {
     "data": {
      "text/plain": [
       "Timestamp('2019-12-10 00:00:00')"
      ]
     },
     "execution_count": 48,
     "metadata": {},
     "output_type": "execute_result"
    }
   ],
   "source": [
    "#pass in a datetime object to pandas timestamp method\n",
    "pd.Timestamp(dt.date(2019, 12, 10))"
   ]
  },
  {
   "cell_type": "markdown",
   "metadata": {},
   "source": [
    "## The pandas DateTimeIndex Object"
   ]
  },
  {
   "cell_type": "code",
   "execution_count": 49,
   "metadata": {},
   "outputs": [],
   "source": [
    "dates = [\"2016-01-10\", \"2018-01-18\", \"2010-9-10\"]"
   ]
  },
  {
   "cell_type": "code",
   "execution_count": 50,
   "metadata": {},
   "outputs": [
    {
     "data": {
      "text/plain": [
       "DatetimeIndex(['2016-01-10', '2018-01-18', '2010-09-10'], dtype='datetime64[ns]', freq=None)"
      ]
     },
     "execution_count": 50,
     "metadata": {},
     "output_type": "execute_result"
    }
   ],
   "source": [
    "pd.DatetimeIndex(dates)"
   ]
  },
  {
   "cell_type": "code",
   "execution_count": 52,
   "metadata": {},
   "outputs": [
    {
     "data": {
      "text/plain": [
       "pandas.core.indexes.datetimes.DatetimeIndex"
      ]
     },
     "execution_count": 52,
     "metadata": {},
     "output_type": "execute_result"
    }
   ],
   "source": [
    "type(pd.DatetimeIndex(dates))"
   ]
  },
  {
   "cell_type": "code",
   "execution_count": 57,
   "metadata": {},
   "outputs": [],
   "source": [
    "other_dates = [dt.date(2016, 1, 10), dt.date(2019, 4, 13), dt.date(2018, 3, 14)]\n",
    "dtIndex = pd.DatetimeIndex(other_dates)"
   ]
  },
  {
   "cell_type": "code",
   "execution_count": 58,
   "metadata": {},
   "outputs": [
    {
     "data": {
      "text/plain": [
       "0    100\n",
       "1    200\n",
       "2    300\n",
       "dtype: int64"
      ]
     },
     "execution_count": 58,
     "metadata": {},
     "output_type": "execute_result"
    }
   ],
   "source": [
    "values = [100, 200, 300]\n",
    "pd.Series(data = values)"
   ]
  },
  {
   "cell_type": "code",
   "execution_count": 60,
   "metadata": {},
   "outputs": [
    {
     "data": {
      "text/plain": [
       "2016-01-10    100\n",
       "2019-04-13    200\n",
       "2018-03-14    300\n",
       "dtype: int64"
      ]
     },
     "execution_count": 60,
     "metadata": {},
     "output_type": "execute_result"
    }
   ],
   "source": [
    "pd.Series(data= values, index = dtIndex)"
   ]
  },
  {
   "cell_type": "markdown",
   "metadata": {},
   "source": [
    "## The pd.to_datetime() Method"
   ]
  },
  {
   "cell_type": "code",
   "execution_count": 5,
   "metadata": {},
   "outputs": [],
   "source": [
    "import pandas as pd\n",
    "import datetime as dt"
   ]
  },
  {
   "cell_type": "code",
   "execution_count": 6,
   "metadata": {},
   "outputs": [
    {
     "data": {
      "text/plain": [
       "Timestamp('2001-04-19 00:00:00')"
      ]
     },
     "execution_count": 6,
     "metadata": {},
     "output_type": "execute_result"
    }
   ],
   "source": [
    "pd.to_datetime(\"2001-04-19\")"
   ]
  },
  {
   "cell_type": "code",
   "execution_count": 7,
   "metadata": {},
   "outputs": [
    {
     "data": {
      "text/plain": [
       "Timestamp('2018-12-12 00:00:00')"
      ]
     },
     "execution_count": 7,
     "metadata": {},
     "output_type": "execute_result"
    }
   ],
   "source": [
    "pd.to_datetime(dt.date(2018, 12, 12))"
   ]
  },
  {
   "cell_type": "code",
   "execution_count": 8,
   "metadata": {},
   "outputs": [
    {
     "data": {
      "text/plain": [
       "Timestamp('2019-10-12 12:12:12')"
      ]
     },
     "execution_count": 8,
     "metadata": {},
     "output_type": "execute_result"
    }
   ],
   "source": [
    "pd.to_datetime(dt.datetime(2019, 10, 12, 12, 12, 12))"
   ]
  },
  {
   "cell_type": "code",
   "execution_count": 9,
   "metadata": {},
   "outputs": [
    {
     "data": {
      "text/plain": [
       "DatetimeIndex(['2019-10-10', '2018-12-15', '2017-01-01', '1996-07-04'], dtype='datetime64[ns]', freq=None)"
      ]
     },
     "execution_count": 9,
     "metadata": {},
     "output_type": "execute_result"
    }
   ],
   "source": [
    "pd.to_datetime([\"2019-10-10\", \"2018/12/15\", \"2017\", \"July 4th 1996\"])"
   ]
  },
  {
   "cell_type": "code",
   "execution_count": 10,
   "metadata": {},
   "outputs": [],
   "source": [
    "#to create a series of datetime and store it there as a datetime index\n",
    "times = pd.Series([\"2019-10-10\", \"2018/12/15\", \"2017\", \"July 4th 1996\"])"
   ]
  },
  {
   "cell_type": "code",
   "execution_count": 11,
   "metadata": {},
   "outputs": [
    {
     "data": {
      "text/plain": [
       "0       2019-10-10\n",
       "1       2018/12/15\n",
       "2             2017\n",
       "3    July 4th 1996\n",
       "dtype: object"
      ]
     },
     "execution_count": 11,
     "metadata": {},
     "output_type": "execute_result"
    }
   ],
   "source": [
    "times"
   ]
  },
  {
   "cell_type": "code",
   "execution_count": 12,
   "metadata": {},
   "outputs": [
    {
     "data": {
      "text/plain": [
       "0   2019-10-10\n",
       "1   2018-12-15\n",
       "2   2017-01-01\n",
       "3   1996-07-04\n",
       "dtype: datetime64[ns]"
      ]
     },
     "execution_count": 12,
     "metadata": {},
     "output_type": "execute_result"
    }
   ],
   "source": [
    "pd.to_datetime(times) #pandas can even convert the pandas series of times of different formats to datetime objects"
   ]
  },
  {
   "cell_type": "code",
   "execution_count": 17,
   "metadata": {},
   "outputs": [
    {
     "data": {
      "text/plain": [
       "0    July 4th 1996\n",
       "1       10/04/1991\n",
       "2            Hello\n",
       "3        2015-2-10\n",
       "4        2012-2-31\n",
       "dtype: object"
      ]
     },
     "execution_count": 17,
     "metadata": {},
     "output_type": "execute_result"
    }
   ],
   "source": [
    "pd.Series([\"July 4th 1996\", \"10/04/1991\", \"Hello\", \"2015-2-10\" ,\"2012-2-31\"])"
   ]
  },
  {
   "cell_type": "code",
   "execution_count": 23,
   "metadata": {},
   "outputs": [
    {
     "data": {
      "text/plain": [
       "0    July 4th 1996\n",
       "1       10/04/1991\n",
       "2            Hello\n",
       "3        2015-2-36\n",
       "dtype: object"
      ]
     },
     "execution_count": 23,
     "metadata": {},
     "output_type": "execute_result"
    }
   ],
   "source": [
    "dates = pd.Series([\"July 4th 1996\", \"10/04/1991\", \"Hello\", \"2015-2-36\"])\n",
    "dates"
   ]
  },
  {
   "cell_type": "code",
   "execution_count": 24,
   "metadata": {},
   "outputs": [
    {
     "data": {
      "text/plain": [
       "0   1996-07-04\n",
       "1   1991-10-04\n",
       "2          NaT\n",
       "3          NaT\n",
       "dtype: datetime64[ns]"
      ]
     },
     "execution_count": 24,
     "metadata": {},
     "output_type": "execute_result"
    }
   ],
   "source": [
    "pd.to_datetime(dates, errors=\"coerce\")"
   ]
  },
  {
   "cell_type": "code",
   "execution_count": 27,
   "metadata": {},
   "outputs": [
    {
     "data": {
      "text/plain": [
       "DatetimeIndex(['1974-04-12 03:41:45', '2012-10-09 18:15:05',\n",
       "               '2012-10-10 18:15:05', '2012-10-12 18:15:05'],\n",
       "              dtype='datetime64[ns]', freq=None)"
      ]
     },
     "execution_count": 27,
     "metadata": {},
     "output_type": "execute_result"
    }
   ],
   "source": [
    "#unix time, number of seconds since Janurary 1st 1970\n",
    "pd.to_datetime([134970105, 1349806505, 1349892905, 1350065705], unit=\"s\")"
   ]
  },
  {
   "cell_type": "markdown",
   "metadata": {},
   "source": [
    "## Create Range of Dates with the pd.date_range() Method, Part1 "
   ]
  },
  {
   "cell_type": "code",
   "execution_count": 32,
   "metadata": {},
   "outputs": [],
   "source": [
    "#this is about generating datetime indeces automatically\n",
    "#you provide start date, end date, and range which here is one day\n",
    "times = pd.date_range(start=\"2016-01-01\", end=\"2016-01-10\", freq=\"D\")"
   ]
  },
  {
   "cell_type": "code",
   "execution_count": 33,
   "metadata": {},
   "outputs": [
    {
     "data": {
      "text/plain": [
       "pandas.core.indexes.datetimes.DatetimeIndex"
      ]
     },
     "execution_count": 33,
     "metadata": {},
     "output_type": "execute_result"
    }
   ],
   "source": [
    "type(times)"
   ]
  },
  {
   "cell_type": "code",
   "execution_count": 34,
   "metadata": {},
   "outputs": [
    {
     "data": {
      "text/plain": [
       "pandas._libs.tslibs.timestamps.Timestamp"
      ]
     },
     "execution_count": 34,
     "metadata": {},
     "output_type": "execute_result"
    }
   ],
   "source": [
    "type(times[0])"
   ]
  },
  {
   "cell_type": "code",
   "execution_count": 35,
   "metadata": {},
   "outputs": [
    {
     "data": {
      "text/plain": [
       "DatetimeIndex(['2016-01-01', '2016-01-03', '2016-01-05', '2016-01-07',\n",
       "               '2016-01-09'],\n",
       "              dtype='datetime64[ns]', freq='2D')"
      ]
     },
     "execution_count": 35,
     "metadata": {},
     "output_type": "execute_result"
    }
   ],
   "source": [
    "#will not include the dates if it passes the end because the range is 2D here\n",
    "times2 = pd.date_range(start=\"2016-01-01\", end=\"2016-01-10\", freq=\"2D\")\n",
    "times2"
   ]
  },
  {
   "cell_type": "code",
   "execution_count": 39,
   "metadata": {},
   "outputs": [
    {
     "data": {
      "text/plain": [
       "DatetimeIndex(['2019-01-01', '2019-01-02', '2019-01-03', '2019-01-04',\n",
       "               '2019-01-07', '2019-01-08', '2019-01-09', '2019-01-10'],\n",
       "              dtype='datetime64[ns]', freq='B')"
      ]
     },
     "execution_count": 39,
     "metadata": {},
     "output_type": "execute_result"
    }
   ],
   "source": [
    "#B is for business days only\n",
    "times3 = pd.date_range(start = \"2019-01-01\", end=\"2019-01-10\", freq=\"B\")\n",
    "times3"
   ]
  },
  {
   "cell_type": "code",
   "execution_count": 42,
   "metadata": {},
   "outputs": [
    {
     "data": {
      "text/plain": [
       "DatetimeIndex(['2019-01-06'], dtype='datetime64[ns]', freq='W-SUN')"
      ]
     },
     "execution_count": 42,
     "metadata": {},
     "output_type": "execute_result"
    }
   ],
   "source": [
    "#W means once per week; defaults to SUNDAY\n",
    "times4 = pd.date_range(start=\"2019-01-01\", end=\"2019-01-10\", freq=\"W\")\n",
    "times4"
   ]
  },
  {
   "cell_type": "code",
   "execution_count": 46,
   "metadata": {},
   "outputs": [
    {
     "data": {
      "text/plain": [
       "DatetimeIndex(['2019-01-04', '2019-01-11'], dtype='datetime64[ns]', freq='W-FRI')"
      ]
     },
     "execution_count": 46,
     "metadata": {},
     "output_type": "execute_result"
    }
   ],
   "source": [
    "#we can also change the default on the freq, the example below means start the week on Friday\n",
    "times5 = pd.date_range(start=\"2019-01-01\", end=\"2019-01-15\", freq=\"W-FRI\")\n",
    "times5"
   ]
  },
  {
   "cell_type": "code",
   "execution_count": 48,
   "metadata": {},
   "outputs": [
    {
     "data": {
      "text/plain": [
       "DatetimeIndex(['2019-01-01 00:00:00', '2019-01-01 01:00:00',\n",
       "               '2019-01-01 02:00:00', '2019-01-01 03:00:00',\n",
       "               '2019-01-01 04:00:00', '2019-01-01 05:00:00',\n",
       "               '2019-01-01 06:00:00', '2019-01-01 07:00:00',\n",
       "               '2019-01-01 08:00:00', '2019-01-01 09:00:00',\n",
       "               ...\n",
       "               '2019-01-13 15:00:00', '2019-01-13 16:00:00',\n",
       "               '2019-01-13 17:00:00', '2019-01-13 18:00:00',\n",
       "               '2019-01-13 19:00:00', '2019-01-13 20:00:00',\n",
       "               '2019-01-13 21:00:00', '2019-01-13 22:00:00',\n",
       "               '2019-01-13 23:00:00', '2019-01-14 00:00:00'],\n",
       "              dtype='datetime64[ns]', length=313, freq='H')"
      ]
     },
     "execution_count": 48,
     "metadata": {},
     "output_type": "execute_result"
    }
   ],
   "source": [
    "#H for frequency means hoursly; increments can be changed ie 6H, 10H, etc\n",
    "times6 = pd.date_range(start=\"2019-01-01\", end=\"2019-01-14\", freq=\"H\")\n",
    "times6"
   ]
  },
  {
   "cell_type": "code",
   "execution_count": 50,
   "metadata": {},
   "outputs": [
    {
     "data": {
      "text/plain": [
       "DatetimeIndex(['2019-01-31', '2019-02-28'], dtype='datetime64[ns]', freq='M')"
      ]
     },
     "execution_count": 50,
     "metadata": {},
     "output_type": "execute_result"
    }
   ],
   "source": [
    "#M means the last day of every month\n",
    "times7 = pd.date_range(start=\"2019-01-10\", end=\"2019-03-10\", freq=\"M\")\n",
    "times7"
   ]
  },
  {
   "cell_type": "code",
   "execution_count": 52,
   "metadata": {},
   "outputs": [
    {
     "data": {
      "text/plain": [
       "DatetimeIndex(['2019-11-01', '2019-12-01', '2020-01-01', '2020-02-01',\n",
       "               '2020-03-01', '2020-04-01', '2020-05-01', '2020-06-01',\n",
       "               '2020-07-01', '2020-08-01',\n",
       "               ...\n",
       "               '2090-03-01', '2090-04-01', '2090-05-01', '2090-06-01',\n",
       "               '2090-07-01', '2090-08-01', '2090-09-01', '2090-10-01',\n",
       "               '2090-11-01', '2090-12-01'],\n",
       "              dtype='datetime64[ns]', length=854, freq='MS')"
      ]
     },
     "execution_count": 52,
     "metadata": {},
     "output_type": "execute_result"
    }
   ],
   "source": [
    "#MS means the beginning of every month\n",
    "times8 = pd.date_range(start=\"2019-10-10\", end=\"2090-12-10\", freq=\"MS\")\n",
    "times8"
   ]
  },
  {
   "cell_type": "code",
   "execution_count": 53,
   "metadata": {},
   "outputs": [
    {
     "data": {
      "text/plain": [
       "DatetimeIndex(['2019-12-31', '2020-12-31', '2021-12-31', '2022-12-31',\n",
       "               '2023-12-31', '2024-12-31', '2025-12-31', '2026-12-31',\n",
       "               '2027-12-31', '2028-12-31'],\n",
       "              dtype='datetime64[ns]', freq='A-DEC')"
      ]
     },
     "execution_count": 53,
     "metadata": {},
     "output_type": "execute_result"
    }
   ],
   "source": [
    "#A means the end of every year\n",
    "times9 = pd.date_range(start=\"2019-10-10\", end=\"2029-10-10\", freq=\"A\")\n",
    "times9"
   ]
  },
  {
   "cell_type": "markdown",
   "metadata": {},
   "source": [
    "## Create Range of Dates with the pd.date_range() Method, Part 2"
   ]
  },
  {
   "cell_type": "code",
   "execution_count": 61,
   "metadata": {},
   "outputs": [
    {
     "data": {
      "text/plain": [
       "DatetimeIndex(['2012-09-09', '2012-09-10', '2012-09-11', '2012-09-12',\n",
       "               '2012-09-13', '2012-09-14', '2012-09-15', '2012-09-16',\n",
       "               '2012-09-17', '2012-09-18', '2012-09-19', '2012-09-20',\n",
       "               '2012-09-21', '2012-09-22', '2012-09-23', '2012-09-24',\n",
       "               '2012-09-25', '2012-09-26', '2012-09-27', '2012-09-28',\n",
       "               '2012-09-29', '2012-09-30', '2012-10-01', '2012-10-02',\n",
       "               '2012-10-03'],\n",
       "              dtype='datetime64[ns]', freq='D')"
      ]
     },
     "execution_count": 61,
     "metadata": {},
     "output_type": "execute_result"
    }
   ],
   "source": [
    "#periods specifies how many times you want to get results by the period specfied, every freq times\n",
    "#the ferq can change to B, W, A, etc\n",
    "times1 = pd.date_range(start=\"2012-09-09\",periods=25,freq=\"D\")\n",
    "times1"
   ]
  },
  {
   "cell_type": "code",
   "execution_count": 65,
   "metadata": {
    "scrolled": true
   },
   "outputs": [
    {
     "data": {
      "text/plain": [
       "DatetimeIndex(['2012-09-09', '2012-09-16', '2012-09-23', '2012-09-30',\n",
       "               '2012-10-07', '2012-10-14', '2012-10-21', '2012-10-28',\n",
       "               '2012-11-04', '2012-11-11', '2012-11-18', '2012-11-25',\n",
       "               '2012-12-02', '2012-12-09', '2012-12-16', '2012-12-23',\n",
       "               '2012-12-30', '2013-01-06', '2013-01-13', '2013-01-20',\n",
       "               '2013-01-27', '2013-02-03', '2013-02-10', '2013-02-17',\n",
       "               '2013-02-24', '2013-03-03', '2013-03-10', '2013-03-17',\n",
       "               '2013-03-24', '2013-03-31', '2013-04-07', '2013-04-14',\n",
       "               '2013-04-21', '2013-04-28', '2013-05-05', '2013-05-12',\n",
       "               '2013-05-19', '2013-05-26', '2013-06-02', '2013-06-09',\n",
       "               '2013-06-16', '2013-06-23', '2013-06-30', '2013-07-07',\n",
       "               '2013-07-14', '2013-07-21', '2013-07-28', '2013-08-04',\n",
       "               '2013-08-11', '2013-08-18'],\n",
       "              dtype='datetime64[ns]', freq='W-SUN')"
      ]
     },
     "execution_count": 65,
     "metadata": {},
     "output_type": "execute_result"
    }
   ],
   "source": [
    "#will represent 50 weeks from start date with every week starting at sunday\n",
    "times2 = pd.date_range(start=\"2012-09-09\", periods=50, freq=\"W\")\n",
    "times2"
   ]
  },
  {
   "cell_type": "code",
   "execution_count": 68,
   "metadata": {
    "scrolled": true
   },
   "outputs": [
    {
     "data": {
      "text/plain": [
       "DatetimeIndex(['2012-09-09 00:00:00', '2012-09-09 06:00:00',\n",
       "               '2012-09-09 12:00:00', '2012-09-09 18:00:00',\n",
       "               '2012-09-10 00:00:00', '2012-09-10 06:00:00',\n",
       "               '2012-09-10 12:00:00', '2012-09-10 18:00:00',\n",
       "               '2012-09-11 00:00:00', '2012-09-11 06:00:00',\n",
       "               '2012-09-11 12:00:00', '2012-09-11 18:00:00',\n",
       "               '2012-09-12 00:00:00', '2012-09-12 06:00:00',\n",
       "               '2012-09-12 12:00:00', '2012-09-12 18:00:00',\n",
       "               '2012-09-13 00:00:00', '2012-09-13 06:00:00',\n",
       "               '2012-09-13 12:00:00', '2012-09-13 18:00:00',\n",
       "               '2012-09-14 00:00:00', '2012-09-14 06:00:00',\n",
       "               '2012-09-14 12:00:00', '2012-09-14 18:00:00',\n",
       "               '2012-09-15 00:00:00', '2012-09-15 06:00:00',\n",
       "               '2012-09-15 12:00:00', '2012-09-15 18:00:00',\n",
       "               '2012-09-16 00:00:00', '2012-09-16 06:00:00',\n",
       "               '2012-09-16 12:00:00', '2012-09-16 18:00:00',\n",
       "               '2012-09-17 00:00:00', '2012-09-17 06:00:00',\n",
       "               '2012-09-17 12:00:00', '2012-09-17 18:00:00',\n",
       "               '2012-09-18 00:00:00', '2012-09-18 06:00:00',\n",
       "               '2012-09-18 12:00:00', '2012-09-18 18:00:00',\n",
       "               '2012-09-19 00:00:00', '2012-09-19 06:00:00',\n",
       "               '2012-09-19 12:00:00', '2012-09-19 18:00:00',\n",
       "               '2012-09-20 00:00:00', '2012-09-20 06:00:00',\n",
       "               '2012-09-20 12:00:00', '2012-09-20 18:00:00',\n",
       "               '2012-09-21 00:00:00', '2012-09-21 06:00:00'],\n",
       "              dtype='datetime64[ns]', freq='6H')"
      ]
     },
     "execution_count": 68,
     "metadata": {},
     "output_type": "execute_result"
    }
   ],
   "source": [
    "#generate every 6 hours\n",
    "times3 = pd.date_range(start=\"2012-09-09\", periods=50, freq=\"6H\")\n",
    "times3"
   ]
  },
  {
   "cell_type": "markdown",
   "metadata": {},
   "source": [
    "## Create Range of Dates with the pd.date_range() Method, Part 3"
   ]
  },
  {
   "cell_type": "code",
   "execution_count": 72,
   "metadata": {},
   "outputs": [
    {
     "data": {
      "text/plain": [
       "DatetimeIndex(['1999-11-12', '1999-11-13', '1999-11-14', '1999-11-15',\n",
       "               '1999-11-16', '1999-11-17', '1999-11-18', '1999-11-19',\n",
       "               '1999-11-20', '1999-11-21', '1999-11-22', '1999-11-23',\n",
       "               '1999-11-24', '1999-11-25', '1999-11-26', '1999-11-27',\n",
       "               '1999-11-28', '1999-11-29', '1999-11-30', '1999-12-01',\n",
       "               '1999-12-02', '1999-12-03', '1999-12-04', '1999-12-05',\n",
       "               '1999-12-06', '1999-12-07', '1999-12-08', '1999-12-09',\n",
       "               '1999-12-10', '1999-12-11', '1999-12-12', '1999-12-13',\n",
       "               '1999-12-14', '1999-12-15', '1999-12-16', '1999-12-17',\n",
       "               '1999-12-18', '1999-12-19', '1999-12-20', '1999-12-21',\n",
       "               '1999-12-22', '1999-12-23', '1999-12-24', '1999-12-25',\n",
       "               '1999-12-26', '1999-12-27', '1999-12-28', '1999-12-29',\n",
       "               '1999-12-30', '1999-12-31'],\n",
       "              dtype='datetime64[ns]', freq='D')"
      ]
     },
     "execution_count": 72,
     "metadata": {},
     "output_type": "execute_result"
    }
   ],
   "source": [
    "#start with an end date and go back \"preiod\" number of times for once every day\n",
    "times1 = pd.date_range(end=\"1999-12-31\", periods=50, freq=\"D\")\n",
    "times1"
   ]
  },
  {
   "cell_type": "code",
   "execution_count": 75,
   "metadata": {},
   "outputs": [
    {
     "data": {
      "text/plain": [
       "DatetimeIndex(['1999-11-12', '1999-11-13', '1999-11-14', '1999-11-15',\n",
       "               '1999-11-16', '1999-11-17', '1999-11-18', '1999-11-19',\n",
       "               '1999-11-20', '1999-11-21', '1999-11-22', '1999-11-23',\n",
       "               '1999-11-24', '1999-11-25', '1999-11-26', '1999-11-27',\n",
       "               '1999-11-28', '1999-11-29', '1999-11-30', '1999-12-01',\n",
       "               '1999-12-02', '1999-12-03', '1999-12-04', '1999-12-05',\n",
       "               '1999-12-06', '1999-12-07', '1999-12-08', '1999-12-09',\n",
       "               '1999-12-10', '1999-12-11', '1999-12-12', '1999-12-13',\n",
       "               '1999-12-14', '1999-12-15', '1999-12-16', '1999-12-17',\n",
       "               '1999-12-18', '1999-12-19', '1999-12-20', '1999-12-21',\n",
       "               '1999-12-22', '1999-12-23', '1999-12-24', '1999-12-25',\n",
       "               '1999-12-26', '1999-12-27', '1999-12-28', '1999-12-29',\n",
       "               '1999-12-30', '1999-12-31'],\n",
       "              dtype='datetime64[ns]', freq='D')"
      ]
     },
     "execution_count": 75,
     "metadata": {},
     "output_type": "execute_result"
    }
   ],
   "source": [
    "#give an end datea nd go back 40 times for every week day on Sundays\n",
    "times2 = pd.date_range(end=\"1999-12-31\", periods=50, freq=\"D\")\n",
    "times2"
   ]
  },
  {
   "cell_type": "code",
   "execution_count": 76,
   "metadata": {},
   "outputs": [],
   "source": [
    "#All the other frequency values apply to this method"
   ]
  },
  {
   "cell_type": "markdown",
   "metadata": {},
   "source": [
    "## The .dt Accessor"
   ]
  },
  {
   "cell_type": "code",
   "execution_count": 78,
   "metadata": {},
   "outputs": [],
   "source": [
    "#similar to the str accessor\n",
    "bunch_of_dates = pd.date_range(start=\"2000-01-01\", end=\"2010-12-31\", freq=\"24D\")"
   ]
  },
  {
   "cell_type": "code",
   "execution_count": 79,
   "metadata": {
    "scrolled": true
   },
   "outputs": [
    {
     "data": {
      "text/plain": [
       "0     2000-01-01\n",
       "1     2000-01-25\n",
       "2     2000-02-18\n",
       "3     2000-03-13\n",
       "4     2000-04-06\n",
       "5     2000-04-30\n",
       "6     2000-05-24\n",
       "7     2000-06-17\n",
       "8     2000-07-11\n",
       "9     2000-08-04\n",
       "10    2000-08-28\n",
       "11    2000-09-21\n",
       "12    2000-10-15\n",
       "13    2000-11-08\n",
       "14    2000-12-02\n",
       "15    2000-12-26\n",
       "16    2001-01-19\n",
       "17    2001-02-12\n",
       "18    2001-03-08\n",
       "19    2001-04-01\n",
       "20    2001-04-25\n",
       "21    2001-05-19\n",
       "22    2001-06-12\n",
       "23    2001-07-06\n",
       "24    2001-07-30\n",
       "25    2001-08-23\n",
       "26    2001-09-16\n",
       "27    2001-10-10\n",
       "28    2001-11-03\n",
       "29    2001-11-27\n",
       "         ...    \n",
       "138   2009-01-25\n",
       "139   2009-02-18\n",
       "140   2009-03-14\n",
       "141   2009-04-07\n",
       "142   2009-05-01\n",
       "143   2009-05-25\n",
       "144   2009-06-18\n",
       "145   2009-07-12\n",
       "146   2009-08-05\n",
       "147   2009-08-29\n",
       "148   2009-09-22\n",
       "149   2009-10-16\n",
       "150   2009-11-09\n",
       "151   2009-12-03\n",
       "152   2009-12-27\n",
       "153   2010-01-20\n",
       "154   2010-02-13\n",
       "155   2010-03-09\n",
       "156   2010-04-02\n",
       "157   2010-04-26\n",
       "158   2010-05-20\n",
       "159   2010-06-13\n",
       "160   2010-07-07\n",
       "161   2010-07-31\n",
       "162   2010-08-24\n",
       "163   2010-09-17\n",
       "164   2010-10-11\n",
       "165   2010-11-04\n",
       "166   2010-11-28\n",
       "167   2010-12-22\n",
       "Length: 168, dtype: datetime64[ns]"
      ]
     },
     "execution_count": 79,
     "metadata": {},
     "output_type": "execute_result"
    }
   ],
   "source": [
    "s = pd.Series(bunch_of_dates)\n",
    "s"
   ]
  },
  {
   "cell_type": "code",
   "execution_count": 82,
   "metadata": {
    "scrolled": true
   },
   "outputs": [
    {
     "data": {
      "text/plain": [
       "0       1\n",
       "1      25\n",
       "2      18\n",
       "3      13\n",
       "4       6\n",
       "5      30\n",
       "6      24\n",
       "7      17\n",
       "8      11\n",
       "9       4\n",
       "10     28\n",
       "11     21\n",
       "12     15\n",
       "13      8\n",
       "14      2\n",
       "15     26\n",
       "16     19\n",
       "17     12\n",
       "18      8\n",
       "19      1\n",
       "20     25\n",
       "21     19\n",
       "22     12\n",
       "23      6\n",
       "24     30\n",
       "25     23\n",
       "26     16\n",
       "27     10\n",
       "28      3\n",
       "29     27\n",
       "       ..\n",
       "138    25\n",
       "139    18\n",
       "140    14\n",
       "141     7\n",
       "142     1\n",
       "143    25\n",
       "144    18\n",
       "145    12\n",
       "146     5\n",
       "147    29\n",
       "148    22\n",
       "149    16\n",
       "150     9\n",
       "151     3\n",
       "152    27\n",
       "153    20\n",
       "154    13\n",
       "155     9\n",
       "156     2\n",
       "157    26\n",
       "158    20\n",
       "159    13\n",
       "160     7\n",
       "161    31\n",
       "162    24\n",
       "163    17\n",
       "164    11\n",
       "165     4\n",
       "166    28\n",
       "167    22\n",
       "Length: 168, dtype: int64"
      ]
     },
     "execution_count": 82,
     "metadata": {},
     "output_type": "execute_result"
    }
   ],
   "source": [
    "#let's say we want to extract all the dates; must use the dt accessor to get the day\n",
    "s.dt.day"
   ]
  },
  {
   "cell_type": "code",
   "execution_count": 84,
   "metadata": {
    "scrolled": true
   },
   "outputs": [
    {
     "data": {
      "text/plain": [
       "0       Saturday\n",
       "1        Tuesday\n",
       "2         Friday\n",
       "3         Monday\n",
       "4       Thursday\n",
       "5         Sunday\n",
       "6      Wednesday\n",
       "7       Saturday\n",
       "8        Tuesday\n",
       "9         Friday\n",
       "10        Monday\n",
       "11      Thursday\n",
       "12        Sunday\n",
       "13     Wednesday\n",
       "14      Saturday\n",
       "15       Tuesday\n",
       "16        Friday\n",
       "17        Monday\n",
       "18      Thursday\n",
       "19        Sunday\n",
       "20     Wednesday\n",
       "21      Saturday\n",
       "22       Tuesday\n",
       "23        Friday\n",
       "24        Monday\n",
       "25      Thursday\n",
       "26        Sunday\n",
       "27     Wednesday\n",
       "28      Saturday\n",
       "29       Tuesday\n",
       "         ...    \n",
       "138       Sunday\n",
       "139    Wednesday\n",
       "140     Saturday\n",
       "141      Tuesday\n",
       "142       Friday\n",
       "143       Monday\n",
       "144     Thursday\n",
       "145       Sunday\n",
       "146    Wednesday\n",
       "147     Saturday\n",
       "148      Tuesday\n",
       "149       Friday\n",
       "150       Monday\n",
       "151     Thursday\n",
       "152       Sunday\n",
       "153    Wednesday\n",
       "154     Saturday\n",
       "155      Tuesday\n",
       "156       Friday\n",
       "157       Monday\n",
       "158     Thursday\n",
       "159       Sunday\n",
       "160    Wednesday\n",
       "161     Saturday\n",
       "162      Tuesday\n",
       "163       Friday\n",
       "164       Monday\n",
       "165     Thursday\n",
       "166       Sunday\n",
       "167    Wednesday\n",
       "Length: 168, dtype: object"
      ]
     },
     "execution_count": 84,
     "metadata": {},
     "output_type": "execute_result"
    }
   ],
   "source": [
    "s.dt.weekday_name"
   ]
  },
  {
   "cell_type": "code",
   "execution_count": 85,
   "metadata": {
    "scrolled": true
   },
   "outputs": [
    {
     "data": {
      "text/plain": [
       "0       True\n",
       "1      False\n",
       "2      False\n",
       "3      False\n",
       "4      False\n",
       "5      False\n",
       "6      False\n",
       "7      False\n",
       "8      False\n",
       "9      False\n",
       "10     False\n",
       "11     False\n",
       "12     False\n",
       "13     False\n",
       "14     False\n",
       "15     False\n",
       "16     False\n",
       "17     False\n",
       "18     False\n",
       "19      True\n",
       "20     False\n",
       "21     False\n",
       "22     False\n",
       "23     False\n",
       "24     False\n",
       "25     False\n",
       "26     False\n",
       "27     False\n",
       "28     False\n",
       "29     False\n",
       "       ...  \n",
       "138    False\n",
       "139    False\n",
       "140    False\n",
       "141    False\n",
       "142    False\n",
       "143    False\n",
       "144    False\n",
       "145    False\n",
       "146    False\n",
       "147    False\n",
       "148    False\n",
       "149    False\n",
       "150    False\n",
       "151    False\n",
       "152    False\n",
       "153    False\n",
       "154    False\n",
       "155    False\n",
       "156    False\n",
       "157    False\n",
       "158    False\n",
       "159    False\n",
       "160    False\n",
       "161    False\n",
       "162    False\n",
       "163    False\n",
       "164    False\n",
       "165    False\n",
       "166    False\n",
       "167    False\n",
       "Length: 168, dtype: bool"
      ]
     },
     "execution_count": 85,
     "metadata": {},
     "output_type": "execute_result"
    }
   ],
   "source": [
    "s.dt.is_quarter_start"
   ]
  },
  {
   "cell_type": "code",
   "execution_count": 86,
   "metadata": {},
   "outputs": [],
   "source": [
    "mask = s.dt.is_month_end"
   ]
  },
  {
   "cell_type": "code",
   "execution_count": 87,
   "metadata": {
    "scrolled": true
   },
   "outputs": [
    {
     "data": {
      "text/plain": [
       "0      False\n",
       "1      False\n",
       "2      False\n",
       "3      False\n",
       "4      False\n",
       "5       True\n",
       "6      False\n",
       "7      False\n",
       "8      False\n",
       "9      False\n",
       "10     False\n",
       "11     False\n",
       "12     False\n",
       "13     False\n",
       "14     False\n",
       "15     False\n",
       "16     False\n",
       "17     False\n",
       "18     False\n",
       "19     False\n",
       "20     False\n",
       "21     False\n",
       "22     False\n",
       "23     False\n",
       "24     False\n",
       "25     False\n",
       "26     False\n",
       "27     False\n",
       "28     False\n",
       "29     False\n",
       "       ...  \n",
       "138    False\n",
       "139    False\n",
       "140    False\n",
       "141    False\n",
       "142    False\n",
       "143    False\n",
       "144    False\n",
       "145    False\n",
       "146    False\n",
       "147    False\n",
       "148    False\n",
       "149    False\n",
       "150    False\n",
       "151    False\n",
       "152    False\n",
       "153    False\n",
       "154    False\n",
       "155    False\n",
       "156    False\n",
       "157    False\n",
       "158    False\n",
       "159    False\n",
       "160    False\n",
       "161     True\n",
       "162    False\n",
       "163    False\n",
       "164    False\n",
       "165    False\n",
       "166    False\n",
       "167    False\n",
       "Length: 168, dtype: bool"
      ]
     },
     "execution_count": 87,
     "metadata": {},
     "output_type": "execute_result"
    }
   ],
   "source": [
    "mask"
   ]
  },
  {
   "cell_type": "markdown",
   "metadata": {},
   "source": [
    "## import Financial Data Set with pandas_datareader Library"
   ]
  },
  {
   "cell_type": "code",
   "execution_count": 91,
   "metadata": {},
   "outputs": [],
   "source": [
    "import pandas as pd\n",
    "import datetime as dt\n",
    "from pandas_datareader import data #import only a specific chunk of the library"
   ]
  },
  {
   "cell_type": "code",
   "execution_count": 97,
   "metadata": {},
   "outputs": [
    {
     "data": {
      "text/html": [
       "<div>\n",
       "<style scoped>\n",
       "    .dataframe tbody tr th:only-of-type {\n",
       "        vertical-align: middle;\n",
       "    }\n",
       "\n",
       "    .dataframe tbody tr th {\n",
       "        vertical-align: top;\n",
       "    }\n",
       "\n",
       "    .dataframe thead th {\n",
       "        text-align: right;\n",
       "    }\n",
       "</style>\n",
       "<table border=\"1\" class=\"dataframe\">\n",
       "  <thead>\n",
       "    <tr style=\"text-align: right;\">\n",
       "      <th></th>\n",
       "      <th>High</th>\n",
       "      <th>Low</th>\n",
       "      <th>Open</th>\n",
       "      <th>Close</th>\n",
       "      <th>Volume</th>\n",
       "      <th>Adj Close</th>\n",
       "    </tr>\n",
       "    <tr>\n",
       "      <th>Date</th>\n",
       "      <th></th>\n",
       "      <th></th>\n",
       "      <th></th>\n",
       "      <th></th>\n",
       "      <th></th>\n",
       "      <th></th>\n",
       "    </tr>\n",
       "  </thead>\n",
       "  <tbody>\n",
       "    <tr>\n",
       "      <th>2010-01-04</th>\n",
       "      <td>31.10</td>\n",
       "      <td>30.590000</td>\n",
       "      <td>30.620001</td>\n",
       "      <td>30.950001</td>\n",
       "      <td>38409100.0</td>\n",
       "      <td>24.443624</td>\n",
       "    </tr>\n",
       "    <tr>\n",
       "      <th>2010-01-05</th>\n",
       "      <td>31.10</td>\n",
       "      <td>30.639999</td>\n",
       "      <td>30.850000</td>\n",
       "      <td>30.959999</td>\n",
       "      <td>49749600.0</td>\n",
       "      <td>24.451517</td>\n",
       "    </tr>\n",
       "    <tr>\n",
       "      <th>2010-01-06</th>\n",
       "      <td>31.08</td>\n",
       "      <td>30.520000</td>\n",
       "      <td>30.879999</td>\n",
       "      <td>30.770000</td>\n",
       "      <td>58182400.0</td>\n",
       "      <td>24.301458</td>\n",
       "    </tr>\n",
       "  </tbody>\n",
       "</table>\n",
       "</div>"
      ],
      "text/plain": [
       "             High        Low       Open      Close      Volume  Adj Close\n",
       "Date                                                                     \n",
       "2010-01-04  31.10  30.590000  30.620001  30.950001  38409100.0  24.443624\n",
       "2010-01-05  31.10  30.639999  30.850000  30.959999  49749600.0  24.451517\n",
       "2010-01-06  31.08  30.520000  30.879999  30.770000  58182400.0  24.301458"
      ]
     },
     "execution_count": 97,
     "metadata": {},
     "output_type": "execute_result"
    }
   ],
   "source": [
    "company=\"MSFT\"\n",
    "start = \"2010-01-01\"\n",
    "end = \"2017-12-31\"\n",
    "stocks = data.DataReader(name=company, data_source=\"yahoo\", start = start, end = end)\n",
    "stocks.head(3)"
   ]
  },
  {
   "cell_type": "code",
   "execution_count": 102,
   "metadata": {},
   "outputs": [
    {
     "data": {
      "text/plain": [
       "DatetimeIndex(['2010-01-04', '2010-01-05', '2010-01-06', '2010-01-07',\n",
       "               '2010-01-08', '2010-01-11', '2010-01-12', '2010-01-13',\n",
       "               '2010-01-14', '2010-01-15',\n",
       "               ...\n",
       "               '2017-12-15', '2017-12-18', '2017-12-19', '2017-12-20',\n",
       "               '2017-12-21', '2017-12-22', '2017-12-26', '2017-12-27',\n",
       "               '2017-12-28', '2017-12-29'],\n",
       "              dtype='datetime64[ns]', name='Date', length=2013, freq=None)"
      ]
     },
     "execution_count": 102,
     "metadata": {},
     "output_type": "execute_result"
    }
   ],
   "source": [
    "stocks.values #all the values for each of the columns in the multi dimensional array\n",
    "stocks.columns\n",
    "stocks.index #the index is of type datetime"
   ]
  },
  {
   "cell_type": "markdown",
   "metadata": {},
   "source": [
    "## Selecting from a DataFrame with a DateTimeIndex"
   ]
  },
  {
   "cell_type": "code",
   "execution_count": 103,
   "metadata": {},
   "outputs": [
    {
     "data": {
      "text/html": [
       "<div>\n",
       "<style scoped>\n",
       "    .dataframe tbody tr th:only-of-type {\n",
       "        vertical-align: middle;\n",
       "    }\n",
       "\n",
       "    .dataframe tbody tr th {\n",
       "        vertical-align: top;\n",
       "    }\n",
       "\n",
       "    .dataframe thead th {\n",
       "        text-align: right;\n",
       "    }\n",
       "</style>\n",
       "<table border=\"1\" class=\"dataframe\">\n",
       "  <thead>\n",
       "    <tr style=\"text-align: right;\">\n",
       "      <th></th>\n",
       "      <th>High</th>\n",
       "      <th>Low</th>\n",
       "      <th>Open</th>\n",
       "      <th>Close</th>\n",
       "      <th>Volume</th>\n",
       "      <th>Adj Close</th>\n",
       "    </tr>\n",
       "    <tr>\n",
       "      <th>Date</th>\n",
       "      <th></th>\n",
       "      <th></th>\n",
       "      <th></th>\n",
       "      <th></th>\n",
       "      <th></th>\n",
       "      <th></th>\n",
       "    </tr>\n",
       "  </thead>\n",
       "  <tbody>\n",
       "    <tr>\n",
       "      <th>2010-01-04</th>\n",
       "      <td>31.10</td>\n",
       "      <td>30.590000</td>\n",
       "      <td>30.620001</td>\n",
       "      <td>30.950001</td>\n",
       "      <td>38409100.0</td>\n",
       "      <td>24.443624</td>\n",
       "    </tr>\n",
       "    <tr>\n",
       "      <th>2010-01-05</th>\n",
       "      <td>31.10</td>\n",
       "      <td>30.639999</td>\n",
       "      <td>30.850000</td>\n",
       "      <td>30.959999</td>\n",
       "      <td>49749600.0</td>\n",
       "      <td>24.451517</td>\n",
       "    </tr>\n",
       "    <tr>\n",
       "      <th>2010-01-06</th>\n",
       "      <td>31.08</td>\n",
       "      <td>30.520000</td>\n",
       "      <td>30.879999</td>\n",
       "      <td>30.770000</td>\n",
       "      <td>58182400.0</td>\n",
       "      <td>24.301458</td>\n",
       "    </tr>\n",
       "  </tbody>\n",
       "</table>\n",
       "</div>"
      ],
      "text/plain": [
       "             High        Low       Open      Close      Volume  Adj Close\n",
       "Date                                                                     \n",
       "2010-01-04  31.10  30.590000  30.620001  30.950001  38409100.0  24.443624\n",
       "2010-01-05  31.10  30.639999  30.850000  30.959999  49749600.0  24.451517\n",
       "2010-01-06  31.08  30.520000  30.879999  30.770000  58182400.0  24.301458"
      ]
     },
     "execution_count": 103,
     "metadata": {},
     "output_type": "execute_result"
    }
   ],
   "source": [
    "stocks = data.DataReader(name = company, data_source=\"yahoo\", start = start, end = end)\n",
    "stocks.head(3)"
   ]
  },
  {
   "cell_type": "code",
   "execution_count": 107,
   "metadata": {},
   "outputs": [
    {
     "data": {
      "text/plain": [
       "DatetimeIndex(['1991-04-12', '1992-04-12', '1993-04-12', '1994-04-12',\n",
       "               '1995-04-12', '1996-04-12', '1997-04-12', '1998-04-12',\n",
       "               '1999-04-12', '2000-04-12', '2001-04-12', '2002-04-12',\n",
       "               '2003-04-12', '2004-04-12', '2005-04-12', '2006-04-12',\n",
       "               '2007-04-12', '2008-04-12', '2009-04-12', '2010-04-12',\n",
       "               '2011-04-12', '2012-04-12', '2013-04-12', '2014-04-12',\n",
       "               '2015-04-12', '2016-04-12', '2017-04-12'],\n",
       "              dtype='datetime64[ns]', freq='<DateOffset: years=1>')"
      ]
     },
     "execution_count": 107,
     "metadata": {},
     "output_type": "execute_result"
    }
   ],
   "source": [
    "#this is saying make the frequency one year from the give start date\n",
    "birthdays = pd.date_range(start = \"1991-04-12\", end=\"2017-12-31\", freq = pd.DateOffset(years = 1))\n",
    "birthdays"
   ]
  },
  {
   "cell_type": "code",
   "execution_count": 109,
   "metadata": {},
   "outputs": [
    {
     "data": {
      "text/plain": [
       "array([False, False, False, ..., False, False, False])"
      ]
     },
     "execution_count": 109,
     "metadata": {},
     "output_type": "execute_result"
    }
   ],
   "source": [
    "stocks.index.isin(birthdays)"
   ]
  },
  {
   "cell_type": "code",
   "execution_count": 110,
   "metadata": {},
   "outputs": [],
   "source": [
    "mask = stocks.index.isin(birthdays)"
   ]
  },
  {
   "cell_type": "code",
   "execution_count": 111,
   "metadata": {},
   "outputs": [
    {
     "data": {
      "text/html": [
       "<div>\n",
       "<style scoped>\n",
       "    .dataframe tbody tr th:only-of-type {\n",
       "        vertical-align: middle;\n",
       "    }\n",
       "\n",
       "    .dataframe tbody tr th {\n",
       "        vertical-align: top;\n",
       "    }\n",
       "\n",
       "    .dataframe thead th {\n",
       "        text-align: right;\n",
       "    }\n",
       "</style>\n",
       "<table border=\"1\" class=\"dataframe\">\n",
       "  <thead>\n",
       "    <tr style=\"text-align: right;\">\n",
       "      <th></th>\n",
       "      <th>High</th>\n",
       "      <th>Low</th>\n",
       "      <th>Open</th>\n",
       "      <th>Close</th>\n",
       "      <th>Volume</th>\n",
       "      <th>Adj Close</th>\n",
       "    </tr>\n",
       "    <tr>\n",
       "      <th>Date</th>\n",
       "      <th></th>\n",
       "      <th></th>\n",
       "      <th></th>\n",
       "      <th></th>\n",
       "      <th></th>\n",
       "      <th></th>\n",
       "    </tr>\n",
       "  </thead>\n",
       "  <tbody>\n",
       "    <tr>\n",
       "      <th>2010-04-12</th>\n",
       "      <td>30.490000</td>\n",
       "      <td>30.209999</td>\n",
       "      <td>30.250000</td>\n",
       "      <td>30.320000</td>\n",
       "      <td>37068800.0</td>\n",
       "      <td>24.058039</td>\n",
       "    </tr>\n",
       "    <tr>\n",
       "      <th>2011-04-12</th>\n",
       "      <td>25.850000</td>\n",
       "      <td>25.549999</td>\n",
       "      <td>25.830000</td>\n",
       "      <td>25.639999</td>\n",
       "      <td>36920400.0</td>\n",
       "      <td>20.793827</td>\n",
       "    </tr>\n",
       "    <tr>\n",
       "      <th>2012-04-12</th>\n",
       "      <td>31.040001</td>\n",
       "      <td>30.420000</td>\n",
       "      <td>30.480000</td>\n",
       "      <td>30.980000</td>\n",
       "      <td>38304000.0</td>\n",
       "      <td>25.809261</td>\n",
       "    </tr>\n",
       "    <tr>\n",
       "      <th>2013-04-12</th>\n",
       "      <td>29.020000</td>\n",
       "      <td>28.660000</td>\n",
       "      <td>28.850000</td>\n",
       "      <td>28.790001</td>\n",
       "      <td>62886300.0</td>\n",
       "      <td>24.704655</td>\n",
       "    </tr>\n",
       "    <tr>\n",
       "      <th>2016-04-12</th>\n",
       "      <td>54.779999</td>\n",
       "      <td>53.759998</td>\n",
       "      <td>54.369999</td>\n",
       "      <td>54.650002</td>\n",
       "      <td>24944300.0</td>\n",
       "      <td>50.932743</td>\n",
       "    </tr>\n",
       "    <tr>\n",
       "      <th>2017-04-12</th>\n",
       "      <td>65.510002</td>\n",
       "      <td>65.110001</td>\n",
       "      <td>65.419998</td>\n",
       "      <td>65.230003</td>\n",
       "      <td>17108500.0</td>\n",
       "      <td>62.391968</td>\n",
       "    </tr>\n",
       "  </tbody>\n",
       "</table>\n",
       "</div>"
      ],
      "text/plain": [
       "                 High        Low       Open      Close      Volume  Adj Close\n",
       "Date                                                                         \n",
       "2010-04-12  30.490000  30.209999  30.250000  30.320000  37068800.0  24.058039\n",
       "2011-04-12  25.850000  25.549999  25.830000  25.639999  36920400.0  20.793827\n",
       "2012-04-12  31.040001  30.420000  30.480000  30.980000  38304000.0  25.809261\n",
       "2013-04-12  29.020000  28.660000  28.850000  28.790001  62886300.0  24.704655\n",
       "2016-04-12  54.779999  53.759998  54.369999  54.650002  24944300.0  50.932743\n",
       "2017-04-12  65.510002  65.110001  65.419998  65.230003  17108500.0  62.391968"
      ]
     },
     "execution_count": 111,
     "metadata": {},
     "output_type": "execute_result"
    }
   ],
   "source": [
    "stocks[mask]"
   ]
  },
  {
   "cell_type": "markdown",
   "metadata": {},
   "source": [
    "## Timestamp Object Attributes"
   ]
  },
  {
   "cell_type": "code",
   "execution_count": 139,
   "metadata": {},
   "outputs": [
    {
     "data": {
      "text/html": [
       "<div>\n",
       "<style scoped>\n",
       "    .dataframe tbody tr th:only-of-type {\n",
       "        vertical-align: middle;\n",
       "    }\n",
       "\n",
       "    .dataframe tbody tr th {\n",
       "        vertical-align: top;\n",
       "    }\n",
       "\n",
       "    .dataframe thead th {\n",
       "        text-align: right;\n",
       "    }\n",
       "</style>\n",
       "<table border=\"1\" class=\"dataframe\">\n",
       "  <thead>\n",
       "    <tr style=\"text-align: right;\">\n",
       "      <th></th>\n",
       "      <th>High</th>\n",
       "      <th>Low</th>\n",
       "      <th>Open</th>\n",
       "      <th>Close</th>\n",
       "      <th>Volume</th>\n",
       "      <th>Adj Close</th>\n",
       "    </tr>\n",
       "    <tr>\n",
       "      <th>Date</th>\n",
       "      <th></th>\n",
       "      <th></th>\n",
       "      <th></th>\n",
       "      <th></th>\n",
       "      <th></th>\n",
       "      <th></th>\n",
       "    </tr>\n",
       "  </thead>\n",
       "  <tbody>\n",
       "    <tr>\n",
       "      <th>2010-01-04</th>\n",
       "      <td>31.10</td>\n",
       "      <td>30.590000</td>\n",
       "      <td>30.620001</td>\n",
       "      <td>30.950001</td>\n",
       "      <td>38409100.0</td>\n",
       "      <td>24.443624</td>\n",
       "    </tr>\n",
       "    <tr>\n",
       "      <th>2010-01-05</th>\n",
       "      <td>31.10</td>\n",
       "      <td>30.639999</td>\n",
       "      <td>30.850000</td>\n",
       "      <td>30.959999</td>\n",
       "      <td>49749600.0</td>\n",
       "      <td>24.451517</td>\n",
       "    </tr>\n",
       "    <tr>\n",
       "      <th>2010-01-06</th>\n",
       "      <td>31.08</td>\n",
       "      <td>30.520000</td>\n",
       "      <td>30.879999</td>\n",
       "      <td>30.770000</td>\n",
       "      <td>58182400.0</td>\n",
       "      <td>24.301458</td>\n",
       "    </tr>\n",
       "  </tbody>\n",
       "</table>\n",
       "</div>"
      ],
      "text/plain": [
       "             High        Low       Open      Close      Volume  Adj Close\n",
       "Date                                                                     \n",
       "2010-01-04  31.10  30.590000  30.620001  30.950001  38409100.0  24.443624\n",
       "2010-01-05  31.10  30.639999  30.850000  30.959999  49749600.0  24.451517\n",
       "2010-01-06  31.08  30.520000  30.879999  30.770000  58182400.0  24.301458"
      ]
     },
     "execution_count": 139,
     "metadata": {},
     "output_type": "execute_result"
    }
   ],
   "source": [
    "stocks = data.DataReader(name = company, data_source=\"yahoo\", start = start, end = end)\n",
    "stocks.head(3)"
   ]
  },
  {
   "cell_type": "code",
   "execution_count": 140,
   "metadata": {},
   "outputs": [
    {
     "data": {
      "text/plain": [
       "Timestamp('2011-12-27 00:00:00')"
      ]
     },
     "execution_count": 140,
     "metadata": {},
     "output_type": "execute_result"
    }
   ],
   "source": [
    "someday = stocks.index[500]\n",
    "someday"
   ]
  },
  {
   "cell_type": "code",
   "execution_count": 141,
   "metadata": {},
   "outputs": [
    {
     "data": {
      "text/plain": [
       "False"
      ]
     },
     "execution_count": 141,
     "metadata": {},
     "output_type": "execute_result"
    }
   ],
   "source": [
    "someday.day\n",
    "someday.month\n",
    "someday.year\n",
    "someday.day_name\n",
    "someday.is_month_end"
   ]
  },
  {
   "cell_type": "code",
   "execution_count": 142,
   "metadata": {},
   "outputs": [
    {
     "data": {
      "text/html": [
       "<div>\n",
       "<style scoped>\n",
       "    .dataframe tbody tr th:only-of-type {\n",
       "        vertical-align: middle;\n",
       "    }\n",
       "\n",
       "    .dataframe tbody tr th {\n",
       "        vertical-align: top;\n",
       "    }\n",
       "\n",
       "    .dataframe thead th {\n",
       "        text-align: right;\n",
       "    }\n",
       "</style>\n",
       "<table border=\"1\" class=\"dataframe\">\n",
       "  <thead>\n",
       "    <tr style=\"text-align: right;\">\n",
       "      <th></th>\n",
       "      <th>Day of Week</th>\n",
       "      <th>High</th>\n",
       "      <th>Low</th>\n",
       "      <th>Open</th>\n",
       "      <th>Close</th>\n",
       "      <th>Volume</th>\n",
       "      <th>Adj Close</th>\n",
       "    </tr>\n",
       "    <tr>\n",
       "      <th>Date</th>\n",
       "      <th></th>\n",
       "      <th></th>\n",
       "      <th></th>\n",
       "      <th></th>\n",
       "      <th></th>\n",
       "      <th></th>\n",
       "      <th></th>\n",
       "    </tr>\n",
       "  </thead>\n",
       "  <tbody>\n",
       "    <tr>\n",
       "      <th>2010-01-04</th>\n",
       "      <td>Monday</td>\n",
       "      <td>31.10</td>\n",
       "      <td>30.590000</td>\n",
       "      <td>30.620001</td>\n",
       "      <td>30.950001</td>\n",
       "      <td>38409100.0</td>\n",
       "      <td>24.443624</td>\n",
       "    </tr>\n",
       "    <tr>\n",
       "      <th>2010-01-05</th>\n",
       "      <td>Tuesday</td>\n",
       "      <td>31.10</td>\n",
       "      <td>30.639999</td>\n",
       "      <td>30.850000</td>\n",
       "      <td>30.959999</td>\n",
       "      <td>49749600.0</td>\n",
       "      <td>24.451517</td>\n",
       "    </tr>\n",
       "    <tr>\n",
       "      <th>2010-01-06</th>\n",
       "      <td>Wednesday</td>\n",
       "      <td>31.08</td>\n",
       "      <td>30.520000</td>\n",
       "      <td>30.879999</td>\n",
       "      <td>30.770000</td>\n",
       "      <td>58182400.0</td>\n",
       "      <td>24.301458</td>\n",
       "    </tr>\n",
       "  </tbody>\n",
       "</table>\n",
       "</div>"
      ],
      "text/plain": [
       "           Day of Week   High        Low       Open      Close      Volume  \\\n",
       "Date                                                                         \n",
       "2010-01-04      Monday  31.10  30.590000  30.620001  30.950001  38409100.0   \n",
       "2010-01-05     Tuesday  31.10  30.639999  30.850000  30.959999  49749600.0   \n",
       "2010-01-06   Wednesday  31.08  30.520000  30.879999  30.770000  58182400.0   \n",
       "\n",
       "            Adj Close  \n",
       "Date                   \n",
       "2010-01-04  24.443624  \n",
       "2010-01-05  24.451517  \n",
       "2010-01-06  24.301458  "
      ]
     },
     "execution_count": 142,
     "metadata": {},
     "output_type": "execute_result"
    }
   ],
   "source": [
    "stocks.insert(0, \"Day of Week\", stocks.index.weekday_name)\n",
    "stocks.head(3)"
   ]
  },
  {
   "cell_type": "code",
   "execution_count": 143,
   "metadata": {},
   "outputs": [
    {
     "data": {
      "text/html": [
       "<div>\n",
       "<style scoped>\n",
       "    .dataframe tbody tr th:only-of-type {\n",
       "        vertical-align: middle;\n",
       "    }\n",
       "\n",
       "    .dataframe tbody tr th {\n",
       "        vertical-align: top;\n",
       "    }\n",
       "\n",
       "    .dataframe thead th {\n",
       "        text-align: right;\n",
       "    }\n",
       "</style>\n",
       "<table border=\"1\" class=\"dataframe\">\n",
       "  <thead>\n",
       "    <tr style=\"text-align: right;\">\n",
       "      <th></th>\n",
       "      <th>Day of Week</th>\n",
       "      <th>Is Start of Month</th>\n",
       "      <th>High</th>\n",
       "      <th>Low</th>\n",
       "      <th>Open</th>\n",
       "      <th>Close</th>\n",
       "      <th>Volume</th>\n",
       "      <th>Adj Close</th>\n",
       "    </tr>\n",
       "    <tr>\n",
       "      <th>Date</th>\n",
       "      <th></th>\n",
       "      <th></th>\n",
       "      <th></th>\n",
       "      <th></th>\n",
       "      <th></th>\n",
       "      <th></th>\n",
       "      <th></th>\n",
       "      <th></th>\n",
       "    </tr>\n",
       "  </thead>\n",
       "  <tbody>\n",
       "    <tr>\n",
       "      <th>2010-01-04</th>\n",
       "      <td>Monday</td>\n",
       "      <td>False</td>\n",
       "      <td>31.100000</td>\n",
       "      <td>30.590000</td>\n",
       "      <td>30.620001</td>\n",
       "      <td>30.950001</td>\n",
       "      <td>38409100.0</td>\n",
       "      <td>24.443624</td>\n",
       "    </tr>\n",
       "    <tr>\n",
       "      <th>2010-01-05</th>\n",
       "      <td>Tuesday</td>\n",
       "      <td>False</td>\n",
       "      <td>31.100000</td>\n",
       "      <td>30.639999</td>\n",
       "      <td>30.850000</td>\n",
       "      <td>30.959999</td>\n",
       "      <td>49749600.0</td>\n",
       "      <td>24.451517</td>\n",
       "    </tr>\n",
       "    <tr>\n",
       "      <th>2010-01-06</th>\n",
       "      <td>Wednesday</td>\n",
       "      <td>False</td>\n",
       "      <td>31.080000</td>\n",
       "      <td>30.520000</td>\n",
       "      <td>30.879999</td>\n",
       "      <td>30.770000</td>\n",
       "      <td>58182400.0</td>\n",
       "      <td>24.301458</td>\n",
       "    </tr>\n",
       "    <tr>\n",
       "      <th>2010-01-07</th>\n",
       "      <td>Thursday</td>\n",
       "      <td>False</td>\n",
       "      <td>30.700001</td>\n",
       "      <td>30.190001</td>\n",
       "      <td>30.629999</td>\n",
       "      <td>30.450001</td>\n",
       "      <td>50559700.0</td>\n",
       "      <td>24.048725</td>\n",
       "    </tr>\n",
       "  </tbody>\n",
       "</table>\n",
       "</div>"
      ],
      "text/plain": [
       "           Day of Week  Is Start of Month       High        Low       Open  \\\n",
       "Date                                                                         \n",
       "2010-01-04      Monday              False  31.100000  30.590000  30.620001   \n",
       "2010-01-05     Tuesday              False  31.100000  30.639999  30.850000   \n",
       "2010-01-06   Wednesday              False  31.080000  30.520000  30.879999   \n",
       "2010-01-07    Thursday              False  30.700001  30.190001  30.629999   \n",
       "\n",
       "                Close      Volume  Adj Close  \n",
       "Date                                          \n",
       "2010-01-04  30.950001  38409100.0  24.443624  \n",
       "2010-01-05  30.959999  49749600.0  24.451517  \n",
       "2010-01-06  30.770000  58182400.0  24.301458  \n",
       "2010-01-07  30.450001  50559700.0  24.048725  "
      ]
     },
     "execution_count": 143,
     "metadata": {},
     "output_type": "execute_result"
    }
   ],
   "source": [
    "stocks.insert(1, \"Is Start of Month\", stocks.index.is_month_start)\n",
    "stocks.head(4)"
   ]
  },
  {
   "cell_type": "code",
   "execution_count": 147,
   "metadata": {
    "scrolled": true
   },
   "outputs": [
    {
     "data": {
      "text/html": [
       "<div>\n",
       "<style scoped>\n",
       "    .dataframe tbody tr th:only-of-type {\n",
       "        vertical-align: middle;\n",
       "    }\n",
       "\n",
       "    .dataframe tbody tr th {\n",
       "        vertical-align: top;\n",
       "    }\n",
       "\n",
       "    .dataframe thead th {\n",
       "        text-align: right;\n",
       "    }\n",
       "</style>\n",
       "<table border=\"1\" class=\"dataframe\">\n",
       "  <thead>\n",
       "    <tr style=\"text-align: right;\">\n",
       "      <th></th>\n",
       "      <th>Day of Week</th>\n",
       "      <th>Is Start of Month</th>\n",
       "      <th>High</th>\n",
       "      <th>Low</th>\n",
       "      <th>Open</th>\n",
       "      <th>Close</th>\n",
       "      <th>Volume</th>\n",
       "      <th>Adj Close</th>\n",
       "    </tr>\n",
       "    <tr>\n",
       "      <th>Date</th>\n",
       "      <th></th>\n",
       "      <th></th>\n",
       "      <th></th>\n",
       "      <th></th>\n",
       "      <th></th>\n",
       "      <th></th>\n",
       "      <th></th>\n",
       "      <th></th>\n",
       "    </tr>\n",
       "  </thead>\n",
       "  <tbody>\n",
       "    <tr>\n",
       "      <th>2010-02-01</th>\n",
       "      <td>Monday</td>\n",
       "      <td>True</td>\n",
       "      <td>28.480000</td>\n",
       "      <td>27.920000</td>\n",
       "      <td>28.389999</td>\n",
       "      <td>28.410000</td>\n",
       "      <td>85931100.0</td>\n",
       "      <td>22.437580</td>\n",
       "    </tr>\n",
       "    <tr>\n",
       "      <th>2010-03-01</th>\n",
       "      <td>Monday</td>\n",
       "      <td>True</td>\n",
       "      <td>29.049999</td>\n",
       "      <td>28.530001</td>\n",
       "      <td>28.770000</td>\n",
       "      <td>29.020000</td>\n",
       "      <td>43805400.0</td>\n",
       "      <td>23.026525</td>\n",
       "    </tr>\n",
       "    <tr>\n",
       "      <th>2010-04-01</th>\n",
       "      <td>Thursday</td>\n",
       "      <td>True</td>\n",
       "      <td>29.540001</td>\n",
       "      <td>28.620001</td>\n",
       "      <td>29.350000</td>\n",
       "      <td>29.160000</td>\n",
       "      <td>74768100.0</td>\n",
       "      <td>23.137602</td>\n",
       "    </tr>\n",
       "    <tr>\n",
       "      <th>2010-06-01</th>\n",
       "      <td>Tuesday</td>\n",
       "      <td>True</td>\n",
       "      <td>26.309999</td>\n",
       "      <td>25.520000</td>\n",
       "      <td>25.530001</td>\n",
       "      <td>25.889999</td>\n",
       "      <td>76152400.0</td>\n",
       "      <td>20.635656</td>\n",
       "    </tr>\n",
       "    <tr>\n",
       "      <th>2010-07-01</th>\n",
       "      <td>Thursday</td>\n",
       "      <td>True</td>\n",
       "      <td>23.320000</td>\n",
       "      <td>22.730000</td>\n",
       "      <td>23.090000</td>\n",
       "      <td>23.160000</td>\n",
       "      <td>92239400.0</td>\n",
       "      <td>18.459715</td>\n",
       "    </tr>\n",
       "    <tr>\n",
       "      <th>2010-09-01</th>\n",
       "      <td>Wednesday</td>\n",
       "      <td>True</td>\n",
       "      <td>23.950001</td>\n",
       "      <td>23.540001</td>\n",
       "      <td>23.670000</td>\n",
       "      <td>23.900000</td>\n",
       "      <td>65235900.0</td>\n",
       "      <td>19.151144</td>\n",
       "    </tr>\n",
       "    <tr>\n",
       "      <th>2010-10-01</th>\n",
       "      <td>Friday</td>\n",
       "      <td>True</td>\n",
       "      <td>24.820000</td>\n",
       "      <td>24.299999</td>\n",
       "      <td>24.770000</td>\n",
       "      <td>24.379999</td>\n",
       "      <td>62672300.0</td>\n",
       "      <td>19.535769</td>\n",
       "    </tr>\n",
       "    <tr>\n",
       "      <th>2010-11-01</th>\n",
       "      <td>Monday</td>\n",
       "      <td>True</td>\n",
       "      <td>27.219999</td>\n",
       "      <td>26.700001</td>\n",
       "      <td>26.879999</td>\n",
       "      <td>26.950001</td>\n",
       "      <td>61912100.0</td>\n",
       "      <td>21.595112</td>\n",
       "    </tr>\n",
       "    <tr>\n",
       "      <th>2010-12-01</th>\n",
       "      <td>Wednesday</td>\n",
       "      <td>True</td>\n",
       "      <td>26.250000</td>\n",
       "      <td>25.559999</td>\n",
       "      <td>25.570000</td>\n",
       "      <td>26.040001</td>\n",
       "      <td>74123500.0</td>\n",
       "      <td>20.994139</td>\n",
       "    </tr>\n",
       "    <tr>\n",
       "      <th>2011-02-01</th>\n",
       "      <td>Tuesday</td>\n",
       "      <td>True</td>\n",
       "      <td>28.059999</td>\n",
       "      <td>27.610001</td>\n",
       "      <td>27.799999</td>\n",
       "      <td>27.990000</td>\n",
       "      <td>62810700.0</td>\n",
       "      <td>22.566280</td>\n",
       "    </tr>\n",
       "    <tr>\n",
       "      <th>2011-03-01</th>\n",
       "      <td>Tuesday</td>\n",
       "      <td>True</td>\n",
       "      <td>26.780001</td>\n",
       "      <td>26.150000</td>\n",
       "      <td>26.600000</td>\n",
       "      <td>26.160000</td>\n",
       "      <td>60055000.0</td>\n",
       "      <td>21.215551</td>\n",
       "    </tr>\n",
       "    <tr>\n",
       "      <th>2011-04-01</th>\n",
       "      <td>Friday</td>\n",
       "      <td>True</td>\n",
       "      <td>25.530001</td>\n",
       "      <td>25.309999</td>\n",
       "      <td>25.530001</td>\n",
       "      <td>25.480000</td>\n",
       "      <td>63114200.0</td>\n",
       "      <td>20.664076</td>\n",
       "    </tr>\n",
       "    <tr>\n",
       "      <th>2011-06-01</th>\n",
       "      <td>Wednesday</td>\n",
       "      <td>True</td>\n",
       "      <td>25.100000</td>\n",
       "      <td>24.370001</td>\n",
       "      <td>24.990000</td>\n",
       "      <td>24.430000</td>\n",
       "      <td>74033500.0</td>\n",
       "      <td>19.942396</td>\n",
       "    </tr>\n",
       "    <tr>\n",
       "      <th>2011-07-01</th>\n",
       "      <td>Friday</td>\n",
       "      <td>True</td>\n",
       "      <td>26.170000</td>\n",
       "      <td>25.840000</td>\n",
       "      <td>25.930000</td>\n",
       "      <td>26.020000</td>\n",
       "      <td>52906200.0</td>\n",
       "      <td>21.240322</td>\n",
       "    </tr>\n",
       "    <tr>\n",
       "      <th>2011-08-01</th>\n",
       "      <td>Monday</td>\n",
       "      <td>True</td>\n",
       "      <td>27.690001</td>\n",
       "      <td>26.750000</td>\n",
       "      <td>27.510000</td>\n",
       "      <td>27.270000</td>\n",
       "      <td>61838400.0</td>\n",
       "      <td>22.260714</td>\n",
       "    </tr>\n",
       "    <tr>\n",
       "      <th>2011-09-01</th>\n",
       "      <td>Thursday</td>\n",
       "      <td>True</td>\n",
       "      <td>26.860001</td>\n",
       "      <td>26.209999</td>\n",
       "      <td>26.459999</td>\n",
       "      <td>26.209999</td>\n",
       "      <td>60510800.0</td>\n",
       "      <td>21.530468</td>\n",
       "    </tr>\n",
       "    <tr>\n",
       "      <th>2011-11-01</th>\n",
       "      <td>Tuesday</td>\n",
       "      <td>True</td>\n",
       "      <td>26.320000</td>\n",
       "      <td>25.860001</td>\n",
       "      <td>26.190001</td>\n",
       "      <td>25.990000</td>\n",
       "      <td>61182600.0</td>\n",
       "      <td>21.349743</td>\n",
       "    </tr>\n",
       "    <tr>\n",
       "      <th>2011-12-01</th>\n",
       "      <td>Thursday</td>\n",
       "      <td>True</td>\n",
       "      <td>25.629999</td>\n",
       "      <td>25.200001</td>\n",
       "      <td>25.559999</td>\n",
       "      <td>25.280001</td>\n",
       "      <td>48545400.0</td>\n",
       "      <td>20.922884</td>\n",
       "    </tr>\n",
       "    <tr>\n",
       "      <th>2012-02-01</th>\n",
       "      <td>Wednesday</td>\n",
       "      <td>True</td>\n",
       "      <td>30.049999</td>\n",
       "      <td>29.760000</td>\n",
       "      <td>29.790001</td>\n",
       "      <td>29.889999</td>\n",
       "      <td>67409900.0</td>\n",
       "      <td>24.738325</td>\n",
       "    </tr>\n",
       "    <tr>\n",
       "      <th>2012-03-01</th>\n",
       "      <td>Thursday</td>\n",
       "      <td>True</td>\n",
       "      <td>32.389999</td>\n",
       "      <td>31.850000</td>\n",
       "      <td>31.930000</td>\n",
       "      <td>32.290001</td>\n",
       "      <td>77344100.0</td>\n",
       "      <td>26.900608</td>\n",
       "    </tr>\n",
       "    <tr>\n",
       "      <th>2012-05-01</th>\n",
       "      <td>Tuesday</td>\n",
       "      <td>True</td>\n",
       "      <td>32.340000</td>\n",
       "      <td>31.950001</td>\n",
       "      <td>32.049999</td>\n",
       "      <td>32.009998</td>\n",
       "      <td>43832300.0</td>\n",
       "      <td>26.667349</td>\n",
       "    </tr>\n",
       "    <tr>\n",
       "      <th>2012-06-01</th>\n",
       "      <td>Friday</td>\n",
       "      <td>True</td>\n",
       "      <td>28.959999</td>\n",
       "      <td>28.440001</td>\n",
       "      <td>28.760000</td>\n",
       "      <td>28.450001</td>\n",
       "      <td>56634300.0</td>\n",
       "      <td>23.857056</td>\n",
       "    </tr>\n",
       "    <tr>\n",
       "      <th>2012-08-01</th>\n",
       "      <td>Wednesday</td>\n",
       "      <td>True</td>\n",
       "      <td>29.650000</td>\n",
       "      <td>29.209999</td>\n",
       "      <td>29.590000</td>\n",
       "      <td>29.410000</td>\n",
       "      <td>31721800.0</td>\n",
       "      <td>24.662073</td>\n",
       "    </tr>\n",
       "    <tr>\n",
       "      <th>2012-10-01</th>\n",
       "      <td>Monday</td>\n",
       "      <td>True</td>\n",
       "      <td>29.980000</td>\n",
       "      <td>29.420000</td>\n",
       "      <td>29.809999</td>\n",
       "      <td>29.490000</td>\n",
       "      <td>54042700.0</td>\n",
       "      <td>24.892981</td>\n",
       "    </tr>\n",
       "    <tr>\n",
       "      <th>2012-11-01</th>\n",
       "      <td>Thursday</td>\n",
       "      <td>True</td>\n",
       "      <td>29.559999</td>\n",
       "      <td>28.820000</td>\n",
       "      <td>28.840000</td>\n",
       "      <td>29.520000</td>\n",
       "      <td>72047900.0</td>\n",
       "      <td>24.918303</td>\n",
       "    </tr>\n",
       "    <tr>\n",
       "      <th>2013-02-01</th>\n",
       "      <td>Friday</td>\n",
       "      <td>True</td>\n",
       "      <td>28.049999</td>\n",
       "      <td>27.549999</td>\n",
       "      <td>27.670000</td>\n",
       "      <td>27.930000</td>\n",
       "      <td>55565900.0</td>\n",
       "      <td>23.769892</td>\n",
       "    </tr>\n",
       "    <tr>\n",
       "      <th>2013-03-01</th>\n",
       "      <td>Friday</td>\n",
       "      <td>True</td>\n",
       "      <td>27.980000</td>\n",
       "      <td>27.520000</td>\n",
       "      <td>27.719999</td>\n",
       "      <td>27.950001</td>\n",
       "      <td>34849700.0</td>\n",
       "      <td>23.983852</td>\n",
       "    </tr>\n",
       "    <tr>\n",
       "      <th>2013-04-01</th>\n",
       "      <td>Monday</td>\n",
       "      <td>True</td>\n",
       "      <td>28.660000</td>\n",
       "      <td>28.360001</td>\n",
       "      <td>28.639999</td>\n",
       "      <td>28.610001</td>\n",
       "      <td>29201100.0</td>\n",
       "      <td>24.550192</td>\n",
       "    </tr>\n",
       "    <tr>\n",
       "      <th>2013-05-01</th>\n",
       "      <td>Wednesday</td>\n",
       "      <td>True</td>\n",
       "      <td>33.080002</td>\n",
       "      <td>32.599998</td>\n",
       "      <td>32.930000</td>\n",
       "      <td>32.720001</td>\n",
       "      <td>54330900.0</td>\n",
       "      <td>28.076982</td>\n",
       "    </tr>\n",
       "    <tr>\n",
       "      <th>2013-07-01</th>\n",
       "      <td>Monday</td>\n",
       "      <td>True</td>\n",
       "      <td>34.990002</td>\n",
       "      <td>34.330002</td>\n",
       "      <td>34.750000</td>\n",
       "      <td>34.360001</td>\n",
       "      <td>31055400.0</td>\n",
       "      <td>29.691017</td>\n",
       "    </tr>\n",
       "    <tr>\n",
       "      <th>...</th>\n",
       "      <td>...</td>\n",
       "      <td>...</td>\n",
       "      <td>...</td>\n",
       "      <td>...</td>\n",
       "      <td>...</td>\n",
       "      <td>...</td>\n",
       "      <td>...</td>\n",
       "      <td>...</td>\n",
       "    </tr>\n",
       "    <tr>\n",
       "      <th>2014-04-01</th>\n",
       "      <td>Tuesday</td>\n",
       "      <td>True</td>\n",
       "      <td>41.590000</td>\n",
       "      <td>41.070000</td>\n",
       "      <td>41.150002</td>\n",
       "      <td>41.419998</td>\n",
       "      <td>32605000.0</td>\n",
       "      <td>36.589558</td>\n",
       "    </tr>\n",
       "    <tr>\n",
       "      <th>2014-05-01</th>\n",
       "      <td>Thursday</td>\n",
       "      <td>True</td>\n",
       "      <td>40.360001</td>\n",
       "      <td>39.950001</td>\n",
       "      <td>40.240002</td>\n",
       "      <td>40.000000</td>\n",
       "      <td>28787400.0</td>\n",
       "      <td>35.335155</td>\n",
       "    </tr>\n",
       "    <tr>\n",
       "      <th>2014-07-01</th>\n",
       "      <td>Tuesday</td>\n",
       "      <td>True</td>\n",
       "      <td>42.150002</td>\n",
       "      <td>41.689999</td>\n",
       "      <td>41.860001</td>\n",
       "      <td>41.869999</td>\n",
       "      <td>26917000.0</td>\n",
       "      <td>37.248013</td>\n",
       "    </tr>\n",
       "    <tr>\n",
       "      <th>2014-08-01</th>\n",
       "      <td>Friday</td>\n",
       "      <td>True</td>\n",
       "      <td>43.250000</td>\n",
       "      <td>42.599998</td>\n",
       "      <td>43.209999</td>\n",
       "      <td>42.860001</td>\n",
       "      <td>31170300.0</td>\n",
       "      <td>38.128727</td>\n",
       "    </tr>\n",
       "    <tr>\n",
       "      <th>2014-10-01</th>\n",
       "      <td>Wednesday</td>\n",
       "      <td>True</td>\n",
       "      <td>46.529999</td>\n",
       "      <td>45.849998</td>\n",
       "      <td>46.270000</td>\n",
       "      <td>45.900002</td>\n",
       "      <td>38088400.0</td>\n",
       "      <td>41.088188</td>\n",
       "    </tr>\n",
       "    <tr>\n",
       "      <th>2014-12-01</th>\n",
       "      <td>Monday</td>\n",
       "      <td>True</td>\n",
       "      <td>48.779999</td>\n",
       "      <td>47.709999</td>\n",
       "      <td>47.880001</td>\n",
       "      <td>48.619999</td>\n",
       "      <td>31191600.0</td>\n",
       "      <td>43.797543</td>\n",
       "    </tr>\n",
       "    <tr>\n",
       "      <th>2015-04-01</th>\n",
       "      <td>Wednesday</td>\n",
       "      <td>True</td>\n",
       "      <td>40.759998</td>\n",
       "      <td>40.310001</td>\n",
       "      <td>40.599998</td>\n",
       "      <td>40.720001</td>\n",
       "      <td>36865300.0</td>\n",
       "      <td>36.942169</td>\n",
       "    </tr>\n",
       "    <tr>\n",
       "      <th>2015-05-01</th>\n",
       "      <td>Friday</td>\n",
       "      <td>True</td>\n",
       "      <td>48.880001</td>\n",
       "      <td>48.400002</td>\n",
       "      <td>48.580002</td>\n",
       "      <td>48.660000</td>\n",
       "      <td>38937300.0</td>\n",
       "      <td>44.145527</td>\n",
       "    </tr>\n",
       "    <tr>\n",
       "      <th>2015-06-01</th>\n",
       "      <td>Monday</td>\n",
       "      <td>True</td>\n",
       "      <td>47.770000</td>\n",
       "      <td>46.619999</td>\n",
       "      <td>47.060001</td>\n",
       "      <td>47.230000</td>\n",
       "      <td>28837300.0</td>\n",
       "      <td>43.126656</td>\n",
       "    </tr>\n",
       "    <tr>\n",
       "      <th>2015-07-01</th>\n",
       "      <td>Wednesday</td>\n",
       "      <td>True</td>\n",
       "      <td>45.230000</td>\n",
       "      <td>44.099998</td>\n",
       "      <td>44.459999</td>\n",
       "      <td>44.450001</td>\n",
       "      <td>28343900.0</td>\n",
       "      <td>40.588188</td>\n",
       "    </tr>\n",
       "    <tr>\n",
       "      <th>2015-09-01</th>\n",
       "      <td>Tuesday</td>\n",
       "      <td>True</td>\n",
       "      <td>42.590000</td>\n",
       "      <td>41.660000</td>\n",
       "      <td>42.169998</td>\n",
       "      <td>41.820000</td>\n",
       "      <td>49688900.0</td>\n",
       "      <td>38.438499</td>\n",
       "    </tr>\n",
       "    <tr>\n",
       "      <th>2015-10-01</th>\n",
       "      <td>Thursday</td>\n",
       "      <td>True</td>\n",
       "      <td>44.750000</td>\n",
       "      <td>43.750000</td>\n",
       "      <td>44.750000</td>\n",
       "      <td>44.610001</td>\n",
       "      <td>28657900.0</td>\n",
       "      <td>41.002899</td>\n",
       "    </tr>\n",
       "    <tr>\n",
       "      <th>2015-12-01</th>\n",
       "      <td>Tuesday</td>\n",
       "      <td>True</td>\n",
       "      <td>55.230000</td>\n",
       "      <td>54.299999</td>\n",
       "      <td>54.410000</td>\n",
       "      <td>55.220001</td>\n",
       "      <td>39952800.0</td>\n",
       "      <td>51.097107</td>\n",
       "    </tr>\n",
       "    <tr>\n",
       "      <th>2016-02-01</th>\n",
       "      <td>Monday</td>\n",
       "      <td>True</td>\n",
       "      <td>55.090000</td>\n",
       "      <td>54.500000</td>\n",
       "      <td>54.880001</td>\n",
       "      <td>54.709999</td>\n",
       "      <td>44208500.0</td>\n",
       "      <td>50.625172</td>\n",
       "    </tr>\n",
       "    <tr>\n",
       "      <th>2016-03-01</th>\n",
       "      <td>Tuesday</td>\n",
       "      <td>True</td>\n",
       "      <td>52.590000</td>\n",
       "      <td>50.919998</td>\n",
       "      <td>50.970001</td>\n",
       "      <td>52.580002</td>\n",
       "      <td>33024500.0</td>\n",
       "      <td>49.003548</td>\n",
       "    </tr>\n",
       "    <tr>\n",
       "      <th>2016-04-01</th>\n",
       "      <td>Friday</td>\n",
       "      <td>True</td>\n",
       "      <td>55.610001</td>\n",
       "      <td>54.570000</td>\n",
       "      <td>55.049999</td>\n",
       "      <td>55.570000</td>\n",
       "      <td>24399200.0</td>\n",
       "      <td>51.790169</td>\n",
       "    </tr>\n",
       "    <tr>\n",
       "      <th>2016-06-01</th>\n",
       "      <td>Wednesday</td>\n",
       "      <td>True</td>\n",
       "      <td>52.950001</td>\n",
       "      <td>52.439999</td>\n",
       "      <td>52.439999</td>\n",
       "      <td>52.849998</td>\n",
       "      <td>25324800.0</td>\n",
       "      <td>49.599678</td>\n",
       "    </tr>\n",
       "    <tr>\n",
       "      <th>2016-07-01</th>\n",
       "      <td>Friday</td>\n",
       "      <td>True</td>\n",
       "      <td>51.720001</td>\n",
       "      <td>51.070000</td>\n",
       "      <td>51.130001</td>\n",
       "      <td>51.160000</td>\n",
       "      <td>21400400.0</td>\n",
       "      <td>48.013626</td>\n",
       "    </tr>\n",
       "    <tr>\n",
       "      <th>2016-08-01</th>\n",
       "      <td>Monday</td>\n",
       "      <td>True</td>\n",
       "      <td>56.750000</td>\n",
       "      <td>56.139999</td>\n",
       "      <td>56.599998</td>\n",
       "      <td>56.580002</td>\n",
       "      <td>26003400.0</td>\n",
       "      <td>53.100292</td>\n",
       "    </tr>\n",
       "    <tr>\n",
       "      <th>2016-09-01</th>\n",
       "      <td>Thursday</td>\n",
       "      <td>True</td>\n",
       "      <td>57.820000</td>\n",
       "      <td>57.009998</td>\n",
       "      <td>57.009998</td>\n",
       "      <td>57.590000</td>\n",
       "      <td>26075400.0</td>\n",
       "      <td>54.385036</td>\n",
       "    </tr>\n",
       "    <tr>\n",
       "      <th>2016-11-01</th>\n",
       "      <td>Tuesday</td>\n",
       "      <td>True</td>\n",
       "      <td>60.020000</td>\n",
       "      <td>59.250000</td>\n",
       "      <td>59.970001</td>\n",
       "      <td>59.799999</td>\n",
       "      <td>24533000.0</td>\n",
       "      <td>56.472046</td>\n",
       "    </tr>\n",
       "    <tr>\n",
       "      <th>2016-12-01</th>\n",
       "      <td>Thursday</td>\n",
       "      <td>True</td>\n",
       "      <td>60.150002</td>\n",
       "      <td>58.939999</td>\n",
       "      <td>60.110001</td>\n",
       "      <td>59.200001</td>\n",
       "      <td>34542100.0</td>\n",
       "      <td>56.283112</td>\n",
       "    </tr>\n",
       "    <tr>\n",
       "      <th>2017-02-01</th>\n",
       "      <td>Wednesday</td>\n",
       "      <td>True</td>\n",
       "      <td>64.620003</td>\n",
       "      <td>63.470001</td>\n",
       "      <td>64.360001</td>\n",
       "      <td>63.580002</td>\n",
       "      <td>39671500.0</td>\n",
       "      <td>60.447304</td>\n",
       "    </tr>\n",
       "    <tr>\n",
       "      <th>2017-03-01</th>\n",
       "      <td>Wednesday</td>\n",
       "      <td>True</td>\n",
       "      <td>64.989998</td>\n",
       "      <td>64.019997</td>\n",
       "      <td>64.129997</td>\n",
       "      <td>64.940002</td>\n",
       "      <td>26937500.0</td>\n",
       "      <td>62.114594</td>\n",
       "    </tr>\n",
       "    <tr>\n",
       "      <th>2017-05-01</th>\n",
       "      <td>Monday</td>\n",
       "      <td>True</td>\n",
       "      <td>69.550003</td>\n",
       "      <td>68.500000</td>\n",
       "      <td>68.680000</td>\n",
       "      <td>69.410004</td>\n",
       "      <td>31954400.0</td>\n",
       "      <td>66.390121</td>\n",
       "    </tr>\n",
       "    <tr>\n",
       "      <th>2017-06-01</th>\n",
       "      <td>Thursday</td>\n",
       "      <td>True</td>\n",
       "      <td>70.610001</td>\n",
       "      <td>69.449997</td>\n",
       "      <td>70.239998</td>\n",
       "      <td>70.099998</td>\n",
       "      <td>21603600.0</td>\n",
       "      <td>67.434410</td>\n",
       "    </tr>\n",
       "    <tr>\n",
       "      <th>2017-08-01</th>\n",
       "      <td>Tuesday</td>\n",
       "      <td>True</td>\n",
       "      <td>73.419998</td>\n",
       "      <td>72.489998</td>\n",
       "      <td>73.099998</td>\n",
       "      <td>72.580002</td>\n",
       "      <td>22132300.0</td>\n",
       "      <td>69.820122</td>\n",
       "    </tr>\n",
       "    <tr>\n",
       "      <th>2017-09-01</th>\n",
       "      <td>Friday</td>\n",
       "      <td>True</td>\n",
       "      <td>74.739998</td>\n",
       "      <td>73.639999</td>\n",
       "      <td>74.709999</td>\n",
       "      <td>73.940002</td>\n",
       "      <td>21736200.0</td>\n",
       "      <td>71.507362</td>\n",
       "    </tr>\n",
       "    <tr>\n",
       "      <th>2017-11-01</th>\n",
       "      <td>Wednesday</td>\n",
       "      <td>True</td>\n",
       "      <td>83.760002</td>\n",
       "      <td>82.879997</td>\n",
       "      <td>83.680000</td>\n",
       "      <td>83.180000</td>\n",
       "      <td>22307400.0</td>\n",
       "      <td>80.443352</td>\n",
       "    </tr>\n",
       "    <tr>\n",
       "      <th>2017-12-01</th>\n",
       "      <td>Friday</td>\n",
       "      <td>True</td>\n",
       "      <td>84.809998</td>\n",
       "      <td>83.220001</td>\n",
       "      <td>83.599998</td>\n",
       "      <td>84.260002</td>\n",
       "      <td>29532100.0</td>\n",
       "      <td>81.897079</td>\n",
       "    </tr>\n",
       "  </tbody>\n",
       "</table>\n",
       "<p>63 rows × 8 columns</p>\n",
       "</div>"
      ],
      "text/plain": [
       "           Day of Week  Is Start of Month       High        Low       Open  \\\n",
       "Date                                                                         \n",
       "2010-02-01      Monday               True  28.480000  27.920000  28.389999   \n",
       "2010-03-01      Monday               True  29.049999  28.530001  28.770000   \n",
       "2010-04-01    Thursday               True  29.540001  28.620001  29.350000   \n",
       "2010-06-01     Tuesday               True  26.309999  25.520000  25.530001   \n",
       "2010-07-01    Thursday               True  23.320000  22.730000  23.090000   \n",
       "2010-09-01   Wednesday               True  23.950001  23.540001  23.670000   \n",
       "2010-10-01      Friday               True  24.820000  24.299999  24.770000   \n",
       "2010-11-01      Monday               True  27.219999  26.700001  26.879999   \n",
       "2010-12-01   Wednesday               True  26.250000  25.559999  25.570000   \n",
       "2011-02-01     Tuesday               True  28.059999  27.610001  27.799999   \n",
       "2011-03-01     Tuesday               True  26.780001  26.150000  26.600000   \n",
       "2011-04-01      Friday               True  25.530001  25.309999  25.530001   \n",
       "2011-06-01   Wednesday               True  25.100000  24.370001  24.990000   \n",
       "2011-07-01      Friday               True  26.170000  25.840000  25.930000   \n",
       "2011-08-01      Monday               True  27.690001  26.750000  27.510000   \n",
       "2011-09-01    Thursday               True  26.860001  26.209999  26.459999   \n",
       "2011-11-01     Tuesday               True  26.320000  25.860001  26.190001   \n",
       "2011-12-01    Thursday               True  25.629999  25.200001  25.559999   \n",
       "2012-02-01   Wednesday               True  30.049999  29.760000  29.790001   \n",
       "2012-03-01    Thursday               True  32.389999  31.850000  31.930000   \n",
       "2012-05-01     Tuesday               True  32.340000  31.950001  32.049999   \n",
       "2012-06-01      Friday               True  28.959999  28.440001  28.760000   \n",
       "2012-08-01   Wednesday               True  29.650000  29.209999  29.590000   \n",
       "2012-10-01      Monday               True  29.980000  29.420000  29.809999   \n",
       "2012-11-01    Thursday               True  29.559999  28.820000  28.840000   \n",
       "2013-02-01      Friday               True  28.049999  27.549999  27.670000   \n",
       "2013-03-01      Friday               True  27.980000  27.520000  27.719999   \n",
       "2013-04-01      Monday               True  28.660000  28.360001  28.639999   \n",
       "2013-05-01   Wednesday               True  33.080002  32.599998  32.930000   \n",
       "2013-07-01      Monday               True  34.990002  34.330002  34.750000   \n",
       "...                ...                ...        ...        ...        ...   \n",
       "2014-04-01     Tuesday               True  41.590000  41.070000  41.150002   \n",
       "2014-05-01    Thursday               True  40.360001  39.950001  40.240002   \n",
       "2014-07-01     Tuesday               True  42.150002  41.689999  41.860001   \n",
       "2014-08-01      Friday               True  43.250000  42.599998  43.209999   \n",
       "2014-10-01   Wednesday               True  46.529999  45.849998  46.270000   \n",
       "2014-12-01      Monday               True  48.779999  47.709999  47.880001   \n",
       "2015-04-01   Wednesday               True  40.759998  40.310001  40.599998   \n",
       "2015-05-01      Friday               True  48.880001  48.400002  48.580002   \n",
       "2015-06-01      Monday               True  47.770000  46.619999  47.060001   \n",
       "2015-07-01   Wednesday               True  45.230000  44.099998  44.459999   \n",
       "2015-09-01     Tuesday               True  42.590000  41.660000  42.169998   \n",
       "2015-10-01    Thursday               True  44.750000  43.750000  44.750000   \n",
       "2015-12-01     Tuesday               True  55.230000  54.299999  54.410000   \n",
       "2016-02-01      Monday               True  55.090000  54.500000  54.880001   \n",
       "2016-03-01     Tuesday               True  52.590000  50.919998  50.970001   \n",
       "2016-04-01      Friday               True  55.610001  54.570000  55.049999   \n",
       "2016-06-01   Wednesday               True  52.950001  52.439999  52.439999   \n",
       "2016-07-01      Friday               True  51.720001  51.070000  51.130001   \n",
       "2016-08-01      Monday               True  56.750000  56.139999  56.599998   \n",
       "2016-09-01    Thursday               True  57.820000  57.009998  57.009998   \n",
       "2016-11-01     Tuesday               True  60.020000  59.250000  59.970001   \n",
       "2016-12-01    Thursday               True  60.150002  58.939999  60.110001   \n",
       "2017-02-01   Wednesday               True  64.620003  63.470001  64.360001   \n",
       "2017-03-01   Wednesday               True  64.989998  64.019997  64.129997   \n",
       "2017-05-01      Monday               True  69.550003  68.500000  68.680000   \n",
       "2017-06-01    Thursday               True  70.610001  69.449997  70.239998   \n",
       "2017-08-01     Tuesday               True  73.419998  72.489998  73.099998   \n",
       "2017-09-01      Friday               True  74.739998  73.639999  74.709999   \n",
       "2017-11-01   Wednesday               True  83.760002  82.879997  83.680000   \n",
       "2017-12-01      Friday               True  84.809998  83.220001  83.599998   \n",
       "\n",
       "                Close      Volume  Adj Close  \n",
       "Date                                          \n",
       "2010-02-01  28.410000  85931100.0  22.437580  \n",
       "2010-03-01  29.020000  43805400.0  23.026525  \n",
       "2010-04-01  29.160000  74768100.0  23.137602  \n",
       "2010-06-01  25.889999  76152400.0  20.635656  \n",
       "2010-07-01  23.160000  92239400.0  18.459715  \n",
       "2010-09-01  23.900000  65235900.0  19.151144  \n",
       "2010-10-01  24.379999  62672300.0  19.535769  \n",
       "2010-11-01  26.950001  61912100.0  21.595112  \n",
       "2010-12-01  26.040001  74123500.0  20.994139  \n",
       "2011-02-01  27.990000  62810700.0  22.566280  \n",
       "2011-03-01  26.160000  60055000.0  21.215551  \n",
       "2011-04-01  25.480000  63114200.0  20.664076  \n",
       "2011-06-01  24.430000  74033500.0  19.942396  \n",
       "2011-07-01  26.020000  52906200.0  21.240322  \n",
       "2011-08-01  27.270000  61838400.0  22.260714  \n",
       "2011-09-01  26.209999  60510800.0  21.530468  \n",
       "2011-11-01  25.990000  61182600.0  21.349743  \n",
       "2011-12-01  25.280001  48545400.0  20.922884  \n",
       "2012-02-01  29.889999  67409900.0  24.738325  \n",
       "2012-03-01  32.290001  77344100.0  26.900608  \n",
       "2012-05-01  32.009998  43832300.0  26.667349  \n",
       "2012-06-01  28.450001  56634300.0  23.857056  \n",
       "2012-08-01  29.410000  31721800.0  24.662073  \n",
       "2012-10-01  29.490000  54042700.0  24.892981  \n",
       "2012-11-01  29.520000  72047900.0  24.918303  \n",
       "2013-02-01  27.930000  55565900.0  23.769892  \n",
       "2013-03-01  27.950001  34849700.0  23.983852  \n",
       "2013-04-01  28.610001  29201100.0  24.550192  \n",
       "2013-05-01  32.720001  54330900.0  28.076982  \n",
       "2013-07-01  34.360001  31055400.0  29.691017  \n",
       "...               ...         ...        ...  \n",
       "2014-04-01  41.419998  32605000.0  36.589558  \n",
       "2014-05-01  40.000000  28787400.0  35.335155  \n",
       "2014-07-01  41.869999  26917000.0  37.248013  \n",
       "2014-08-01  42.860001  31170300.0  38.128727  \n",
       "2014-10-01  45.900002  38088400.0  41.088188  \n",
       "2014-12-01  48.619999  31191600.0  43.797543  \n",
       "2015-04-01  40.720001  36865300.0  36.942169  \n",
       "2015-05-01  48.660000  38937300.0  44.145527  \n",
       "2015-06-01  47.230000  28837300.0  43.126656  \n",
       "2015-07-01  44.450001  28343900.0  40.588188  \n",
       "2015-09-01  41.820000  49688900.0  38.438499  \n",
       "2015-10-01  44.610001  28657900.0  41.002899  \n",
       "2015-12-01  55.220001  39952800.0  51.097107  \n",
       "2016-02-01  54.709999  44208500.0  50.625172  \n",
       "2016-03-01  52.580002  33024500.0  49.003548  \n",
       "2016-04-01  55.570000  24399200.0  51.790169  \n",
       "2016-06-01  52.849998  25324800.0  49.599678  \n",
       "2016-07-01  51.160000  21400400.0  48.013626  \n",
       "2016-08-01  56.580002  26003400.0  53.100292  \n",
       "2016-09-01  57.590000  26075400.0  54.385036  \n",
       "2016-11-01  59.799999  24533000.0  56.472046  \n",
       "2016-12-01  59.200001  34542100.0  56.283112  \n",
       "2017-02-01  63.580002  39671500.0  60.447304  \n",
       "2017-03-01  64.940002  26937500.0  62.114594  \n",
       "2017-05-01  69.410004  31954400.0  66.390121  \n",
       "2017-06-01  70.099998  21603600.0  67.434410  \n",
       "2017-08-01  72.580002  22132300.0  69.820122  \n",
       "2017-09-01  73.940002  21736200.0  71.507362  \n",
       "2017-11-01  83.180000  22307400.0  80.443352  \n",
       "2017-12-01  84.260002  29532100.0  81.897079  \n",
       "\n",
       "[63 rows x 8 columns]"
      ]
     },
     "execution_count": 147,
     "metadata": {},
     "output_type": "execute_result"
    }
   ],
   "source": [
    "stocks[stocks[\"Is Start of Month\"]] #pull the first day of each month; Filteration"
   ]
  },
  {
   "cell_type": "markdown",
   "metadata": {},
   "source": [
    "## The .truncate() Method"
   ]
  },
  {
   "cell_type": "code",
   "execution_count": 149,
   "metadata": {},
   "outputs": [
    {
     "data": {
      "text/html": [
       "<div>\n",
       "<style scoped>\n",
       "    .dataframe tbody tr th:only-of-type {\n",
       "        vertical-align: middle;\n",
       "    }\n",
       "\n",
       "    .dataframe tbody tr th {\n",
       "        vertical-align: top;\n",
       "    }\n",
       "\n",
       "    .dataframe thead th {\n",
       "        text-align: right;\n",
       "    }\n",
       "</style>\n",
       "<table border=\"1\" class=\"dataframe\">\n",
       "  <thead>\n",
       "    <tr style=\"text-align: right;\">\n",
       "      <th></th>\n",
       "      <th>High</th>\n",
       "      <th>Low</th>\n",
       "      <th>Open</th>\n",
       "      <th>Close</th>\n",
       "      <th>Volume</th>\n",
       "      <th>Adj Close</th>\n",
       "    </tr>\n",
       "    <tr>\n",
       "      <th>Date</th>\n",
       "      <th></th>\n",
       "      <th></th>\n",
       "      <th></th>\n",
       "      <th></th>\n",
       "      <th></th>\n",
       "      <th></th>\n",
       "    </tr>\n",
       "  </thead>\n",
       "  <tbody>\n",
       "    <tr>\n",
       "      <th>2010-01-04</th>\n",
       "      <td>31.10</td>\n",
       "      <td>30.590000</td>\n",
       "      <td>30.620001</td>\n",
       "      <td>30.950001</td>\n",
       "      <td>38409100.0</td>\n",
       "      <td>24.443624</td>\n",
       "    </tr>\n",
       "    <tr>\n",
       "      <th>2010-01-05</th>\n",
       "      <td>31.10</td>\n",
       "      <td>30.639999</td>\n",
       "      <td>30.850000</td>\n",
       "      <td>30.959999</td>\n",
       "      <td>49749600.0</td>\n",
       "      <td>24.451517</td>\n",
       "    </tr>\n",
       "    <tr>\n",
       "      <th>2010-01-06</th>\n",
       "      <td>31.08</td>\n",
       "      <td>30.520000</td>\n",
       "      <td>30.879999</td>\n",
       "      <td>30.770000</td>\n",
       "      <td>58182400.0</td>\n",
       "      <td>24.301458</td>\n",
       "    </tr>\n",
       "  </tbody>\n",
       "</table>\n",
       "</div>"
      ],
      "text/plain": [
       "             High        Low       Open      Close      Volume  Adj Close\n",
       "Date                                                                     \n",
       "2010-01-04  31.10  30.590000  30.620001  30.950001  38409100.0  24.443624\n",
       "2010-01-05  31.10  30.639999  30.850000  30.959999  49749600.0  24.451517\n",
       "2010-01-06  31.08  30.520000  30.879999  30.770000  58182400.0  24.301458"
      ]
     },
     "execution_count": 149,
     "metadata": {},
     "output_type": "execute_result"
    }
   ],
   "source": [
    "stocks = data.DataReader(name=company, start = start, end= end, data_source=\"yahoo\")\n",
    "stocks.head(3)"
   ]
  },
  {
   "cell_type": "code",
   "execution_count": 152,
   "metadata": {
    "scrolled": true
   },
   "outputs": [
    {
     "data": {
      "text/html": [
       "<div>\n",
       "<style scoped>\n",
       "    .dataframe tbody tr th:only-of-type {\n",
       "        vertical-align: middle;\n",
       "    }\n",
       "\n",
       "    .dataframe tbody tr th {\n",
       "        vertical-align: top;\n",
       "    }\n",
       "\n",
       "    .dataframe thead th {\n",
       "        text-align: right;\n",
       "    }\n",
       "</style>\n",
       "<table border=\"1\" class=\"dataframe\">\n",
       "  <thead>\n",
       "    <tr style=\"text-align: right;\">\n",
       "      <th></th>\n",
       "      <th>High</th>\n",
       "      <th>Low</th>\n",
       "      <th>Open</th>\n",
       "      <th>Close</th>\n",
       "      <th>Volume</th>\n",
       "      <th>Adj Close</th>\n",
       "    </tr>\n",
       "    <tr>\n",
       "      <th>Date</th>\n",
       "      <th></th>\n",
       "      <th></th>\n",
       "      <th></th>\n",
       "      <th></th>\n",
       "      <th></th>\n",
       "      <th></th>\n",
       "    </tr>\n",
       "  </thead>\n",
       "  <tbody>\n",
       "    <tr>\n",
       "      <th>2011-02-07</th>\n",
       "      <td>28.340000</td>\n",
       "      <td>27.790001</td>\n",
       "      <td>27.799999</td>\n",
       "      <td>28.200001</td>\n",
       "      <td>68980900.0</td>\n",
       "      <td>22.735588</td>\n",
       "    </tr>\n",
       "    <tr>\n",
       "      <th>2011-02-08</th>\n",
       "      <td>28.340000</td>\n",
       "      <td>28.049999</td>\n",
       "      <td>28.100000</td>\n",
       "      <td>28.280001</td>\n",
       "      <td>34904200.0</td>\n",
       "      <td>22.800087</td>\n",
       "    </tr>\n",
       "    <tr>\n",
       "      <th>2011-02-09</th>\n",
       "      <td>28.260000</td>\n",
       "      <td>27.910000</td>\n",
       "      <td>28.190001</td>\n",
       "      <td>27.969999</td>\n",
       "      <td>52905100.0</td>\n",
       "      <td>22.550152</td>\n",
       "    </tr>\n",
       "    <tr>\n",
       "      <th>2011-02-10</th>\n",
       "      <td>27.940001</td>\n",
       "      <td>27.290001</td>\n",
       "      <td>27.930000</td>\n",
       "      <td>27.500000</td>\n",
       "      <td>76672400.0</td>\n",
       "      <td>22.171234</td>\n",
       "    </tr>\n",
       "    <tr>\n",
       "      <th>2011-02-11</th>\n",
       "      <td>27.809999</td>\n",
       "      <td>27.070000</td>\n",
       "      <td>27.760000</td>\n",
       "      <td>27.250000</td>\n",
       "      <td>83939700.0</td>\n",
       "      <td>21.969673</td>\n",
       "    </tr>\n",
       "    <tr>\n",
       "      <th>2011-02-14</th>\n",
       "      <td>27.270000</td>\n",
       "      <td>26.950001</td>\n",
       "      <td>27.209999</td>\n",
       "      <td>27.230000</td>\n",
       "      <td>56766200.0</td>\n",
       "      <td>21.953550</td>\n",
       "    </tr>\n",
       "    <tr>\n",
       "      <th>2011-02-15</th>\n",
       "      <td>27.330000</td>\n",
       "      <td>26.950001</td>\n",
       "      <td>27.040001</td>\n",
       "      <td>26.959999</td>\n",
       "      <td>44116500.0</td>\n",
       "      <td>21.864336</td>\n",
       "    </tr>\n",
       "    <tr>\n",
       "      <th>2011-02-16</th>\n",
       "      <td>27.070000</td>\n",
       "      <td>26.600000</td>\n",
       "      <td>27.049999</td>\n",
       "      <td>27.020000</td>\n",
       "      <td>70817900.0</td>\n",
       "      <td>21.912996</td>\n",
       "    </tr>\n",
       "    <tr>\n",
       "      <th>2011-02-17</th>\n",
       "      <td>27.370001</td>\n",
       "      <td>26.910000</td>\n",
       "      <td>26.969999</td>\n",
       "      <td>27.209999</td>\n",
       "      <td>57207300.0</td>\n",
       "      <td>22.067087</td>\n",
       "    </tr>\n",
       "    <tr>\n",
       "      <th>2011-02-18</th>\n",
       "      <td>27.209999</td>\n",
       "      <td>26.990000</td>\n",
       "      <td>27.129999</td>\n",
       "      <td>27.059999</td>\n",
       "      <td>68667800.0</td>\n",
       "      <td>21.945433</td>\n",
       "    </tr>\n",
       "    <tr>\n",
       "      <th>2011-02-22</th>\n",
       "      <td>27.100000</td>\n",
       "      <td>26.520000</td>\n",
       "      <td>26.780001</td>\n",
       "      <td>26.590000</td>\n",
       "      <td>60889000.0</td>\n",
       "      <td>21.564276</td>\n",
       "    </tr>\n",
       "    <tr>\n",
       "      <th>2011-02-23</th>\n",
       "      <td>26.860001</td>\n",
       "      <td>26.430000</td>\n",
       "      <td>26.530001</td>\n",
       "      <td>26.590000</td>\n",
       "      <td>60234100.0</td>\n",
       "      <td>21.564276</td>\n",
       "    </tr>\n",
       "    <tr>\n",
       "      <th>2011-02-24</th>\n",
       "      <td>27.059999</td>\n",
       "      <td>26.500000</td>\n",
       "      <td>26.639999</td>\n",
       "      <td>26.770000</td>\n",
       "      <td>64494200.0</td>\n",
       "      <td>21.710251</td>\n",
       "    </tr>\n",
       "    <tr>\n",
       "      <th>2011-02-25</th>\n",
       "      <td>26.950001</td>\n",
       "      <td>26.500000</td>\n",
       "      <td>26.910000</td>\n",
       "      <td>26.549999</td>\n",
       "      <td>53006300.0</td>\n",
       "      <td>21.531834</td>\n",
       "    </tr>\n",
       "    <tr>\n",
       "      <th>2011-02-28</th>\n",
       "      <td>26.860001</td>\n",
       "      <td>26.510000</td>\n",
       "      <td>26.690001</td>\n",
       "      <td>26.580000</td>\n",
       "      <td>51379900.0</td>\n",
       "      <td>21.556164</td>\n",
       "    </tr>\n",
       "  </tbody>\n",
       "</table>\n",
       "</div>"
      ],
      "text/plain": [
       "                 High        Low       Open      Close      Volume  Adj Close\n",
       "Date                                                                         \n",
       "2011-02-07  28.340000  27.790001  27.799999  28.200001  68980900.0  22.735588\n",
       "2011-02-08  28.340000  28.049999  28.100000  28.280001  34904200.0  22.800087\n",
       "2011-02-09  28.260000  27.910000  28.190001  27.969999  52905100.0  22.550152\n",
       "2011-02-10  27.940001  27.290001  27.930000  27.500000  76672400.0  22.171234\n",
       "2011-02-11  27.809999  27.070000  27.760000  27.250000  83939700.0  21.969673\n",
       "2011-02-14  27.270000  26.950001  27.209999  27.230000  56766200.0  21.953550\n",
       "2011-02-15  27.330000  26.950001  27.040001  26.959999  44116500.0  21.864336\n",
       "2011-02-16  27.070000  26.600000  27.049999  27.020000  70817900.0  21.912996\n",
       "2011-02-17  27.370001  26.910000  26.969999  27.209999  57207300.0  22.067087\n",
       "2011-02-18  27.209999  26.990000  27.129999  27.059999  68667800.0  21.945433\n",
       "2011-02-22  27.100000  26.520000  26.780001  26.590000  60889000.0  21.564276\n",
       "2011-02-23  26.860001  26.430000  26.530001  26.590000  60234100.0  21.564276\n",
       "2011-02-24  27.059999  26.500000  26.639999  26.770000  64494200.0  21.710251\n",
       "2011-02-25  26.950001  26.500000  26.910000  26.549999  53006300.0  21.531834\n",
       "2011-02-28  26.860001  26.510000  26.690001  26.580000  51379900.0  21.556164"
      ]
     },
     "execution_count": 152,
     "metadata": {},
     "output_type": "execute_result"
    }
   ],
   "source": [
    "stocks.truncate(before= \"2011-02-05\", after = \"2011-02-28\") #requires 2 parameters, before and after, will truncate afterwards"
   ]
  },
  {
   "cell_type": "markdown",
   "metadata": {},
   "source": [
    "## pd.DateOffset Objects"
   ]
  },
  {
   "cell_type": "code",
   "execution_count": 159,
   "metadata": {
    "scrolled": true
   },
   "outputs": [
    {
     "data": {
      "text/html": [
       "<div>\n",
       "<style scoped>\n",
       "    .dataframe tbody tr th:only-of-type {\n",
       "        vertical-align: middle;\n",
       "    }\n",
       "\n",
       "    .dataframe tbody tr th {\n",
       "        vertical-align: top;\n",
       "    }\n",
       "\n",
       "    .dataframe thead th {\n",
       "        text-align: right;\n",
       "    }\n",
       "</style>\n",
       "<table border=\"1\" class=\"dataframe\">\n",
       "  <thead>\n",
       "    <tr style=\"text-align: right;\">\n",
       "      <th></th>\n",
       "      <th>High</th>\n",
       "      <th>Low</th>\n",
       "      <th>Open</th>\n",
       "      <th>Close</th>\n",
       "      <th>Volume</th>\n",
       "      <th>Adj Close</th>\n",
       "    </tr>\n",
       "    <tr>\n",
       "      <th>Date</th>\n",
       "      <th></th>\n",
       "      <th></th>\n",
       "      <th></th>\n",
       "      <th></th>\n",
       "      <th></th>\n",
       "      <th></th>\n",
       "    </tr>\n",
       "  </thead>\n",
       "  <tbody>\n",
       "    <tr>\n",
       "      <th>2004-08-19</th>\n",
       "      <td>51.835709</td>\n",
       "      <td>47.800831</td>\n",
       "      <td>49.813286</td>\n",
       "      <td>49.982655</td>\n",
       "      <td>44871300.0</td>\n",
       "      <td>49.982655</td>\n",
       "    </tr>\n",
       "    <tr>\n",
       "      <th>2004-08-20</th>\n",
       "      <td>54.336334</td>\n",
       "      <td>50.062355</td>\n",
       "      <td>50.316402</td>\n",
       "      <td>53.952770</td>\n",
       "      <td>22942800.0</td>\n",
       "      <td>53.952770</td>\n",
       "    </tr>\n",
       "    <tr>\n",
       "      <th>2004-08-23</th>\n",
       "      <td>56.528118</td>\n",
       "      <td>54.321388</td>\n",
       "      <td>55.168217</td>\n",
       "      <td>54.495735</td>\n",
       "      <td>18342800.0</td>\n",
       "      <td>54.495735</td>\n",
       "    </tr>\n",
       "  </tbody>\n",
       "</table>\n",
       "</div>"
      ],
      "text/plain": [
       "                 High        Low       Open      Close      Volume  Adj Close\n",
       "Date                                                                         \n",
       "2004-08-19  51.835709  47.800831  49.813286  49.982655  44871300.0  49.982655\n",
       "2004-08-20  54.336334  50.062355  50.316402  53.952770  22942800.0  53.952770\n",
       "2004-08-23  56.528118  54.321388  55.168217  54.495735  18342800.0  54.495735"
      ]
     },
     "execution_count": 159,
     "metadata": {},
     "output_type": "execute_result"
    }
   ],
   "source": [
    "stocks = data.DataReader(name=\"GOOG\", data_source=\"yahoo\", start=dt.date(2000, 1, 1), end = dt.datetime.now())\n",
    "stocks.head(3)"
   ]
  },
  {
   "cell_type": "code",
   "execution_count": 160,
   "metadata": {},
   "outputs": [
    {
     "data": {
      "text/plain": [
       "DatetimeIndex(['2004-08-19', '2004-08-20', '2004-08-23', '2004-08-24',\n",
       "               '2004-08-25', '2004-08-26', '2004-08-27', '2004-08-30',\n",
       "               '2004-08-31', '2004-09-01',\n",
       "               ...\n",
       "               '2019-09-25', '2019-09-26', '2019-09-27', '2019-09-30',\n",
       "               '2019-10-01', '2019-10-02', '2019-10-03', '2019-10-04',\n",
       "               '2019-10-07', '2019-10-08'],\n",
       "              dtype='datetime64[ns]', name='Date', length=3811, freq=None)"
      ]
     },
     "execution_count": 160,
     "metadata": {},
     "output_type": "execute_result"
    }
   ],
   "source": [
    "stocks.index"
   ]
  },
  {
   "cell_type": "code",
   "execution_count": 163,
   "metadata": {
    "scrolled": true
   },
   "outputs": [
    {
     "data": {
      "text/plain": [
       "DatetimeIndex(['2004-08-29', '2004-08-30', '2004-09-02', '2004-09-03',\n",
       "               '2004-09-04', '2004-09-05', '2004-09-06', '2004-09-09',\n",
       "               '2004-09-10', '2004-09-11',\n",
       "               ...\n",
       "               '2019-10-05', '2019-10-06', '2019-10-07', '2019-10-10',\n",
       "               '2019-10-11', '2019-10-12', '2019-10-13', '2019-10-14',\n",
       "               '2019-10-17', '2019-10-18'],\n",
       "              dtype='datetime64[ns]', name='Date', length=3811, freq=None)"
      ]
     },
     "execution_count": 163,
     "metadata": {},
     "output_type": "execute_result"
    }
   ],
   "source": [
    "#let's say we want to add 5 days to all the indeces above\n",
    "stocks.index + pd.DateOffset(days=5)"
   ]
  },
  {
   "cell_type": "code",
   "execution_count": 166,
   "metadata": {},
   "outputs": [
    {
     "data": {
      "text/plain": [
       "DatetimeIndex(['2004-09-14', '2004-09-15', '2004-09-18', '2004-09-19',\n",
       "               '2004-09-20', '2004-09-21', '2004-09-22', '2004-09-25',\n",
       "               '2004-09-26', '2004-09-27',\n",
       "               ...\n",
       "               '2019-10-21', '2019-10-22', '2019-10-23', '2019-10-26',\n",
       "               '2019-10-27', '2019-10-28', '2019-10-29', '2019-10-30',\n",
       "               '2019-11-02', '2019-11-03'],\n",
       "              dtype='datetime64[ns]', name='Date', length=3811, freq=None)"
      ]
     },
     "execution_count": 166,
     "metadata": {},
     "output_type": "execute_result"
    }
   ],
   "source": [
    "stocks.index + pd.DateOffset(weeks=3)"
   ]
  },
  {
   "cell_type": "code",
   "execution_count": 167,
   "metadata": {},
   "outputs": [
    {
     "data": {
      "text/plain": [
       "DatetimeIndex(['2004-06-24', '2004-06-25', '2004-06-28', '2004-06-29',\n",
       "               '2004-06-30', '2004-06-30', '2004-07-01', '2004-07-04',\n",
       "               '2004-07-05', '2004-07-06',\n",
       "               ...\n",
       "               '2019-07-30', '2019-08-01', '2019-08-02', '2019-08-05',\n",
       "               '2019-08-06', '2019-08-07', '2019-08-08', '2019-08-09',\n",
       "               '2019-08-12', '2019-08-13'],\n",
       "              dtype='datetime64[ns]', name='Date', length=3811, freq=None)"
      ]
     },
     "execution_count": 167,
     "metadata": {},
     "output_type": "execute_result"
    }
   ],
   "source": [
    "stocks.index - pd.DateOffset(months= 2)"
   ]
  },
  {
   "cell_type": "code",
   "execution_count": 170,
   "metadata": {},
   "outputs": [
    {
     "data": {
      "text/plain": [
       "DatetimeIndex(['2005-08-24', '2005-08-25', '2005-08-28', '2005-08-29',\n",
       "               '2005-08-30', '2005-08-31', '2005-09-01', '2005-09-04',\n",
       "               '2005-09-05', '2005-09-06',\n",
       "               ...\n",
       "               '2020-09-30', '2020-10-01', '2020-10-02', '2020-10-05',\n",
       "               '2020-10-06', '2020-10-07', '2020-10-08', '2020-10-09',\n",
       "               '2020-10-12', '2020-10-13'],\n",
       "              dtype='datetime64[ns]', name='Date', length=3811, freq=None)"
      ]
     },
     "execution_count": 170,
     "metadata": {},
     "output_type": "execute_result"
    }
   ],
   "source": [
    "stocks.index + pd.DateOffset(years = 1)"
   ]
  },
  {
   "cell_type": "code",
   "execution_count": 173,
   "metadata": {},
   "outputs": [
    {
     "data": {
      "text/plain": [
       "DatetimeIndex(['2004-08-24 04:20:10', '2004-08-25 04:20:10',\n",
       "               '2004-08-28 04:20:10', '2004-08-29 04:20:10',\n",
       "               '2004-08-30 04:20:10', '2004-08-31 04:20:10',\n",
       "               '2004-09-01 04:20:10', '2004-09-04 04:20:10',\n",
       "               '2004-09-05 04:20:10', '2004-09-06 04:20:10',\n",
       "               ...\n",
       "               '2019-09-30 04:20:10', '2019-10-01 04:20:10',\n",
       "               '2019-10-02 04:20:10', '2019-10-05 04:20:10',\n",
       "               '2019-10-06 04:20:10', '2019-10-07 04:20:10',\n",
       "               '2019-10-08 04:20:10', '2019-10-09 04:20:10',\n",
       "               '2019-10-12 04:20:10', '2019-10-13 04:20:10'],\n",
       "              dtype='datetime64[ns]', name='Date', length=3811, freq=None)"
      ]
     },
     "execution_count": 173,
     "metadata": {},
     "output_type": "execute_result"
    }
   ],
   "source": [
    "stocks.index + pd.DateOffset(hours = 4, minutes = 20, seconds = 10)"
   ]
  },
  {
   "cell_type": "markdown",
   "metadata": {},
   "source": [
    "## More Fun with pd.DateOffset Objects"
   ]
  },
  {
   "cell_type": "code",
   "execution_count": 180,
   "metadata": {},
   "outputs": [],
   "source": [
    "import pandas as pd\n",
    "import datetime as dt\n",
    "from pandas_datareader import data\n",
    "from pandas.tseries.offsets import *"
   ]
  },
  {
   "cell_type": "code",
   "execution_count": 181,
   "metadata": {},
   "outputs": [
    {
     "data": {
      "text/html": [
       "<div>\n",
       "<style scoped>\n",
       "    .dataframe tbody tr th:only-of-type {\n",
       "        vertical-align: middle;\n",
       "    }\n",
       "\n",
       "    .dataframe tbody tr th {\n",
       "        vertical-align: top;\n",
       "    }\n",
       "\n",
       "    .dataframe thead th {\n",
       "        text-align: right;\n",
       "    }\n",
       "</style>\n",
       "<table border=\"1\" class=\"dataframe\">\n",
       "  <thead>\n",
       "    <tr style=\"text-align: right;\">\n",
       "      <th></th>\n",
       "      <th>High</th>\n",
       "      <th>Low</th>\n",
       "      <th>Open</th>\n",
       "      <th>Close</th>\n",
       "      <th>Volume</th>\n",
       "      <th>Adj Close</th>\n",
       "    </tr>\n",
       "    <tr>\n",
       "      <th>Date</th>\n",
       "      <th></th>\n",
       "      <th></th>\n",
       "      <th></th>\n",
       "      <th></th>\n",
       "      <th></th>\n",
       "      <th></th>\n",
       "    </tr>\n",
       "  </thead>\n",
       "  <tbody>\n",
       "    <tr>\n",
       "      <th>2004-08-19</th>\n",
       "      <td>51.835709</td>\n",
       "      <td>47.800831</td>\n",
       "      <td>49.813286</td>\n",
       "      <td>49.982655</td>\n",
       "      <td>44871300.0</td>\n",
       "      <td>49.982655</td>\n",
       "    </tr>\n",
       "    <tr>\n",
       "      <th>2004-08-20</th>\n",
       "      <td>54.336334</td>\n",
       "      <td>50.062355</td>\n",
       "      <td>50.316402</td>\n",
       "      <td>53.952770</td>\n",
       "      <td>22942800.0</td>\n",
       "      <td>53.952770</td>\n",
       "    </tr>\n",
       "    <tr>\n",
       "      <th>2004-08-23</th>\n",
       "      <td>56.528118</td>\n",
       "      <td>54.321388</td>\n",
       "      <td>55.168217</td>\n",
       "      <td>54.495735</td>\n",
       "      <td>18342800.0</td>\n",
       "      <td>54.495735</td>\n",
       "    </tr>\n",
       "    <tr>\n",
       "      <th>2004-08-24</th>\n",
       "      <td>55.591629</td>\n",
       "      <td>51.591621</td>\n",
       "      <td>55.412300</td>\n",
       "      <td>52.239193</td>\n",
       "      <td>15319700.0</td>\n",
       "      <td>52.239193</td>\n",
       "    </tr>\n",
       "  </tbody>\n",
       "</table>\n",
       "</div>"
      ],
      "text/plain": [
       "                 High        Low       Open      Close      Volume  Adj Close\n",
       "Date                                                                         \n",
       "2004-08-19  51.835709  47.800831  49.813286  49.982655  44871300.0  49.982655\n",
       "2004-08-20  54.336334  50.062355  50.316402  53.952770  22942800.0  53.952770\n",
       "2004-08-23  56.528118  54.321388  55.168217  54.495735  18342800.0  54.495735\n",
       "2004-08-24  55.591629  51.591621  55.412300  52.239193  15319700.0  52.239193"
      ]
     },
     "execution_count": 181,
     "metadata": {},
     "output_type": "execute_result"
    }
   ],
   "source": [
    "stocks = data.DataReader(name = \"GOOG\", data_source = \"yahoo\", start = dt.date(2000, 1, 1), end=dt.datetime.now())\n",
    "stocks.head(4)"
   ]
  },
  {
   "cell_type": "code",
   "execution_count": 182,
   "metadata": {},
   "outputs": [
    {
     "data": {
      "text/plain": [
       "DatetimeIndex(['2004-08-31', '2004-08-31', '2004-08-31', '2004-08-31',\n",
       "               '2004-08-31', '2004-08-31', '2004-08-31', '2004-08-31',\n",
       "               '2004-09-30', '2004-09-30',\n",
       "               ...\n",
       "               '2019-09-30', '2019-09-30', '2019-09-30', '2019-10-31',\n",
       "               '2019-10-31', '2019-10-31', '2019-10-31', '2019-10-31',\n",
       "               '2019-10-31', '2019-10-31'],\n",
       "              dtype='datetime64[ns]', name='Date', length=3811, freq=None)"
      ]
     },
     "execution_count": 182,
     "metadata": {},
     "output_type": "execute_result"
    }
   ],
   "source": [
    "#What if we want to round these dates to the closest day of the month? or the start of the quarter? End of the quarter?\n",
    "#not manually, but in a more clever way\n",
    "stocks.index + pd.tseries.offsets.MonthEnd()"
   ]
  },
  {
   "cell_type": "code",
   "execution_count": 184,
   "metadata": {},
   "outputs": [
    {
     "data": {
      "text/plain": [
       "DatetimeIndex(['2004-08-01', '2004-08-01', '2004-08-01', '2004-08-01',\n",
       "               '2004-08-01', '2004-08-01', '2004-08-01', '2004-08-01',\n",
       "               '2004-08-01', '2004-08-01',\n",
       "               ...\n",
       "               '2019-09-01', '2019-09-01', '2019-09-01', '2019-09-01',\n",
       "               '2019-09-01', '2019-10-01', '2019-10-01', '2019-10-01',\n",
       "               '2019-10-01', '2019-10-01'],\n",
       "              dtype='datetime64[ns]', name='Date', length=3811, freq=None)"
      ]
     },
     "execution_count": 184,
     "metadata": {},
     "output_type": "execute_result"
    }
   ],
   "source": [
    "stocks.index - pd.tseries.offsets.MonthBegin() #can use MonthBegin since we already imported it up top with the *"
   ]
  },
  {
   "cell_type": "code",
   "execution_count": 186,
   "metadata": {},
   "outputs": [
    {
     "data": {
      "text/plain": [
       "DatetimeIndex(['2004-12-31', '2004-12-31', '2004-12-31', '2004-12-31',\n",
       "               '2004-12-31', '2004-12-31', '2004-12-31', '2004-12-31',\n",
       "               '2004-12-31', '2004-12-31',\n",
       "               ...\n",
       "               '2019-12-31', '2019-12-31', '2019-12-31', '2019-12-31',\n",
       "               '2019-12-31', '2019-12-31', '2019-12-31', '2019-12-31',\n",
       "               '2019-12-31', '2019-12-31'],\n",
       "              dtype='datetime64[ns]', name='Date', length=3811, freq=None)"
      ]
     },
     "execution_count": 186,
     "metadata": {},
     "output_type": "execute_result"
    }
   ],
   "source": [
    "stocks.index + YearEnd()"
   ]
  },
  {
   "cell_type": "code",
   "execution_count": 187,
   "metadata": {},
   "outputs": [
    {
     "data": {
      "text/plain": [
       "DatetimeIndex(['2005-01-01', '2005-01-01', '2005-01-01', '2005-01-01',\n",
       "               '2005-01-01', '2005-01-01', '2005-01-01', '2005-01-01',\n",
       "               '2005-01-01', '2005-01-01',\n",
       "               ...\n",
       "               '2020-01-01', '2020-01-01', '2020-01-01', '2020-01-01',\n",
       "               '2020-01-01', '2020-01-01', '2020-01-01', '2020-01-01',\n",
       "               '2020-01-01', '2020-01-01'],\n",
       "              dtype='datetime64[ns]', name='Date', length=3811, freq=None)"
      ]
     },
     "execution_count": 187,
     "metadata": {},
     "output_type": "execute_result"
    }
   ],
   "source": [
    "stocks.index + YearBegin()"
   ]
  },
  {
   "cell_type": "code",
   "execution_count": 188,
   "metadata": {},
   "outputs": [
    {
     "data": {
      "text/plain": [
       "DatetimeIndex(['2004-01-01', '2004-01-01', '2004-01-01', '2004-01-01',\n",
       "               '2004-01-01', '2004-01-01', '2004-01-01', '2004-01-01',\n",
       "               '2004-01-01', '2004-01-01',\n",
       "               ...\n",
       "               '2019-01-01', '2019-01-01', '2019-01-01', '2019-01-01',\n",
       "               '2019-01-01', '2019-01-01', '2019-01-01', '2019-01-01',\n",
       "               '2019-01-01', '2019-01-01'],\n",
       "              dtype='datetime64[ns]', name='Date', length=3811, freq=None)"
      ]
     },
     "execution_count": 188,
     "metadata": {},
     "output_type": "execute_result"
    }
   ],
   "source": [
    "stocks.index - YearBegin()"
   ]
  },
  {
   "cell_type": "markdown",
   "metadata": {},
   "source": [
    "## The Pandas Timedelta Object"
   ]
  },
  {
   "cell_type": "code",
   "execution_count": 190,
   "metadata": {},
   "outputs": [],
   "source": [
    "#An object that represents a distance in time, a difference of times, a time span\n",
    "#two ways to create timedelta\n",
    "import pandas as pd\n",
    "timeA = pd.Timestamp(\"2016-03-31\")\n",
    "timeB = pd.Timestamp(\"2016-04-29\")"
   ]
  },
  {
   "cell_type": "code",
   "execution_count": 191,
   "metadata": {},
   "outputs": [
    {
     "data": {
      "text/plain": [
       "Timedelta('29 days 00:00:00')"
      ]
     },
     "execution_count": 191,
     "metadata": {},
     "output_type": "execute_result"
    }
   ],
   "source": [
    "timeB - timeA"
   ]
  },
  {
   "cell_type": "code",
   "execution_count": 192,
   "metadata": {},
   "outputs": [
    {
     "data": {
      "text/plain": [
       "pandas._libs.tslibs.timestamps.Timestamp"
      ]
     },
     "execution_count": 192,
     "metadata": {},
     "output_type": "execute_result"
    }
   ],
   "source": [
    "type(timeA)"
   ]
  },
  {
   "cell_type": "code",
   "execution_count": 193,
   "metadata": {},
   "outputs": [
    {
     "data": {
      "text/plain": [
       "pandas._libs.tslibs.timedeltas.Timedelta"
      ]
     },
     "execution_count": 193,
     "metadata": {},
     "output_type": "execute_result"
    }
   ],
   "source": [
    "type(timeA - timeB)"
   ]
  },
  {
   "cell_type": "code",
   "execution_count": 195,
   "metadata": {},
   "outputs": [
    {
     "data": {
      "text/plain": [
       "Timedelta('-29 days +00:00:00')"
      ]
     },
     "execution_count": 195,
     "metadata": {},
     "output_type": "execute_result"
    }
   ],
   "source": [
    "timeA - timeB"
   ]
  },
  {
   "cell_type": "code",
   "execution_count": 197,
   "metadata": {},
   "outputs": [
    {
     "data": {
      "text/plain": [
       "Timedelta('59 days 12:10:00')"
      ]
     },
     "execution_count": 197,
     "metadata": {},
     "output_type": "execute_result"
    }
   ],
   "source": [
    "#years parameter does not work, unlike the offset method\n",
    "#notice that the weeks parameter works fine here\n",
    "pd.Timedelta(days=3, minutes=10, hours=12, weeks=8)"
   ]
  },
  {
   "cell_type": "code",
   "execution_count": 198,
   "metadata": {},
   "outputs": [
    {
     "data": {
      "text/plain": [
       "Timedelta('0 days 00:05:00')"
      ]
     },
     "execution_count": 198,
     "metadata": {},
     "output_type": "execute_result"
    }
   ],
   "source": [
    "pd.Timedelta(\"5 minutes\")"
   ]
  },
  {
   "cell_type": "code",
   "execution_count": 203,
   "metadata": {},
   "outputs": [
    {
     "data": {
      "text/plain": [
       "Timedelta('14 days 06:49:02')"
      ]
     },
     "execution_count": 203,
     "metadata": {},
     "output_type": "execute_result"
    }
   ],
   "source": [
    "#notice how the week parameter doesn't work in this forat\n",
    "pd.Timedelta(\"14 days 6 hours 49 minutes 2 seconds\")"
   ]
  },
  {
   "cell_type": "markdown",
   "metadata": {},
   "source": [
    "## Timedeltas in a Dataset"
   ]
  },
  {
   "cell_type": "code",
   "execution_count": 208,
   "metadata": {
    "scrolled": true
   },
   "outputs": [
    {
     "data": {
      "text/html": [
       "<div>\n",
       "<style scoped>\n",
       "    .dataframe tbody tr th:only-of-type {\n",
       "        vertical-align: middle;\n",
       "    }\n",
       "\n",
       "    .dataframe tbody tr th {\n",
       "        vertical-align: top;\n",
       "    }\n",
       "\n",
       "    .dataframe thead th {\n",
       "        text-align: right;\n",
       "    }\n",
       "</style>\n",
       "<table border=\"1\" class=\"dataframe\">\n",
       "  <thead>\n",
       "    <tr style=\"text-align: right;\">\n",
       "      <th></th>\n",
       "      <th>order_date</th>\n",
       "      <th>delivery_date</th>\n",
       "    </tr>\n",
       "    <tr>\n",
       "      <th>ID</th>\n",
       "      <th></th>\n",
       "      <th></th>\n",
       "    </tr>\n",
       "  </thead>\n",
       "  <tbody>\n",
       "    <tr>\n",
       "      <th>1</th>\n",
       "      <td>1998-05-24</td>\n",
       "      <td>1999-02-05</td>\n",
       "    </tr>\n",
       "    <tr>\n",
       "      <th>2</th>\n",
       "      <td>1992-04-22</td>\n",
       "      <td>1998-03-06</td>\n",
       "    </tr>\n",
       "    <tr>\n",
       "      <th>4</th>\n",
       "      <td>1991-02-10</td>\n",
       "      <td>1992-08-26</td>\n",
       "    </tr>\n",
       "  </tbody>\n",
       "</table>\n",
       "</div>"
      ],
      "text/plain": [
       "   order_date delivery_date\n",
       "ID                         \n",
       "1  1998-05-24    1999-02-05\n",
       "2  1992-04-22    1998-03-06\n",
       "4  1991-02-10    1992-08-26"
      ]
     },
     "execution_count": 208,
     "metadata": {},
     "output_type": "execute_result"
    }
   ],
   "source": [
    "import pandas as pd\n",
    "shipping = pd.read_csv(\"ecommerce.csv\", index_col=\"ID\", parse_dates=[\"order_date\", \"delivery_date\"])\n",
    "shipping.head(3)"
   ]
  },
  {
   "cell_type": "code",
   "execution_count": 209,
   "metadata": {
    "scrolled": true
   },
   "outputs": [
    {
     "data": {
      "text/plain": [
       "ID\n",
       "1      257 days\n",
       "2     2144 days\n",
       "4      563 days\n",
       "5     1948 days\n",
       "7     1742 days\n",
       "8      154 days\n",
       "9     1711 days\n",
       "10    2502 days\n",
       "11     367 days\n",
       "18     848 days\n",
       "19       9 days\n",
       "20    2180 days\n",
       "23    2633 days\n",
       "26     753 days\n",
       "30      81 days\n",
       "32    3107 days\n",
       "33     752 days\n",
       "35     961 days\n",
       "36    1371 days\n",
       "39    1036 days\n",
       "41    1555 days\n",
       "46     318 days\n",
       "50    2997 days\n",
       "52     985 days\n",
       "53     937 days\n",
       "54     605 days\n",
       "58      64 days\n",
       "59      78 days\n",
       "60     903 days\n",
       "63    1715 days\n",
       "         ...   \n",
       "932    258 days\n",
       "934     50 days\n",
       "935   2719 days\n",
       "938    843 days\n",
       "939     67 days\n",
       "942   1784 days\n",
       "943   3228 days\n",
       "945    737 days\n",
       "946   1697 days\n",
       "947   2915 days\n",
       "949     92 days\n",
       "951    929 days\n",
       "953    955 days\n",
       "954    168 days\n",
       "956   1236 days\n",
       "957   1758 days\n",
       "958   2621 days\n",
       "969     53 days\n",
       "972   2097 days\n",
       "975    137 days\n",
       "981    397 days\n",
       "983    942 days\n",
       "984   2756 days\n",
       "985    328 days\n",
       "986    737 days\n",
       "990   1684 days\n",
       "991   2394 days\n",
       "993   2719 days\n",
       "994     10 days\n",
       "997    637 days\n",
       "Length: 501, dtype: timedelta64[ns]"
      ]
     },
     "execution_count": 209,
     "metadata": {},
     "output_type": "execute_result"
    }
   ],
   "source": [
    "shipping[\"delivery_date\"] - shipping[\"order_date\"] "
   ]
  },
  {
   "cell_type": "code",
   "execution_count": 210,
   "metadata": {},
   "outputs": [],
   "source": [
    "shipping[\"Delivery Time\"] = shipping[\"delivery_date\"] - shipping[\"order_date\"] "
   ]
  },
  {
   "cell_type": "code",
   "execution_count": 211,
   "metadata": {},
   "outputs": [],
   "source": [
    "shipping[\"Tice as Long\"] = shipping[\"delivery_date\"] + shipping[\"Delivery Time\"]"
   ]
  },
  {
   "cell_type": "code",
   "execution_count": 212,
   "metadata": {},
   "outputs": [
    {
     "data": {
      "text/html": [
       "<div>\n",
       "<style scoped>\n",
       "    .dataframe tbody tr th:only-of-type {\n",
       "        vertical-align: middle;\n",
       "    }\n",
       "\n",
       "    .dataframe tbody tr th {\n",
       "        vertical-align: top;\n",
       "    }\n",
       "\n",
       "    .dataframe thead th {\n",
       "        text-align: right;\n",
       "    }\n",
       "</style>\n",
       "<table border=\"1\" class=\"dataframe\">\n",
       "  <thead>\n",
       "    <tr style=\"text-align: right;\">\n",
       "      <th></th>\n",
       "      <th>order_date</th>\n",
       "      <th>delivery_date</th>\n",
       "      <th>Delivery Time</th>\n",
       "      <th>Tice as Long</th>\n",
       "    </tr>\n",
       "    <tr>\n",
       "      <th>ID</th>\n",
       "      <th></th>\n",
       "      <th></th>\n",
       "      <th></th>\n",
       "      <th></th>\n",
       "    </tr>\n",
       "  </thead>\n",
       "  <tbody>\n",
       "    <tr>\n",
       "      <th>1</th>\n",
       "      <td>1998-05-24</td>\n",
       "      <td>1999-02-05</td>\n",
       "      <td>257 days</td>\n",
       "      <td>1999-10-20</td>\n",
       "    </tr>\n",
       "    <tr>\n",
       "      <th>2</th>\n",
       "      <td>1992-04-22</td>\n",
       "      <td>1998-03-06</td>\n",
       "      <td>2144 days</td>\n",
       "      <td>2004-01-18</td>\n",
       "    </tr>\n",
       "    <tr>\n",
       "      <th>4</th>\n",
       "      <td>1991-02-10</td>\n",
       "      <td>1992-08-26</td>\n",
       "      <td>563 days</td>\n",
       "      <td>1994-03-12</td>\n",
       "    </tr>\n",
       "  </tbody>\n",
       "</table>\n",
       "</div>"
      ],
      "text/plain": [
       "   order_date delivery_date Delivery Time Tice as Long\n",
       "ID                                                    \n",
       "1  1998-05-24    1999-02-05      257 days   1999-10-20\n",
       "2  1992-04-22    1998-03-06     2144 days   2004-01-18\n",
       "4  1991-02-10    1992-08-26      563 days   1994-03-12"
      ]
     },
     "execution_count": 212,
     "metadata": {},
     "output_type": "execute_result"
    }
   ],
   "source": [
    "shipping.head(3)"
   ]
  },
  {
   "cell_type": "code",
   "execution_count": 218,
   "metadata": {},
   "outputs": [
    {
     "data": {
      "text/plain": [
       "order_date        datetime64[ns]\n",
       "delivery_date     datetime64[ns]\n",
       "Delivery Time    timedelta64[ns]\n",
       "Tice as Long      datetime64[ns]\n",
       "dtype: object"
      ]
     },
     "execution_count": 218,
     "metadata": {},
     "output_type": "execute_result"
    }
   ],
   "source": [
    "shipping.dtypes"
   ]
  },
  {
   "cell_type": "code",
   "execution_count": 219,
   "metadata": {
    "scrolled": true
   },
   "outputs": [],
   "source": [
    "mask = shipping[\"Delivery Time\"] > \"3000 days\""
   ]
  },
  {
   "cell_type": "code",
   "execution_count": 220,
   "metadata": {
    "scrolled": true
   },
   "outputs": [
    {
     "data": {
      "text/html": [
       "<div>\n",
       "<style scoped>\n",
       "    .dataframe tbody tr th:only-of-type {\n",
       "        vertical-align: middle;\n",
       "    }\n",
       "\n",
       "    .dataframe tbody tr th {\n",
       "        vertical-align: top;\n",
       "    }\n",
       "\n",
       "    .dataframe thead th {\n",
       "        text-align: right;\n",
       "    }\n",
       "</style>\n",
       "<table border=\"1\" class=\"dataframe\">\n",
       "  <thead>\n",
       "    <tr style=\"text-align: right;\">\n",
       "      <th></th>\n",
       "      <th>order_date</th>\n",
       "      <th>delivery_date</th>\n",
       "      <th>Delivery Time</th>\n",
       "      <th>Tice as Long</th>\n",
       "    </tr>\n",
       "    <tr>\n",
       "      <th>ID</th>\n",
       "      <th></th>\n",
       "      <th></th>\n",
       "      <th></th>\n",
       "      <th></th>\n",
       "    </tr>\n",
       "  </thead>\n",
       "  <tbody>\n",
       "    <tr>\n",
       "      <th>32</th>\n",
       "      <td>1990-01-20</td>\n",
       "      <td>1998-07-24</td>\n",
       "      <td>3107 days</td>\n",
       "      <td>2007-01-25</td>\n",
       "    </tr>\n",
       "    <tr>\n",
       "      <th>130</th>\n",
       "      <td>1990-04-02</td>\n",
       "      <td>1999-08-16</td>\n",
       "      <td>3423 days</td>\n",
       "      <td>2008-12-29</td>\n",
       "    </tr>\n",
       "    <tr>\n",
       "      <th>151</th>\n",
       "      <td>1991-01-29</td>\n",
       "      <td>1999-08-05</td>\n",
       "      <td>3110 days</td>\n",
       "      <td>2008-02-09</td>\n",
       "    </tr>\n",
       "    <tr>\n",
       "      <th>229</th>\n",
       "      <td>1990-04-13</td>\n",
       "      <td>1998-11-17</td>\n",
       "      <td>3140 days</td>\n",
       "      <td>2007-06-23</td>\n",
       "    </tr>\n",
       "    <tr>\n",
       "      <th>314</th>\n",
       "      <td>1990-03-07</td>\n",
       "      <td>1999-12-25</td>\n",
       "      <td>3580 days</td>\n",
       "      <td>2009-10-13</td>\n",
       "    </tr>\n",
       "    <tr>\n",
       "      <th>331</th>\n",
       "      <td>1990-09-18</td>\n",
       "      <td>1999-12-19</td>\n",
       "      <td>3379 days</td>\n",
       "      <td>2009-03-20</td>\n",
       "    </tr>\n",
       "    <tr>\n",
       "      <th>348</th>\n",
       "      <td>1990-02-27</td>\n",
       "      <td>1999-01-04</td>\n",
       "      <td>3233 days</td>\n",
       "      <td>2007-11-11</td>\n",
       "    </tr>\n",
       "    <tr>\n",
       "      <th>392</th>\n",
       "      <td>1990-12-24</td>\n",
       "      <td>1999-12-04</td>\n",
       "      <td>3267 days</td>\n",
       "      <td>2008-11-13</td>\n",
       "    </tr>\n",
       "    <tr>\n",
       "      <th>590</th>\n",
       "      <td>1990-03-25</td>\n",
       "      <td>1998-12-20</td>\n",
       "      <td>3192 days</td>\n",
       "      <td>2007-09-16</td>\n",
       "    </tr>\n",
       "    <tr>\n",
       "      <th>634</th>\n",
       "      <td>1991-04-04</td>\n",
       "      <td>1999-07-21</td>\n",
       "      <td>3030 days</td>\n",
       "      <td>2007-11-06</td>\n",
       "    </tr>\n",
       "    <tr>\n",
       "      <th>674</th>\n",
       "      <td>1990-03-16</td>\n",
       "      <td>1998-12-28</td>\n",
       "      <td>3209 days</td>\n",
       "      <td>2007-10-11</td>\n",
       "    </tr>\n",
       "    <tr>\n",
       "      <th>760</th>\n",
       "      <td>1990-09-16</td>\n",
       "      <td>1998-12-06</td>\n",
       "      <td>3003 days</td>\n",
       "      <td>2007-02-25</td>\n",
       "    </tr>\n",
       "    <tr>\n",
       "      <th>764</th>\n",
       "      <td>1990-09-19</td>\n",
       "      <td>1999-09-16</td>\n",
       "      <td>3284 days</td>\n",
       "      <td>2008-09-12</td>\n",
       "    </tr>\n",
       "    <tr>\n",
       "      <th>786</th>\n",
       "      <td>1990-10-26</td>\n",
       "      <td>1999-05-10</td>\n",
       "      <td>3118 days</td>\n",
       "      <td>2007-11-22</td>\n",
       "    </tr>\n",
       "    <tr>\n",
       "      <th>884</th>\n",
       "      <td>1990-01-20</td>\n",
       "      <td>1999-11-12</td>\n",
       "      <td>3583 days</td>\n",
       "      <td>2009-09-03</td>\n",
       "    </tr>\n",
       "    <tr>\n",
       "      <th>902</th>\n",
       "      <td>1991-07-03</td>\n",
       "      <td>1999-11-10</td>\n",
       "      <td>3052 days</td>\n",
       "      <td>2008-03-19</td>\n",
       "    </tr>\n",
       "    <tr>\n",
       "      <th>904</th>\n",
       "      <td>1990-02-13</td>\n",
       "      <td>1999-11-15</td>\n",
       "      <td>3562 days</td>\n",
       "      <td>2009-08-16</td>\n",
       "    </tr>\n",
       "    <tr>\n",
       "      <th>943</th>\n",
       "      <td>1991-01-30</td>\n",
       "      <td>1999-12-02</td>\n",
       "      <td>3228 days</td>\n",
       "      <td>2008-10-03</td>\n",
       "    </tr>\n",
       "  </tbody>\n",
       "</table>\n",
       "</div>"
      ],
      "text/plain": [
       "    order_date delivery_date Delivery Time Tice as Long\n",
       "ID                                                     \n",
       "32  1990-01-20    1998-07-24     3107 days   2007-01-25\n",
       "130 1990-04-02    1999-08-16     3423 days   2008-12-29\n",
       "151 1991-01-29    1999-08-05     3110 days   2008-02-09\n",
       "229 1990-04-13    1998-11-17     3140 days   2007-06-23\n",
       "314 1990-03-07    1999-12-25     3580 days   2009-10-13\n",
       "331 1990-09-18    1999-12-19     3379 days   2009-03-20\n",
       "348 1990-02-27    1999-01-04     3233 days   2007-11-11\n",
       "392 1990-12-24    1999-12-04     3267 days   2008-11-13\n",
       "590 1990-03-25    1998-12-20     3192 days   2007-09-16\n",
       "634 1991-04-04    1999-07-21     3030 days   2007-11-06\n",
       "674 1990-03-16    1998-12-28     3209 days   2007-10-11\n",
       "760 1990-09-16    1998-12-06     3003 days   2007-02-25\n",
       "764 1990-09-19    1999-09-16     3284 days   2008-09-12\n",
       "786 1990-10-26    1999-05-10     3118 days   2007-11-22\n",
       "884 1990-01-20    1999-11-12     3583 days   2009-09-03\n",
       "902 1991-07-03    1999-11-10     3052 days   2008-03-19\n",
       "904 1990-02-13    1999-11-15     3562 days   2009-08-16\n",
       "943 1991-01-30    1999-12-02     3228 days   2008-10-03"
      ]
     },
     "execution_count": 220,
     "metadata": {},
     "output_type": "execute_result"
    }
   ],
   "source": [
    "shipping[mask]"
   ]
  },
  {
   "cell_type": "code",
   "execution_count": 221,
   "metadata": {},
   "outputs": [],
   "source": [
    "mask = shipping[\"Delivery Time\"] == \"3423 days\""
   ]
  },
  {
   "cell_type": "code",
   "execution_count": null,
   "metadata": {},
   "outputs": [],
   "source": [
    "shipping[\"delivery_date\"] "
   ]
  },
  {
   "cell_type": "code",
   "execution_count": 222,
   "metadata": {},
   "outputs": [
    {
     "data": {
      "text/plain": [
       "Timedelta('3583 days 00:00:00')"
      ]
     },
     "execution_count": 222,
     "metadata": {},
     "output_type": "execute_result"
    }
   ],
   "source": [
    "shipping[\"Delivery Time\"].max()"
   ]
  },
  {
   "cell_type": "code",
   "execution_count": 223,
   "metadata": {},
   "outputs": [
    {
     "data": {
      "text/plain": [
       "Timedelta('8 days 00:00:00')"
      ]
     },
     "execution_count": 223,
     "metadata": {},
     "output_type": "execute_result"
    }
   ],
   "source": [
    "shipping[\"Delivery Time\"].min()"
   ]
  }
 ],
 "metadata": {
  "kernelspec": {
   "display_name": "Python 3",
   "language": "python",
   "name": "python3"
  },
  "language_info": {
   "codemirror_mode": {
    "name": "ipython",
    "version": 3
   },
   "file_extension": ".py",
   "mimetype": "text/x-python",
   "name": "python",
   "nbconvert_exporter": "python",
   "pygments_lexer": "ipython3",
   "version": "3.7.3"
  }
 },
 "nbformat": 4,
 "nbformat_minor": 2
}
