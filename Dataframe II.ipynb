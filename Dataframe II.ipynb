{
 "cells": [
  {
   "cell_type": "code",
   "execution_count": 27,
   "metadata": {},
   "outputs": [],
   "source": [
    "import pandas as pd #import pandas library"
   ]
  },
  {
   "cell_type": "code",
   "execution_count": 28,
   "metadata": {},
   "outputs": [],
   "source": [
    " pd.read_csvdf =(\"employees.csv\") #import data and save in the library"
   ]
  },
  {
   "cell_type": "code",
   "execution_count": 29,
   "metadata": {},
   "outputs": [
    {
     "data": {
      "text/html": [
       "<div>\n",
       "<style scoped>\n",
       "    .dataframe tbody tr th:only-of-type {\n",
       "        vertical-align: middle;\n",
       "    }\n",
       "\n",
       "    .dataframe tbody tr th {\n",
       "        vertical-align: top;\n",
       "    }\n",
       "\n",
       "    .dataframe thead th {\n",
       "        text-align: right;\n",
       "    }\n",
       "</style>\n",
       "<table border=\"1\" class=\"dataframe\">\n",
       "  <thead>\n",
       "    <tr style=\"text-align: right;\">\n",
       "      <th></th>\n",
       "      <th>First Name</th>\n",
       "      <th>Gender</th>\n",
       "      <th>Start Date</th>\n",
       "      <th>Last Login Time</th>\n",
       "      <th>Salary</th>\n",
       "      <th>Bonus %</th>\n",
       "      <th>Senior Management</th>\n",
       "      <th>Team</th>\n",
       "    </tr>\n",
       "  </thead>\n",
       "  <tbody>\n",
       "    <tr>\n",
       "      <th>0</th>\n",
       "      <td>Douglas</td>\n",
       "      <td>Male</td>\n",
       "      <td>8/6/1993</td>\n",
       "      <td>12:42 PM</td>\n",
       "      <td>97308</td>\n",
       "      <td>6.945</td>\n",
       "      <td>True</td>\n",
       "      <td>Marketing</td>\n",
       "    </tr>\n",
       "    <tr>\n",
       "      <th>1</th>\n",
       "      <td>Thomas</td>\n",
       "      <td>Male</td>\n",
       "      <td>3/31/1996</td>\n",
       "      <td>6:53 AM</td>\n",
       "      <td>61933</td>\n",
       "      <td>4.170</td>\n",
       "      <td>True</td>\n",
       "      <td>NaN</td>\n",
       "    </tr>\n",
       "    <tr>\n",
       "      <th>2</th>\n",
       "      <td>Maria</td>\n",
       "      <td>Female</td>\n",
       "      <td>4/23/1993</td>\n",
       "      <td>11:17 AM</td>\n",
       "      <td>130590</td>\n",
       "      <td>11.858</td>\n",
       "      <td>False</td>\n",
       "      <td>Finance</td>\n",
       "    </tr>\n",
       "  </tbody>\n",
       "</table>\n",
       "</div>"
      ],
      "text/plain": [
       "  First Name  Gender Start Date Last Login Time  Salary  Bonus %  \\\n",
       "0    Douglas    Male   8/6/1993        12:42 PM   97308    6.945   \n",
       "1     Thomas    Male  3/31/1996         6:53 AM   61933    4.170   \n",
       "2      Maria  Female  4/23/1993        11:17 AM  130590   11.858   \n",
       "\n",
       "  Senior Management       Team  \n",
       "0              True  Marketing  \n",
       "1              True        NaN  \n",
       "2             False    Finance  "
      ]
     },
     "execution_count": 29,
     "metadata": {},
     "output_type": "execute_result"
    }
   ],
   "source": [
    "df.head(3) #display the top 3 items"
   ]
  },
  {
   "cell_type": "code",
   "execution_count": 30,
   "metadata": {},
   "outputs": [
    {
     "name": "stdout",
     "output_type": "stream",
     "text": [
      "<class 'pandas.core.frame.DataFrame'>\n",
      "RangeIndex: 1000 entries, 0 to 999\n",
      "Data columns (total 8 columns):\n",
      "First Name           933 non-null object\n",
      "Gender               855 non-null object\n",
      "Start Date           1000 non-null object\n",
      "Last Login Time      1000 non-null object\n",
      "Salary               1000 non-null int64\n",
      "Bonus %              1000 non-null float64\n",
      "Senior Management    933 non-null object\n",
      "Team                 957 non-null object\n",
      "dtypes: float64(1), int64(1), object(6)\n",
      "memory usage: 62.6+ KB\n"
     ]
    }
   ],
   "source": [
    "df.info() #display the type of the columns in the df"
   ]
  },
  {
   "cell_type": "code",
   "execution_count": 31,
   "metadata": {},
   "outputs": [
    {
     "data": {
      "text/plain": [
       "0     8/6/1993\n",
       "1    3/31/1996\n",
       "2    4/23/1993\n",
       "Name: Start Date, dtype: object"
      ]
     },
     "execution_count": 31,
     "metadata": {},
     "output_type": "execute_result"
    }
   ],
   "source": [
    "df[\"Start Date\"].head(3) #display the top 3 items in the start date column"
   ]
  },
  {
   "cell_type": "code",
   "execution_count": 32,
   "metadata": {},
   "outputs": [],
   "source": [
    "df[\"Start Date\"] = pd.to_datetime(df[\"Start Date\"]) #convert to the date column to the date type of pandas"
   ]
  },
  {
   "cell_type": "code",
   "execution_count": 33,
   "metadata": {},
   "outputs": [
    {
     "data": {
      "text/plain": [
       "0   1993-08-06\n",
       "1   1996-03-31\n",
       "2   1993-04-23\n",
       "Name: Start Date, dtype: datetime64[ns]"
      ]
     },
     "execution_count": 33,
     "metadata": {},
     "output_type": "execute_result"
    }
   ],
   "source": [
    "df[\"Start Date\"].head(3) #display the top 3 items of column"
   ]
  },
  {
   "cell_type": "code",
   "execution_count": 16,
   "metadata": {},
   "outputs": [
    {
     "data": {
      "text/plain": [
       "0    12:42 PM\n",
       "1     6:53 AM\n",
       "2    11:17 AM\n",
       "Name: Last Login Time, dtype: object"
      ]
     },
     "execution_count": 16,
     "metadata": {},
     "output_type": "execute_result"
    }
   ],
   "source": [
    "df[\"Last Login Time\"].head(3) #display t"
   ]
  },
  {
   "cell_type": "code",
   "execution_count": 19,
   "metadata": {},
   "outputs": [
    {
     "data": {
      "text/plain": [
       "0   2019-09-12 12:42:00\n",
       "1   2019-09-12 06:53:00\n",
       "2   2019-09-12 11:17:00\n",
       "Name: Last Login Time, dtype: datetime64[ns]"
      ]
     },
     "execution_count": 19,
     "metadata": {},
     "output_type": "execute_result"
    }
   ],
   "source": [
    "pd.to_datetime(df[\"Last Login Time\"]).head(3) #records the last date accessed to the column by default initiating the current date"
   ]
  },
  {
   "cell_type": "code",
   "execution_count": 20,
   "metadata": {},
   "outputs": [],
   "source": [
    "df[\"Last Login Time\"] = pd.to_datetime(df[\"Last Login Time\"])"
   ]
  },
  {
   "cell_type": "code",
   "execution_count": 22,
   "metadata": {},
   "outputs": [],
   "source": [
    "df[\"Senior Management\"] = df[\"Senior Management\"].astype(\"bool\") # convert the column of objects to column of bools"
   ]
  },
  {
   "cell_type": "code",
   "execution_count": 25,
   "metadata": {},
   "outputs": [],
   "source": [
    "df[\"Gender\"] = df[\"Gender\"].astype(\"category\") #convert the type to catagory to help reduce the memory space used"
   ]
  },
  {
   "cell_type": "code",
   "execution_count": 26,
   "metadata": {},
   "outputs": [
    {
     "name": "stdout",
     "output_type": "stream",
     "text": [
      "<class 'pandas.core.frame.DataFrame'>\n",
      "RangeIndex: 1000 entries, 0 to 999\n",
      "Data columns (total 8 columns):\n",
      "First Name           933 non-null object\n",
      "Gender               855 non-null category\n",
      "Start Date           1000 non-null datetime64[ns]\n",
      "Last Login Time      1000 non-null datetime64[ns]\n",
      "Salary               1000 non-null int64\n",
      "Bonus %              1000 non-null float64\n",
      "Senior Management    1000 non-null bool\n",
      "Team                 957 non-null object\n",
      "dtypes: bool(1), category(1), datetime64[ns](2), float64(1), int64(1), object(2)\n",
      "memory usage: 49.0+ KB\n"
     ]
    }
   ],
   "source": [
    "df.info()"
   ]
  },
  {
   "cell_type": "markdown",
   "metadata": {},
   "source": [
    "## Filter A dataframe Based On a Condition"
   ]
  },
  {
   "cell_type": "code",
   "execution_count": 39,
   "metadata": {},
   "outputs": [
    {
     "name": "stdout",
     "output_type": "stream",
     "text": [
      "<class 'pandas.core.frame.DataFrame'>\n",
      "RangeIndex: 1000 entries, 0 to 999\n",
      "Data columns (total 8 columns):\n",
      "First Name           933 non-null object\n",
      "Gender               855 non-null object\n",
      "Start Date           1000 non-null datetime64[ns]\n",
      "Last Login Time      1000 non-null datetime64[ns]\n",
      "Salary               1000 non-null int64\n",
      "Bonus %              1000 non-null float64\n",
      "Senior Management    933 non-null object\n",
      "Team                 957 non-null object\n",
      "dtypes: datetime64[ns](2), float64(1), int64(1), object(4)\n",
      "memory usage: 62.6+ KB\n",
      "<class 'pandas.core.frame.DataFrame'>\n",
      "RangeIndex: 1000 entries, 0 to 999\n",
      "Data columns (total 8 columns):\n",
      "First Name           933 non-null object\n",
      "Gender               855 non-null category\n",
      "Start Date           1000 non-null datetime64[ns]\n",
      "Last Login Time      1000 non-null datetime64[ns]\n",
      "Salary               1000 non-null int64\n",
      "Bonus %              1000 non-null float64\n",
      "Senior Management    1000 non-null bool\n",
      "Team                 957 non-null object\n",
      "dtypes: bool(1), category(1), datetime64[ns](2), float64(1), int64(1), object(2)\n",
      "memory usage: 49.0+ KB\n"
     ]
    },
    {
     "data": {
      "text/html": [
       "<div>\n",
       "<style scoped>\n",
       "    .dataframe tbody tr th:only-of-type {\n",
       "        vertical-align: middle;\n",
       "    }\n",
       "\n",
       "    .dataframe tbody tr th {\n",
       "        vertical-align: top;\n",
       "    }\n",
       "\n",
       "    .dataframe thead th {\n",
       "        text-align: right;\n",
       "    }\n",
       "</style>\n",
       "<table border=\"1\" class=\"dataframe\">\n",
       "  <thead>\n",
       "    <tr style=\"text-align: right;\">\n",
       "      <th></th>\n",
       "      <th>First Name</th>\n",
       "      <th>Gender</th>\n",
       "      <th>Start Date</th>\n",
       "      <th>Last Login Time</th>\n",
       "      <th>Salary</th>\n",
       "      <th>Bonus %</th>\n",
       "      <th>Senior Management</th>\n",
       "      <th>Team</th>\n",
       "    </tr>\n",
       "  </thead>\n",
       "  <tbody>\n",
       "    <tr>\n",
       "      <th>0</th>\n",
       "      <td>Douglas</td>\n",
       "      <td>Male</td>\n",
       "      <td>1993-08-06</td>\n",
       "      <td>2019-09-13 12:42:00</td>\n",
       "      <td>97308</td>\n",
       "      <td>6.945</td>\n",
       "      <td>True</td>\n",
       "      <td>Marketing</td>\n",
       "    </tr>\n",
       "    <tr>\n",
       "      <th>1</th>\n",
       "      <td>Thomas</td>\n",
       "      <td>Male</td>\n",
       "      <td>1996-03-31</td>\n",
       "      <td>2019-09-13 06:53:00</td>\n",
       "      <td>61933</td>\n",
       "      <td>4.170</td>\n",
       "      <td>True</td>\n",
       "      <td>NaN</td>\n",
       "    </tr>\n",
       "    <tr>\n",
       "      <th>2</th>\n",
       "      <td>Maria</td>\n",
       "      <td>Female</td>\n",
       "      <td>1993-04-23</td>\n",
       "      <td>2019-09-13 11:17:00</td>\n",
       "      <td>130590</td>\n",
       "      <td>11.858</td>\n",
       "      <td>False</td>\n",
       "      <td>Finance</td>\n",
       "    </tr>\n",
       "  </tbody>\n",
       "</table>\n",
       "</div>"
      ],
      "text/plain": [
       "  First Name  Gender Start Date     Last Login Time  Salary  Bonus %  \\\n",
       "0    Douglas    Male 1993-08-06 2019-09-13 12:42:00   97308    6.945   \n",
       "1     Thomas    Male 1996-03-31 2019-09-13 06:53:00   61933    4.170   \n",
       "2      Maria  Female 1993-04-23 2019-09-13 11:17:00  130590   11.858   \n",
       "\n",
       "   Senior Management       Team  \n",
       "0               True  Marketing  \n",
       "1               True        NaN  \n",
       "2              False    Finance  "
      ]
     },
     "execution_count": 39,
     "metadata": {},
     "output_type": "execute_result"
    }
   ],
   "source": [
    "df = pd.read_csv(\"employees.csv\", parse_dates=[\"Start Date\", \"Last Login Time\"])\n",
    "df.info()\n",
    "df[\"Senior Management\"] = df[\"Senior Management\"].astype(\"bool\")\n",
    "df[\"Gender\"] = df[\"Gender\"].astype(\"category\")\n",
    "df.info()\n",
    "df.head(3)"
   ]
  },
  {
   "cell_type": "code",
   "execution_count": 43,
   "metadata": {},
   "outputs": [],
   "source": [
    "df[df[\"Gender\"] == \"Male\"] #extract all the males from the data set\n",
    "Output = False"
   ]
  },
  {
   "cell_type": "code",
   "execution_count": 47,
   "metadata": {},
   "outputs": [],
   "source": [
    "mask = df[\"Team\"] == \"Finance\"\n",
    "df[mask] #extract all the finance people like this\n",
    "Output = False"
   ]
  },
  {
   "cell_type": "code",
   "execution_count": 50,
   "metadata": {},
   "outputs": [],
   "source": [
    "df[df[\"Senior Management\"]] #extract only the Trues in the column\n",
    "Output = False"
   ]
  },
  {
   "cell_type": "code",
   "execution_count": 53,
   "metadata": {},
   "outputs": [],
   "source": [
    "mask = df[\"Team\"] != \"Marketing\" #extract everything BUT Marketing\n",
    "df[mask]\n",
    "Output = False"
   ]
  },
  {
   "cell_type": "code",
   "execution_count": 58,
   "metadata": {},
   "outputs": [],
   "source": [
    "df[df[\"Salary\"] > 110000] #extract columns more than 110000\n",
    "df[df[\"Bonus %\"] < 1.5] # extract bonuses less than 1.5\n",
    "Output = False"
   ]
  },
  {
   "cell_type": "code",
   "execution_count": 62,
   "metadata": {},
   "outputs": [],
   "source": [
    "df[\"Start Date\"] <= \"1985-01-01\" # extract data that start a\n",
    "df[mask]\n",
    "Output = False"
   ]
  },
  {
   "cell_type": "markdown",
   "metadata": {},
   "source": [
    "## Filter with More than on Condition (AND)"
   ]
  },
  {
   "cell_type": "code",
   "execution_count": 67,
   "metadata": {},
   "outputs": [
    {
     "data": {
      "text/html": [
       "<div>\n",
       "<style scoped>\n",
       "    .dataframe tbody tr th:only-of-type {\n",
       "        vertical-align: middle;\n",
       "    }\n",
       "\n",
       "    .dataframe tbody tr th {\n",
       "        vertical-align: top;\n",
       "    }\n",
       "\n",
       "    .dataframe thead th {\n",
       "        text-align: right;\n",
       "    }\n",
       "</style>\n",
       "<table border=\"1\" class=\"dataframe\">\n",
       "  <thead>\n",
       "    <tr style=\"text-align: right;\">\n",
       "      <th></th>\n",
       "      <th>First Name</th>\n",
       "      <th>Gender</th>\n",
       "      <th>Start Date</th>\n",
       "      <th>Last Login Time</th>\n",
       "      <th>Salary</th>\n",
       "      <th>Bonus %</th>\n",
       "      <th>Senior Management</th>\n",
       "      <th>Team</th>\n",
       "    </tr>\n",
       "  </thead>\n",
       "  <tbody>\n",
       "    <tr>\n",
       "      <th>0</th>\n",
       "      <td>Douglas</td>\n",
       "      <td>Male</td>\n",
       "      <td>1993-08-06</td>\n",
       "      <td>2019-09-13 12:42:00</td>\n",
       "      <td>97308</td>\n",
       "      <td>6.945</td>\n",
       "      <td>True</td>\n",
       "      <td>Marketing</td>\n",
       "    </tr>\n",
       "    <tr>\n",
       "      <th>1</th>\n",
       "      <td>Thomas</td>\n",
       "      <td>Male</td>\n",
       "      <td>1996-03-31</td>\n",
       "      <td>2019-09-13 06:53:00</td>\n",
       "      <td>61933</td>\n",
       "      <td>4.170</td>\n",
       "      <td>True</td>\n",
       "      <td>NaN</td>\n",
       "    </tr>\n",
       "    <tr>\n",
       "      <th>2</th>\n",
       "      <td>Maria</td>\n",
       "      <td>Female</td>\n",
       "      <td>1993-04-23</td>\n",
       "      <td>2019-09-13 11:17:00</td>\n",
       "      <td>130590</td>\n",
       "      <td>11.858</td>\n",
       "      <td>False</td>\n",
       "      <td>Finance</td>\n",
       "    </tr>\n",
       "  </tbody>\n",
       "</table>\n",
       "</div>"
      ],
      "text/plain": [
       "  First Name  Gender Start Date     Last Login Time  Salary  Bonus %  \\\n",
       "0    Douglas    Male 1993-08-06 2019-09-13 12:42:00   97308    6.945   \n",
       "1     Thomas    Male 1996-03-31 2019-09-13 06:53:00   61933    4.170   \n",
       "2      Maria  Female 1993-04-23 2019-09-13 11:17:00  130590   11.858   \n",
       "\n",
       "   Senior Management       Team  \n",
       "0               True  Marketing  \n",
       "1               True        NaN  \n",
       "2              False    Finance  "
      ]
     },
     "execution_count": 67,
     "metadata": {},
     "output_type": "execute_result"
    }
   ],
   "source": [
    "df = pd.read_csv(\"employees.csv\", parse_dates = [\"Start Date\", \"Last Login Time\"])\n",
    "df[\"Senior Management\"] = df[\"Senior Management\"].astype(\"bool\")\n",
    "df[\"Gender\"] = df[\"Gender\"].astype(\"category\")\n",
    "df.head(3)"
   ]
  },
  {
   "cell_type": "code",
   "execution_count": 72,
   "metadata": {},
   "outputs": [],
   "source": [
    "mask1 = df[\"Gender\"] == \"Male\"\n",
    "mask2 = df[\"Team\"] == \"Marketing\"\n",
    "df[mask1 & mask2] # extract data that meet only these two conditions\n",
    "Output = False"
   ]
  },
  {
   "cell_type": "markdown",
   "metadata": {},
   "source": [
    "## Filter with More than One Condition (OR)\n"
   ]
  },
  {
   "cell_type": "code",
   "execution_count": 76,
   "metadata": {},
   "outputs": [],
   "source": [
    "mask3 = df[\"Senior Management\"]\n",
    "mask4 = df[\"Start Date\"] < \"1990-01-01\"\n",
    "df[mask1 | mask2]\n",
    "Output = False"
   ]
  },
  {
   "cell_type": "code",
   "execution_count": 85,
   "metadata": {},
   "outputs": [
    {
     "data": {
      "text/html": [
       "<div>\n",
       "<style scoped>\n",
       "    .dataframe tbody tr th:only-of-type {\n",
       "        vertical-align: middle;\n",
       "    }\n",
       "\n",
       "    .dataframe tbody tr th {\n",
       "        vertical-align: top;\n",
       "    }\n",
       "\n",
       "    .dataframe thead th {\n",
       "        text-align: right;\n",
       "    }\n",
       "</style>\n",
       "<table border=\"1\" class=\"dataframe\">\n",
       "  <thead>\n",
       "    <tr style=\"text-align: right;\">\n",
       "      <th></th>\n",
       "      <th>First Name</th>\n",
       "      <th>Gender</th>\n",
       "      <th>Start Date</th>\n",
       "      <th>Last Login Time</th>\n",
       "      <th>Salary</th>\n",
       "      <th>Bonus %</th>\n",
       "      <th>Senior Management</th>\n",
       "      <th>Team</th>\n",
       "    </tr>\n",
       "  </thead>\n",
       "  <tbody>\n",
       "    <tr>\n",
       "      <th>15</th>\n",
       "      <td>Lillian</td>\n",
       "      <td>Female</td>\n",
       "      <td>2016-06-05</td>\n",
       "      <td>2019-09-13 06:09:00</td>\n",
       "      <td>59414</td>\n",
       "      <td>1.256</td>\n",
       "      <td>False</td>\n",
       "      <td>Product</td>\n",
       "    </tr>\n",
       "    <tr>\n",
       "      <th>98</th>\n",
       "      <td>Tina</td>\n",
       "      <td>Female</td>\n",
       "      <td>2016-06-16</td>\n",
       "      <td>2019-09-13 19:47:00</td>\n",
       "      <td>100705</td>\n",
       "      <td>16.961</td>\n",
       "      <td>True</td>\n",
       "      <td>Marketing</td>\n",
       "    </tr>\n",
       "    <tr>\n",
       "      <th>387</th>\n",
       "      <td>Robert</td>\n",
       "      <td>Male</td>\n",
       "      <td>1994-10-29</td>\n",
       "      <td>2019-09-13 04:26:00</td>\n",
       "      <td>123294</td>\n",
       "      <td>19.894</td>\n",
       "      <td>False</td>\n",
       "      <td>Client Services</td>\n",
       "    </tr>\n",
       "    <tr>\n",
       "      <th>451</th>\n",
       "      <td>Terry</td>\n",
       "      <td>NaN</td>\n",
       "      <td>2016-07-15</td>\n",
       "      <td>2019-09-13 00:29:00</td>\n",
       "      <td>140002</td>\n",
       "      <td>19.490</td>\n",
       "      <td>True</td>\n",
       "      <td>Marketing</td>\n",
       "    </tr>\n",
       "  </tbody>\n",
       "</table>\n",
       "</div>"
      ],
      "text/plain": [
       "    First Name  Gender Start Date     Last Login Time  Salary  Bonus %  \\\n",
       "15     Lillian  Female 2016-06-05 2019-09-13 06:09:00   59414    1.256   \n",
       "98        Tina  Female 2016-06-16 2019-09-13 19:47:00  100705   16.961   \n",
       "387     Robert    Male 1994-10-29 2019-09-13 04:26:00  123294   19.894   \n",
       "451      Terry     NaN 2016-07-15 2019-09-13 00:29:00  140002   19.490   \n",
       "\n",
       "     Senior Management             Team  \n",
       "15               False          Product  \n",
       "98                True        Marketing  \n",
       "387              False  Client Services  \n",
       "451               True        Marketing  "
      ]
     },
     "execution_count": 85,
     "metadata": {},
     "output_type": "execute_result"
    }
   ],
   "source": [
    "mask5 = df[\"First Name\"] == \"Robert\"\n",
    "mask6 = df[\"Team\"] == \"Client Services\"\n",
    "mask7 = df[\"Start Date\"] > \"2016-06-01\"\n",
    "df[(mask5 & mask6) | mask7]"
   ]
  },
  {
   "cell_type": "markdown",
   "metadata": {},
   "source": [
    "## The .isin() Method"
   ]
  },
  {
   "cell_type": "code",
   "execution_count": 89,
   "metadata": {},
   "outputs": [
    {
     "data": {
      "text/html": [
       "<div>\n",
       "<style scoped>\n",
       "    .dataframe tbody tr th:only-of-type {\n",
       "        vertical-align: middle;\n",
       "    }\n",
       "\n",
       "    .dataframe tbody tr th {\n",
       "        vertical-align: top;\n",
       "    }\n",
       "\n",
       "    .dataframe thead th {\n",
       "        text-align: right;\n",
       "    }\n",
       "</style>\n",
       "<table border=\"1\" class=\"dataframe\">\n",
       "  <thead>\n",
       "    <tr style=\"text-align: right;\">\n",
       "      <th></th>\n",
       "      <th>First Name</th>\n",
       "      <th>Gender</th>\n",
       "      <th>Start Date</th>\n",
       "      <th>Last Login Time</th>\n",
       "      <th>Salary</th>\n",
       "      <th>Bonus %</th>\n",
       "      <th>Senior Management</th>\n",
       "      <th>Team</th>\n",
       "    </tr>\n",
       "  </thead>\n",
       "  <tbody>\n",
       "    <tr>\n",
       "      <th>0</th>\n",
       "      <td>Douglas</td>\n",
       "      <td>True</td>\n",
       "      <td>1993-08-06</td>\n",
       "      <td>2019-09-13 12:42:00</td>\n",
       "      <td>97308</td>\n",
       "      <td>6.945</td>\n",
       "      <td>True</td>\n",
       "      <td>Marketing</td>\n",
       "    </tr>\n",
       "    <tr>\n",
       "      <th>1</th>\n",
       "      <td>Thomas</td>\n",
       "      <td>True</td>\n",
       "      <td>1996-03-31</td>\n",
       "      <td>2019-09-13 06:53:00</td>\n",
       "      <td>61933</td>\n",
       "      <td>4.170</td>\n",
       "      <td>True</td>\n",
       "      <td>NaN</td>\n",
       "    </tr>\n",
       "    <tr>\n",
       "      <th>2</th>\n",
       "      <td>Maria</td>\n",
       "      <td>True</td>\n",
       "      <td>1993-04-23</td>\n",
       "      <td>2019-09-13 11:17:00</td>\n",
       "      <td>130590</td>\n",
       "      <td>11.858</td>\n",
       "      <td>False</td>\n",
       "      <td>Finance</td>\n",
       "    </tr>\n",
       "  </tbody>\n",
       "</table>\n",
       "</div>"
      ],
      "text/plain": [
       "  First Name  Gender Start Date     Last Login Time  Salary  Bonus %  \\\n",
       "0    Douglas    True 1993-08-06 2019-09-13 12:42:00   97308    6.945   \n",
       "1     Thomas    True 1996-03-31 2019-09-13 06:53:00   61933    4.170   \n",
       "2      Maria    True 1993-04-23 2019-09-13 11:17:00  130590   11.858   \n",
       "\n",
       "   Senior Management       Team  \n",
       "0               True  Marketing  \n",
       "1               True        NaN  \n",
       "2              False    Finance  "
      ]
     },
     "execution_count": 89,
     "metadata": {},
     "output_type": "execute_result"
    }
   ],
   "source": [
    "df = pd.read_csv(\"employees.csv\", parse_dates = [\"Start Date\", \"Last Login Time\"])\n",
    "df[\"Senior Management\"] = df[\"Senior Management\"].astype(\"bool\")\n",
    "df[\"Gender\"] = df[\"Gender\"].astype(\"bool\")\n",
    "df.head(3)"
   ]
  },
  {
   "cell_type": "code",
   "execution_count": 94,
   "metadata": {},
   "outputs": [],
   "source": [
    "#to seperate multiple catagories of the team in the column\n",
    "mask8 = df[\"Team\"] == \"Legal\"\n",
    "mask9 = df[\"Team\"] == \"Sales\"\n",
    "mask10 = df[\"Team\"] == \"Product\"\n",
    "df[mask8 | mask9 | mask10]\n",
    "Output = False"
   ]
  },
  {
   "cell_type": "code",
   "execution_count": 99,
   "metadata": {},
   "outputs": [],
   "source": [
    "#this is the better way\n",
    "mask11 = df[\"Team\"].isin([\"Legal\", \"Sales\", \"Product\"])\n",
    "df[mask11]\n",
    "Output = False"
   ]
  },
  {
   "cell_type": "markdown",
   "metadata": {},
   "source": [
    "## The .isnull() and .notnull() Method"
   ]
  },
  {
   "cell_type": "code",
   "execution_count": 103,
   "metadata": {},
   "outputs": [
    {
     "data": {
      "text/html": [
       "<div>\n",
       "<style scoped>\n",
       "    .dataframe tbody tr th:only-of-type {\n",
       "        vertical-align: middle;\n",
       "    }\n",
       "\n",
       "    .dataframe tbody tr th {\n",
       "        vertical-align: top;\n",
       "    }\n",
       "\n",
       "    .dataframe thead th {\n",
       "        text-align: right;\n",
       "    }\n",
       "</style>\n",
       "<table border=\"1\" class=\"dataframe\">\n",
       "  <thead>\n",
       "    <tr style=\"text-align: right;\">\n",
       "      <th></th>\n",
       "      <th>First Name</th>\n",
       "      <th>Gender</th>\n",
       "      <th>Start Date</th>\n",
       "      <th>Last Login Time</th>\n",
       "      <th>Salary</th>\n",
       "      <th>Bonus %</th>\n",
       "      <th>Senior Management</th>\n",
       "      <th>Team</th>\n",
       "    </tr>\n",
       "  </thead>\n",
       "  <tbody>\n",
       "    <tr>\n",
       "      <th>0</th>\n",
       "      <td>Douglas</td>\n",
       "      <td>Male</td>\n",
       "      <td>1993-08-06</td>\n",
       "      <td>2019-09-13 12:42:00</td>\n",
       "      <td>97308</td>\n",
       "      <td>6.945</td>\n",
       "      <td>True</td>\n",
       "      <td>Marketing</td>\n",
       "    </tr>\n",
       "    <tr>\n",
       "      <th>1</th>\n",
       "      <td>Thomas</td>\n",
       "      <td>Male</td>\n",
       "      <td>1996-03-31</td>\n",
       "      <td>2019-09-13 06:53:00</td>\n",
       "      <td>61933</td>\n",
       "      <td>4.170</td>\n",
       "      <td>True</td>\n",
       "      <td>NaN</td>\n",
       "    </tr>\n",
       "    <tr>\n",
       "      <th>2</th>\n",
       "      <td>Maria</td>\n",
       "      <td>Female</td>\n",
       "      <td>1993-04-23</td>\n",
       "      <td>2019-09-13 11:17:00</td>\n",
       "      <td>130590</td>\n",
       "      <td>11.858</td>\n",
       "      <td>False</td>\n",
       "      <td>Finance</td>\n",
       "    </tr>\n",
       "  </tbody>\n",
       "</table>\n",
       "</div>"
      ],
      "text/plain": [
       "  First Name  Gender Start Date     Last Login Time  Salary  Bonus %  \\\n",
       "0    Douglas    Male 1993-08-06 2019-09-13 12:42:00   97308    6.945   \n",
       "1     Thomas    Male 1996-03-31 2019-09-13 06:53:00   61933    4.170   \n",
       "2      Maria  Female 1993-04-23 2019-09-13 11:17:00  130590   11.858   \n",
       "\n",
       "   Senior Management       Team  \n",
       "0               True  Marketing  \n",
       "1               True        NaN  \n",
       "2              False    Finance  "
      ]
     },
     "execution_count": 103,
     "metadata": {},
     "output_type": "execute_result"
    }
   ],
   "source": [
    "df = pd.read_csv(\"employees.csv\", parse_dates=[\"Start Date\", \"Last Login Time\"])\n",
    "df[\"Senior Management\"] = df[\"Senior Management\"].astype(\"bool\")\n",
    "df[\"Gender\"] = df[\"Gender\"].astype(\"category\")\n",
    "df.head(3)"
   ]
  },
  {
   "cell_type": "code",
   "execution_count": 107,
   "metadata": {},
   "outputs": [],
   "source": [
    "mask = df[\"Team\"].isnull()\n",
    "df[mask]\n",
    "Output = False"
   ]
  },
  {
   "cell_type": "code",
   "execution_count": 112,
   "metadata": {},
   "outputs": [],
   "source": [
    "mask2 = df[\"Gender\"].notnull()\n",
    "df[mask2]\n",
    "Output = False"
   ]
  },
  {
   "cell_type": "markdown",
   "metadata": {},
   "source": [
    "## The .between() Method"
   ]
  },
  {
   "cell_type": "code",
   "execution_count": 119,
   "metadata": {},
   "outputs": [
    {
     "data": {
      "text/html": [
       "<div>\n",
       "<style scoped>\n",
       "    .dataframe tbody tr th:only-of-type {\n",
       "        vertical-align: middle;\n",
       "    }\n",
       "\n",
       "    .dataframe tbody tr th {\n",
       "        vertical-align: top;\n",
       "    }\n",
       "\n",
       "    .dataframe thead th {\n",
       "        text-align: right;\n",
       "    }\n",
       "</style>\n",
       "<table border=\"1\" class=\"dataframe\">\n",
       "  <thead>\n",
       "    <tr style=\"text-align: right;\">\n",
       "      <th></th>\n",
       "      <th>First Name</th>\n",
       "      <th>Gender</th>\n",
       "      <th>Start Date</th>\n",
       "      <th>Last Login Time</th>\n",
       "      <th>Salary</th>\n",
       "      <th>Bonus %</th>\n",
       "      <th>Senior Management</th>\n",
       "      <th>Team</th>\n",
       "    </tr>\n",
       "  </thead>\n",
       "  <tbody>\n",
       "    <tr>\n",
       "      <th>0</th>\n",
       "      <td>Douglas</td>\n",
       "      <td>Male</td>\n",
       "      <td>1993-08-06</td>\n",
       "      <td>2019-09-13 12:42:00</td>\n",
       "      <td>97308</td>\n",
       "      <td>6.945</td>\n",
       "      <td>True</td>\n",
       "      <td>Marketing</td>\n",
       "    </tr>\n",
       "    <tr>\n",
       "      <th>1</th>\n",
       "      <td>Thomas</td>\n",
       "      <td>Male</td>\n",
       "      <td>1996-03-31</td>\n",
       "      <td>2019-09-13 06:53:00</td>\n",
       "      <td>61933</td>\n",
       "      <td>4.170</td>\n",
       "      <td>True</td>\n",
       "      <td>NaN</td>\n",
       "    </tr>\n",
       "    <tr>\n",
       "      <th>2</th>\n",
       "      <td>Maria</td>\n",
       "      <td>Female</td>\n",
       "      <td>1993-04-23</td>\n",
       "      <td>2019-09-13 11:17:00</td>\n",
       "      <td>130590</td>\n",
       "      <td>11.858</td>\n",
       "      <td>False</td>\n",
       "      <td>Finance</td>\n",
       "    </tr>\n",
       "  </tbody>\n",
       "</table>\n",
       "</div>"
      ],
      "text/plain": [
       "  First Name  Gender Start Date     Last Login Time  Salary  Bonus %  \\\n",
       "0    Douglas    Male 1993-08-06 2019-09-13 12:42:00   97308    6.945   \n",
       "1     Thomas    Male 1996-03-31 2019-09-13 06:53:00   61933    4.170   \n",
       "2      Maria  Female 1993-04-23 2019-09-13 11:17:00  130590   11.858   \n",
       "\n",
       "   Senior Management       Team  \n",
       "0               True  Marketing  \n",
       "1               True        NaN  \n",
       "2              False    Finance  "
      ]
     },
     "execution_count": 119,
     "metadata": {},
     "output_type": "execute_result"
    }
   ],
   "source": [
    "df = pd.read_csv(\"employees.csv\", parse_dates=[\"Start Date\", \"Last Login Time\"])\n",
    "df[\"Senior Management\"] = df[\"Senior Management\"].astype(\"bool\")\n",
    "df[\"Gender\"] = df[\"Gender\"].astype(\"category\")\n",
    "df.head(3)"
   ]
  },
  {
   "cell_type": "code",
   "execution_count": 122,
   "metadata": {},
   "outputs": [],
   "source": [
    "df[df[\"Salary\"].between(60000, 70000)]\n",
    "Output = False"
   ]
  },
  {
   "cell_type": "code",
   "execution_count": 125,
   "metadata": {},
   "outputs": [],
   "source": [
    "df[df[\"Bonus %\"].between(2.0, 5.0)]\n",
    "Output = False"
   ]
  },
  {
   "cell_type": "code",
   "execution_count": 128,
   "metadata": {},
   "outputs": [
    {
     "data": {
      "text/html": [
       "<div>\n",
       "<style scoped>\n",
       "    .dataframe tbody tr th:only-of-type {\n",
       "        vertical-align: middle;\n",
       "    }\n",
       "\n",
       "    .dataframe tbody tr th {\n",
       "        vertical-align: top;\n",
       "    }\n",
       "\n",
       "    .dataframe thead th {\n",
       "        text-align: right;\n",
       "    }\n",
       "</style>\n",
       "<table border=\"1\" class=\"dataframe\">\n",
       "  <thead>\n",
       "    <tr style=\"text-align: right;\">\n",
       "      <th></th>\n",
       "      <th>First Name</th>\n",
       "      <th>Gender</th>\n",
       "      <th>Start Date</th>\n",
       "      <th>Last Login Time</th>\n",
       "      <th>Salary</th>\n",
       "      <th>Bonus %</th>\n",
       "      <th>Senior Management</th>\n",
       "      <th>Team</th>\n",
       "    </tr>\n",
       "  </thead>\n",
       "  <tbody>\n",
       "    <tr>\n",
       "      <th>27</th>\n",
       "      <td>Scott</td>\n",
       "      <td>NaN</td>\n",
       "      <td>1991-07-11</td>\n",
       "      <td>2019-09-13 18:58:00</td>\n",
       "      <td>122367</td>\n",
       "      <td>5.218</td>\n",
       "      <td>False</td>\n",
       "      <td>Legal</td>\n",
       "    </tr>\n",
       "    <tr>\n",
       "      <th>75</th>\n",
       "      <td>Bonnie</td>\n",
       "      <td>Female</td>\n",
       "      <td>1991-07-02</td>\n",
       "      <td>2019-09-13 01:27:00</td>\n",
       "      <td>104897</td>\n",
       "      <td>5.118</td>\n",
       "      <td>True</td>\n",
       "      <td>Human Resources</td>\n",
       "    </tr>\n",
       "    <tr>\n",
       "      <th>88</th>\n",
       "      <td>Donna</td>\n",
       "      <td>Female</td>\n",
       "      <td>1991-11-27</td>\n",
       "      <td>2019-09-13 13:59:00</td>\n",
       "      <td>64088</td>\n",
       "      <td>6.155</td>\n",
       "      <td>True</td>\n",
       "      <td>Legal</td>\n",
       "    </tr>\n",
       "  </tbody>\n",
       "</table>\n",
       "</div>"
      ],
      "text/plain": [
       "   First Name  Gender Start Date     Last Login Time  Salary  Bonus %  \\\n",
       "27      Scott     NaN 1991-07-11 2019-09-13 18:58:00  122367    5.218   \n",
       "75     Bonnie  Female 1991-07-02 2019-09-13 01:27:00  104897    5.118   \n",
       "88      Donna  Female 1991-11-27 2019-09-13 13:59:00   64088    6.155   \n",
       "\n",
       "    Senior Management             Team  \n",
       "27              False            Legal  \n",
       "75               True  Human Resources  \n",
       "88               True            Legal  "
      ]
     },
     "execution_count": 128,
     "metadata": {},
     "output_type": "execute_result"
    }
   ],
   "source": [
    "df[df[\"Start Date\"].between(\"1991-01-01\", \"1992-01-01\")].head(3)"
   ]
  },
  {
   "cell_type": "code",
   "execution_count": 132,
   "metadata": {},
   "outputs": [
    {
     "data": {
      "text/html": [
       "<div>\n",
       "<style scoped>\n",
       "    .dataframe tbody tr th:only-of-type {\n",
       "        vertical-align: middle;\n",
       "    }\n",
       "\n",
       "    .dataframe tbody tr th {\n",
       "        vertical-align: top;\n",
       "    }\n",
       "\n",
       "    .dataframe thead th {\n",
       "        text-align: right;\n",
       "    }\n",
       "</style>\n",
       "<table border=\"1\" class=\"dataframe\">\n",
       "  <thead>\n",
       "    <tr style=\"text-align: right;\">\n",
       "      <th></th>\n",
       "      <th>First Name</th>\n",
       "      <th>Gender</th>\n",
       "      <th>Start Date</th>\n",
       "      <th>Last Login Time</th>\n",
       "      <th>Salary</th>\n",
       "      <th>Bonus %</th>\n",
       "      <th>Senior Management</th>\n",
       "      <th>Team</th>\n",
       "    </tr>\n",
       "  </thead>\n",
       "  <tbody>\n",
       "    <tr>\n",
       "      <th>2</th>\n",
       "      <td>Maria</td>\n",
       "      <td>Female</td>\n",
       "      <td>1993-04-23</td>\n",
       "      <td>2019-09-13 11:17:00</td>\n",
       "      <td>130590</td>\n",
       "      <td>11.858</td>\n",
       "      <td>False</td>\n",
       "      <td>Finance</td>\n",
       "    </tr>\n",
       "    <tr>\n",
       "      <th>7</th>\n",
       "      <td>NaN</td>\n",
       "      <td>Female</td>\n",
       "      <td>2015-07-20</td>\n",
       "      <td>2019-09-13 10:43:00</td>\n",
       "      <td>45906</td>\n",
       "      <td>11.598</td>\n",
       "      <td>True</td>\n",
       "      <td>Finance</td>\n",
       "    </tr>\n",
       "    <tr>\n",
       "      <th>10</th>\n",
       "      <td>Louise</td>\n",
       "      <td>Female</td>\n",
       "      <td>1980-08-12</td>\n",
       "      <td>2019-09-13 09:01:00</td>\n",
       "      <td>63241</td>\n",
       "      <td>15.132</td>\n",
       "      <td>True</td>\n",
       "      <td>NaN</td>\n",
       "    </tr>\n",
       "  </tbody>\n",
       "</table>\n",
       "</div>"
      ],
      "text/plain": [
       "   First Name  Gender Start Date     Last Login Time  Salary  Bonus %  \\\n",
       "2       Maria  Female 1993-04-23 2019-09-13 11:17:00  130590   11.858   \n",
       "7         NaN  Female 2015-07-20 2019-09-13 10:43:00   45906   11.598   \n",
       "10     Louise  Female 1980-08-12 2019-09-13 09:01:00   63241   15.132   \n",
       "\n",
       "    Senior Management     Team  \n",
       "2               False  Finance  \n",
       "7                True  Finance  \n",
       "10               True      NaN  "
      ]
     },
     "execution_count": 132,
     "metadata": {},
     "output_type": "execute_result"
    }
   ],
   "source": [
    "df[df[\"Last Login Time\"].between(\"08:30AM\", \"12:00PM\")].head(3)"
   ]
  },
  {
   "cell_type": "markdown",
   "metadata": {},
   "source": [
    "## The .duplicate() Method"
   ]
  },
  {
   "cell_type": "code",
   "execution_count": 138,
   "metadata": {},
   "outputs": [
    {
     "data": {
      "text/html": [
       "<div>\n",
       "<style scoped>\n",
       "    .dataframe tbody tr th:only-of-type {\n",
       "        vertical-align: middle;\n",
       "    }\n",
       "\n",
       "    .dataframe tbody tr th {\n",
       "        vertical-align: top;\n",
       "    }\n",
       "\n",
       "    .dataframe thead th {\n",
       "        text-align: right;\n",
       "    }\n",
       "</style>\n",
       "<table border=\"1\" class=\"dataframe\">\n",
       "  <thead>\n",
       "    <tr style=\"text-align: right;\">\n",
       "      <th></th>\n",
       "      <th>First Name</th>\n",
       "      <th>Gender</th>\n",
       "      <th>Start Date</th>\n",
       "      <th>Last Login Time</th>\n",
       "      <th>Salary</th>\n",
       "      <th>Bonus %</th>\n",
       "      <th>Senior Management</th>\n",
       "      <th>Team</th>\n",
       "    </tr>\n",
       "  </thead>\n",
       "  <tbody>\n",
       "    <tr>\n",
       "      <th>101</th>\n",
       "      <td>Aaron</td>\n",
       "      <td>Male</td>\n",
       "      <td>2012-02-17</td>\n",
       "      <td>2019-09-13 10:20:00</td>\n",
       "      <td>61602</td>\n",
       "      <td>11.849</td>\n",
       "      <td>True</td>\n",
       "      <td>Marketing</td>\n",
       "    </tr>\n",
       "    <tr>\n",
       "      <th>327</th>\n",
       "      <td>Aaron</td>\n",
       "      <td>Male</td>\n",
       "      <td>1994-01-29</td>\n",
       "      <td>2019-09-13 18:48:00</td>\n",
       "      <td>58755</td>\n",
       "      <td>5.097</td>\n",
       "      <td>True</td>\n",
       "      <td>Marketing</td>\n",
       "    </tr>\n",
       "    <tr>\n",
       "      <th>440</th>\n",
       "      <td>Aaron</td>\n",
       "      <td>Male</td>\n",
       "      <td>1990-07-22</td>\n",
       "      <td>2019-09-13 14:53:00</td>\n",
       "      <td>52119</td>\n",
       "      <td>11.343</td>\n",
       "      <td>True</td>\n",
       "      <td>Client Services</td>\n",
       "    </tr>\n",
       "  </tbody>\n",
       "</table>\n",
       "</div>"
      ],
      "text/plain": [
       "    First Name Gender Start Date     Last Login Time  Salary  Bonus %  \\\n",
       "101      Aaron   Male 2012-02-17 2019-09-13 10:20:00   61602   11.849   \n",
       "327      Aaron   Male 1994-01-29 2019-09-13 18:48:00   58755    5.097   \n",
       "440      Aaron   Male 1990-07-22 2019-09-13 14:53:00   52119   11.343   \n",
       "\n",
       "     Senior Management             Team  \n",
       "101               True        Marketing  \n",
       "327               True        Marketing  \n",
       "440               True  Client Services  "
      ]
     },
     "execution_count": 138,
     "metadata": {},
     "output_type": "execute_result"
    }
   ],
   "source": [
    "df = pd.read_csv(\"employees.csv\", parse_dates=[\"Start Date\", \"Last Login Time\"])\n",
    "df[\"Senior Management\"] = df[\"Senior Management\"].astype(\"bool\")\n",
    "df[\"Gender\"] = df[\"Gender\"].astype(\"category\")\n",
    "df.sort_values(\"First Name\", inplace = True)\n",
    "df.head(3)"
   ]
  },
  {
   "cell_type": "code",
   "execution_count": 144,
   "metadata": {},
   "outputs": [
    {
     "data": {
      "text/html": [
       "<div>\n",
       "<style scoped>\n",
       "    .dataframe tbody tr th:only-of-type {\n",
       "        vertical-align: middle;\n",
       "    }\n",
       "\n",
       "    .dataframe tbody tr th {\n",
       "        vertical-align: top;\n",
       "    }\n",
       "\n",
       "    .dataframe thead th {\n",
       "        text-align: right;\n",
       "    }\n",
       "</style>\n",
       "<table border=\"1\" class=\"dataframe\">\n",
       "  <thead>\n",
       "    <tr style=\"text-align: right;\">\n",
       "      <th></th>\n",
       "      <th>First Name</th>\n",
       "      <th>Gender</th>\n",
       "      <th>Start Date</th>\n",
       "      <th>Last Login Time</th>\n",
       "      <th>Salary</th>\n",
       "      <th>Bonus %</th>\n",
       "      <th>Senior Management</th>\n",
       "      <th>Team</th>\n",
       "    </tr>\n",
       "  </thead>\n",
       "  <tbody>\n",
       "    <tr>\n",
       "      <th>101</th>\n",
       "      <td>Aaron</td>\n",
       "      <td>Male</td>\n",
       "      <td>2012-02-17</td>\n",
       "      <td>2019-09-13 10:20:00</td>\n",
       "      <td>61602</td>\n",
       "      <td>11.849</td>\n",
       "      <td>True</td>\n",
       "      <td>Marketing</td>\n",
       "    </tr>\n",
       "    <tr>\n",
       "      <th>327</th>\n",
       "      <td>Aaron</td>\n",
       "      <td>Male</td>\n",
       "      <td>1994-01-29</td>\n",
       "      <td>2019-09-13 18:48:00</td>\n",
       "      <td>58755</td>\n",
       "      <td>5.097</td>\n",
       "      <td>True</td>\n",
       "      <td>Marketing</td>\n",
       "    </tr>\n",
       "    <tr>\n",
       "      <th>440</th>\n",
       "      <td>Aaron</td>\n",
       "      <td>Male</td>\n",
       "      <td>1990-07-22</td>\n",
       "      <td>2019-09-13 14:53:00</td>\n",
       "      <td>52119</td>\n",
       "      <td>11.343</td>\n",
       "      <td>True</td>\n",
       "      <td>Client Services</td>\n",
       "    </tr>\n",
       "  </tbody>\n",
       "</table>\n",
       "</div>"
      ],
      "text/plain": [
       "    First Name Gender Start Date     Last Login Time  Salary  Bonus %  \\\n",
       "101      Aaron   Male 2012-02-17 2019-09-13 10:20:00   61602   11.849   \n",
       "327      Aaron   Male 1994-01-29 2019-09-13 18:48:00   58755    5.097   \n",
       "440      Aaron   Male 1990-07-22 2019-09-13 14:53:00   52119   11.343   \n",
       "\n",
       "     Senior Management             Team  \n",
       "101               True        Marketing  \n",
       "327               True        Marketing  \n",
       "440               True  Client Services  "
      ]
     },
     "execution_count": 144,
     "metadata": {},
     "output_type": "execute_result"
    }
   ],
   "source": [
    "df[df[\"First Name\"].duplicated(keep=\"last\")] #display False for the last duplicate\n",
    "df.head(3)"
   ]
  },
  {
   "cell_type": "code",
   "execution_count": 148,
   "metadata": {},
   "outputs": [
    {
     "data": {
      "text/html": [
       "<div>\n",
       "<style scoped>\n",
       "    .dataframe tbody tr th:only-of-type {\n",
       "        vertical-align: middle;\n",
       "    }\n",
       "\n",
       "    .dataframe tbody tr th {\n",
       "        vertical-align: top;\n",
       "    }\n",
       "\n",
       "    .dataframe thead th {\n",
       "        text-align: right;\n",
       "    }\n",
       "</style>\n",
       "<table border=\"1\" class=\"dataframe\">\n",
       "  <thead>\n",
       "    <tr style=\"text-align: right;\">\n",
       "      <th></th>\n",
       "      <th>First Name</th>\n",
       "      <th>Gender</th>\n",
       "      <th>Start Date</th>\n",
       "      <th>Last Login Time</th>\n",
       "      <th>Salary</th>\n",
       "      <th>Bonus %</th>\n",
       "      <th>Senior Management</th>\n",
       "      <th>Team</th>\n",
       "    </tr>\n",
       "  </thead>\n",
       "  <tbody>\n",
       "    <tr>\n",
       "      <th>8</th>\n",
       "      <td>Angela</td>\n",
       "      <td>Female</td>\n",
       "      <td>2005-11-22</td>\n",
       "      <td>2019-09-13 06:29:00</td>\n",
       "      <td>95570</td>\n",
       "      <td>18.523</td>\n",
       "      <td>True</td>\n",
       "      <td>Engineering</td>\n",
       "    </tr>\n",
       "    <tr>\n",
       "      <th>688</th>\n",
       "      <td>Brian</td>\n",
       "      <td>Male</td>\n",
       "      <td>2007-04-07</td>\n",
       "      <td>2019-09-13 22:47:00</td>\n",
       "      <td>93901</td>\n",
       "      <td>17.821</td>\n",
       "      <td>True</td>\n",
       "      <td>Legal</td>\n",
       "    </tr>\n",
       "    <tr>\n",
       "      <th>190</th>\n",
       "      <td>Carol</td>\n",
       "      <td>Female</td>\n",
       "      <td>1996-03-19</td>\n",
       "      <td>2019-09-13 03:39:00</td>\n",
       "      <td>57783</td>\n",
       "      <td>9.129</td>\n",
       "      <td>False</td>\n",
       "      <td>Finance</td>\n",
       "    </tr>\n",
       "    <tr>\n",
       "      <th>887</th>\n",
       "      <td>David</td>\n",
       "      <td>Male</td>\n",
       "      <td>2009-12-05</td>\n",
       "      <td>2019-09-13 08:48:00</td>\n",
       "      <td>92242</td>\n",
       "      <td>15.407</td>\n",
       "      <td>False</td>\n",
       "      <td>Legal</td>\n",
       "    </tr>\n",
       "    <tr>\n",
       "      <th>5</th>\n",
       "      <td>Dennis</td>\n",
       "      <td>Male</td>\n",
       "      <td>1987-04-18</td>\n",
       "      <td>2019-09-13 01:35:00</td>\n",
       "      <td>115163</td>\n",
       "      <td>10.125</td>\n",
       "      <td>False</td>\n",
       "      <td>Legal</td>\n",
       "    </tr>\n",
       "    <tr>\n",
       "      <th>495</th>\n",
       "      <td>Eugene</td>\n",
       "      <td>Male</td>\n",
       "      <td>1984-05-24</td>\n",
       "      <td>2019-09-13 10:54:00</td>\n",
       "      <td>81077</td>\n",
       "      <td>2.117</td>\n",
       "      <td>False</td>\n",
       "      <td>Sales</td>\n",
       "    </tr>\n",
       "    <tr>\n",
       "      <th>33</th>\n",
       "      <td>Jean</td>\n",
       "      <td>Female</td>\n",
       "      <td>1993-12-18</td>\n",
       "      <td>2019-09-13 09:07:00</td>\n",
       "      <td>119082</td>\n",
       "      <td>16.180</td>\n",
       "      <td>False</td>\n",
       "      <td>Business Development</td>\n",
       "    </tr>\n",
       "    <tr>\n",
       "      <th>832</th>\n",
       "      <td>Keith</td>\n",
       "      <td>Male</td>\n",
       "      <td>2003-02-12</td>\n",
       "      <td>2019-09-13 15:02:00</td>\n",
       "      <td>120672</td>\n",
       "      <td>19.467</td>\n",
       "      <td>False</td>\n",
       "      <td>Legal</td>\n",
       "    </tr>\n",
       "    <tr>\n",
       "      <th>291</th>\n",
       "      <td>Tammy</td>\n",
       "      <td>Female</td>\n",
       "      <td>1984-11-11</td>\n",
       "      <td>2019-09-13 10:30:00</td>\n",
       "      <td>132839</td>\n",
       "      <td>17.463</td>\n",
       "      <td>True</td>\n",
       "      <td>Client Services</td>\n",
       "    </tr>\n",
       "  </tbody>\n",
       "</table>\n",
       "</div>"
      ],
      "text/plain": [
       "    First Name  Gender Start Date     Last Login Time  Salary  Bonus %  \\\n",
       "8       Angela  Female 2005-11-22 2019-09-13 06:29:00   95570   18.523   \n",
       "688      Brian    Male 2007-04-07 2019-09-13 22:47:00   93901   17.821   \n",
       "190      Carol  Female 1996-03-19 2019-09-13 03:39:00   57783    9.129   \n",
       "887      David    Male 2009-12-05 2019-09-13 08:48:00   92242   15.407   \n",
       "5       Dennis    Male 1987-04-18 2019-09-13 01:35:00  115163   10.125   \n",
       "495     Eugene    Male 1984-05-24 2019-09-13 10:54:00   81077    2.117   \n",
       "33        Jean  Female 1993-12-18 2019-09-13 09:07:00  119082   16.180   \n",
       "832      Keith    Male 2003-02-12 2019-09-13 15:02:00  120672   19.467   \n",
       "291      Tammy  Female 1984-11-11 2019-09-13 10:30:00  132839   17.463   \n",
       "\n",
       "     Senior Management                  Team  \n",
       "8                 True           Engineering  \n",
       "688               True                 Legal  \n",
       "190              False               Finance  \n",
       "887              False                 Legal  \n",
       "5                False                 Legal  \n",
       "495              False                 Sales  \n",
       "33               False  Business Development  \n",
       "832              False                 Legal  \n",
       "291               True       Client Services  "
      ]
     },
     "execution_count": 148,
     "metadata": {},
     "output_type": "execute_result"
    }
   ],
   "source": [
    "mask = ~df[\"First Name\"].duplicated(keep = False)\n",
    "df[mask]"
   ]
  },
  {
   "cell_type": "markdown",
   "metadata": {},
   "source": [
    "## The .drpo_duplicates() Method"
   ]
  },
  {
   "cell_type": "code",
   "execution_count": 4,
   "metadata": {},
   "outputs": [
    {
     "data": {
      "text/html": [
       "<div>\n",
       "<style scoped>\n",
       "    .dataframe tbody tr th:only-of-type {\n",
       "        vertical-align: middle;\n",
       "    }\n",
       "\n",
       "    .dataframe tbody tr th {\n",
       "        vertical-align: top;\n",
       "    }\n",
       "\n",
       "    .dataframe thead th {\n",
       "        text-align: right;\n",
       "    }\n",
       "</style>\n",
       "<table border=\"1\" class=\"dataframe\">\n",
       "  <thead>\n",
       "    <tr style=\"text-align: right;\">\n",
       "      <th></th>\n",
       "      <th>First Name</th>\n",
       "      <th>Gender</th>\n",
       "      <th>Start Date</th>\n",
       "      <th>Last Login Time</th>\n",
       "      <th>Salary</th>\n",
       "      <th>Bonus %</th>\n",
       "      <th>Senior Management</th>\n",
       "      <th>Team</th>\n",
       "    </tr>\n",
       "  </thead>\n",
       "  <tbody>\n",
       "    <tr>\n",
       "      <th>101</th>\n",
       "      <td>Aaron</td>\n",
       "      <td>Male</td>\n",
       "      <td>2012-02-17</td>\n",
       "      <td>2019-09-16 10:20:00</td>\n",
       "      <td>61602</td>\n",
       "      <td>11.849</td>\n",
       "      <td>True</td>\n",
       "      <td>Marketing</td>\n",
       "    </tr>\n",
       "    <tr>\n",
       "      <th>327</th>\n",
       "      <td>Aaron</td>\n",
       "      <td>Male</td>\n",
       "      <td>1994-01-29</td>\n",
       "      <td>2019-09-16 18:48:00</td>\n",
       "      <td>58755</td>\n",
       "      <td>5.097</td>\n",
       "      <td>True</td>\n",
       "      <td>Marketing</td>\n",
       "    </tr>\n",
       "    <tr>\n",
       "      <th>440</th>\n",
       "      <td>Aaron</td>\n",
       "      <td>Male</td>\n",
       "      <td>1990-07-22</td>\n",
       "      <td>2019-09-16 14:53:00</td>\n",
       "      <td>52119</td>\n",
       "      <td>11.343</td>\n",
       "      <td>True</td>\n",
       "      <td>Client Services</td>\n",
       "    </tr>\n",
       "  </tbody>\n",
       "</table>\n",
       "</div>"
      ],
      "text/plain": [
       "    First Name Gender Start Date     Last Login Time  Salary  Bonus %  \\\n",
       "101      Aaron   Male 2012-02-17 2019-09-16 10:20:00   61602   11.849   \n",
       "327      Aaron   Male 1994-01-29 2019-09-16 18:48:00   58755    5.097   \n",
       "440      Aaron   Male 1990-07-22 2019-09-16 14:53:00   52119   11.343   \n",
       "\n",
       "     Senior Management             Team  \n",
       "101               True        Marketing  \n",
       "327               True        Marketing  \n",
       "440               True  Client Services  "
      ]
     },
     "execution_count": 4,
     "metadata": {},
     "output_type": "execute_result"
    }
   ],
   "source": [
    "import pandas as pd\n",
    "df = pd.read_csv(\"employees.csv\", parse_dates = [\"Start Date\", \"Last Login Time\"])\n",
    "df[\"Senior Management\"] = df[\"Senior Management\"].astype(\"bool\")\n",
    "df[\"Gender\"] = df[\"Gender\"].astype(\"category\")\n",
    "df.sort_values(\"First Name\", inplace = True)\n",
    "df.head(3)"
   ]
  },
  {
   "cell_type": "code",
   "execution_count": 5,
   "metadata": {},
   "outputs": [
    {
     "data": {
      "text/plain": [
       "1000"
      ]
     },
     "execution_count": 5,
     "metadata": {},
     "output_type": "execute_result"
    }
   ],
   "source": [
    "len(df)"
   ]
  },
  {
   "cell_type": "code",
   "execution_count": 7,
   "metadata": {},
   "outputs": [
    {
     "data": {
      "text/plain": [
       "1000"
      ]
     },
     "execution_count": 7,
     "metadata": {},
     "output_type": "execute_result"
    }
   ],
   "source": [
    "len(df.drop_duplicates()) #will only remove the identical rows"
   ]
  },
  {
   "cell_type": "code",
   "execution_count": 11,
   "metadata": {},
   "outputs": [
    {
     "data": {
      "text/html": [
       "<div>\n",
       "<style scoped>\n",
       "    .dataframe tbody tr th:only-of-type {\n",
       "        vertical-align: middle;\n",
       "    }\n",
       "\n",
       "    .dataframe tbody tr th {\n",
       "        vertical-align: top;\n",
       "    }\n",
       "\n",
       "    .dataframe thead th {\n",
       "        text-align: right;\n",
       "    }\n",
       "</style>\n",
       "<table border=\"1\" class=\"dataframe\">\n",
       "  <thead>\n",
       "    <tr style=\"text-align: right;\">\n",
       "      <th></th>\n",
       "      <th>First Name</th>\n",
       "      <th>Gender</th>\n",
       "      <th>Start Date</th>\n",
       "      <th>Last Login Time</th>\n",
       "      <th>Salary</th>\n",
       "      <th>Bonus %</th>\n",
       "      <th>Senior Management</th>\n",
       "      <th>Team</th>\n",
       "    </tr>\n",
       "  </thead>\n",
       "  <tbody>\n",
       "    <tr>\n",
       "      <th>101</th>\n",
       "      <td>Aaron</td>\n",
       "      <td>Male</td>\n",
       "      <td>2012-02-17</td>\n",
       "      <td>2019-09-16 10:20:00</td>\n",
       "      <td>61602</td>\n",
       "      <td>11.849</td>\n",
       "      <td>True</td>\n",
       "      <td>Marketing</td>\n",
       "    </tr>\n",
       "    <tr>\n",
       "      <th>137</th>\n",
       "      <td>Adam</td>\n",
       "      <td>Male</td>\n",
       "      <td>2011-05-21</td>\n",
       "      <td>2019-09-16 01:45:00</td>\n",
       "      <td>95327</td>\n",
       "      <td>15.120</td>\n",
       "      <td>False</td>\n",
       "      <td>Distribution</td>\n",
       "    </tr>\n",
       "    <tr>\n",
       "      <th>300</th>\n",
       "      <td>Alan</td>\n",
       "      <td>Male</td>\n",
       "      <td>1988-06-26</td>\n",
       "      <td>2019-09-16 03:54:00</td>\n",
       "      <td>111786</td>\n",
       "      <td>3.592</td>\n",
       "      <td>True</td>\n",
       "      <td>Engineering</td>\n",
       "    </tr>\n",
       "  </tbody>\n",
       "</table>\n",
       "</div>"
      ],
      "text/plain": [
       "    First Name Gender Start Date     Last Login Time  Salary  Bonus %  \\\n",
       "101      Aaron   Male 2012-02-17 2019-09-16 10:20:00   61602   11.849   \n",
       "137       Adam   Male 2011-05-21 2019-09-16 01:45:00   95327   15.120   \n",
       "300       Alan   Male 1988-06-26 2019-09-16 03:54:00  111786    3.592   \n",
       "\n",
       "     Senior Management          Team  \n",
       "101               True     Marketing  \n",
       "137              False  Distribution  \n",
       "300               True   Engineering  "
      ]
     },
     "execution_count": 11,
     "metadata": {},
     "output_type": "execute_result"
    }
   ],
   "source": [
    "df.drop_duplicates(subset = [\"First Name\"], keep=\"first\").head(3) # only keep the fist duplicate drop the rest"
   ]
  },
  {
   "cell_type": "code",
   "execution_count": 13,
   "metadata": {},
   "outputs": [
    {
     "data": {
      "text/html": [
       "<div>\n",
       "<style scoped>\n",
       "    .dataframe tbody tr th:only-of-type {\n",
       "        vertical-align: middle;\n",
       "    }\n",
       "\n",
       "    .dataframe tbody tr th {\n",
       "        vertical-align: top;\n",
       "    }\n",
       "\n",
       "    .dataframe thead th {\n",
       "        text-align: right;\n",
       "    }\n",
       "</style>\n",
       "<table border=\"1\" class=\"dataframe\">\n",
       "  <thead>\n",
       "    <tr style=\"text-align: right;\">\n",
       "      <th></th>\n",
       "      <th>First Name</th>\n",
       "      <th>Gender</th>\n",
       "      <th>Start Date</th>\n",
       "      <th>Last Login Time</th>\n",
       "      <th>Salary</th>\n",
       "      <th>Bonus %</th>\n",
       "      <th>Senior Management</th>\n",
       "      <th>Team</th>\n",
       "    </tr>\n",
       "  </thead>\n",
       "  <tbody>\n",
       "  </tbody>\n",
       "</table>\n",
       "</div>"
      ],
      "text/plain": [
       "Empty DataFrame\n",
       "Columns: [First Name, Gender, Start Date, Last Login Time, Salary, Bonus %, Senior Management, Team]\n",
       "Index: []"
      ]
     },
     "execution_count": 13,
     "metadata": {},
     "output_type": "execute_result"
    }
   ],
   "source": [
    "df.drop_duplicates(subset= [\"Team\"], keep=False) #doesnt keep any duplicates and there are no unique teams so all is gone"
   ]
  },
  {
   "cell_type": "code",
   "execution_count": 16,
   "metadata": {},
   "outputs": [
    {
     "data": {
      "text/html": [
       "<div>\n",
       "<style scoped>\n",
       "    .dataframe tbody tr th:only-of-type {\n",
       "        vertical-align: middle;\n",
       "    }\n",
       "\n",
       "    .dataframe tbody tr th {\n",
       "        vertical-align: top;\n",
       "    }\n",
       "\n",
       "    .dataframe thead th {\n",
       "        text-align: right;\n",
       "    }\n",
       "</style>\n",
       "<table border=\"1\" class=\"dataframe\">\n",
       "  <thead>\n",
       "    <tr style=\"text-align: right;\">\n",
       "      <th></th>\n",
       "      <th>First Name</th>\n",
       "      <th>Gender</th>\n",
       "      <th>Start Date</th>\n",
       "      <th>Last Login Time</th>\n",
       "      <th>Salary</th>\n",
       "      <th>Bonus %</th>\n",
       "      <th>Senior Management</th>\n",
       "      <th>Team</th>\n",
       "    </tr>\n",
       "  </thead>\n",
       "  <tbody>\n",
       "    <tr>\n",
       "      <th>101</th>\n",
       "      <td>Aaron</td>\n",
       "      <td>Male</td>\n",
       "      <td>2012-02-17</td>\n",
       "      <td>2019-09-16 10:20:00</td>\n",
       "      <td>61602</td>\n",
       "      <td>11.849</td>\n",
       "      <td>True</td>\n",
       "      <td>Marketing</td>\n",
       "    </tr>\n",
       "    <tr>\n",
       "      <th>440</th>\n",
       "      <td>Aaron</td>\n",
       "      <td>Male</td>\n",
       "      <td>1990-07-22</td>\n",
       "      <td>2019-09-16 14:53:00</td>\n",
       "      <td>52119</td>\n",
       "      <td>11.343</td>\n",
       "      <td>True</td>\n",
       "      <td>Client Services</td>\n",
       "    </tr>\n",
       "    <tr>\n",
       "      <th>137</th>\n",
       "      <td>Adam</td>\n",
       "      <td>Male</td>\n",
       "      <td>2011-05-21</td>\n",
       "      <td>2019-09-16 01:45:00</td>\n",
       "      <td>95327</td>\n",
       "      <td>15.120</td>\n",
       "      <td>False</td>\n",
       "      <td>Distribution</td>\n",
       "    </tr>\n",
       "  </tbody>\n",
       "</table>\n",
       "</div>"
      ],
      "text/plain": [
       "    First Name Gender Start Date     Last Login Time  Salary  Bonus %  \\\n",
       "101      Aaron   Male 2012-02-17 2019-09-16 10:20:00   61602   11.849   \n",
       "440      Aaron   Male 1990-07-22 2019-09-16 14:53:00   52119   11.343   \n",
       "137       Adam   Male 2011-05-21 2019-09-16 01:45:00   95327   15.120   \n",
       "\n",
       "     Senior Management             Team  \n",
       "101               True        Marketing  \n",
       "440               True  Client Services  \n",
       "137              False     Distribution  "
      ]
     },
     "execution_count": 16,
     "metadata": {},
     "output_type": "execute_result"
    }
   ],
   "source": [
    "df.drop_duplicates(subset=[\"First Name\", \"Team\"]).head(3) #note that there are 2 Aarons because the team subsets are different"
   ]
  },
  {
   "cell_type": "code",
   "execution_count": 17,
   "metadata": {},
   "outputs": [],
   "source": [
    "#the drop_duplicate method has a inplace parameter so can use that as well"
   ]
  },
  {
   "cell_type": "markdown",
   "metadata": {},
   "source": [
    "## The .unique() and .nunique() Methods"
   ]
  },
  {
   "cell_type": "code",
   "execution_count": 21,
   "metadata": {},
   "outputs": [
    {
     "data": {
      "text/html": [
       "<div>\n",
       "<style scoped>\n",
       "    .dataframe tbody tr th:only-of-type {\n",
       "        vertical-align: middle;\n",
       "    }\n",
       "\n",
       "    .dataframe tbody tr th {\n",
       "        vertical-align: top;\n",
       "    }\n",
       "\n",
       "    .dataframe thead th {\n",
       "        text-align: right;\n",
       "    }\n",
       "</style>\n",
       "<table border=\"1\" class=\"dataframe\">\n",
       "  <thead>\n",
       "    <tr style=\"text-align: right;\">\n",
       "      <th></th>\n",
       "      <th>First Name</th>\n",
       "      <th>Gender</th>\n",
       "      <th>Start Date</th>\n",
       "      <th>Last Login Time</th>\n",
       "      <th>Salary</th>\n",
       "      <th>Bonus %</th>\n",
       "      <th>Senior Management</th>\n",
       "      <th>Team</th>\n",
       "    </tr>\n",
       "  </thead>\n",
       "  <tbody>\n",
       "    <tr>\n",
       "      <th>0</th>\n",
       "      <td>Douglas</td>\n",
       "      <td>Male</td>\n",
       "      <td>1993-08-06</td>\n",
       "      <td>2019-09-16 12:42:00</td>\n",
       "      <td>97308</td>\n",
       "      <td>6.945</td>\n",
       "      <td>True</td>\n",
       "      <td>Marketing</td>\n",
       "    </tr>\n",
       "    <tr>\n",
       "      <th>1</th>\n",
       "      <td>Thomas</td>\n",
       "      <td>Male</td>\n",
       "      <td>1996-03-31</td>\n",
       "      <td>2019-09-16 06:53:00</td>\n",
       "      <td>61933</td>\n",
       "      <td>4.170</td>\n",
       "      <td>True</td>\n",
       "      <td>NaN</td>\n",
       "    </tr>\n",
       "    <tr>\n",
       "      <th>2</th>\n",
       "      <td>Maria</td>\n",
       "      <td>Female</td>\n",
       "      <td>1993-04-23</td>\n",
       "      <td>2019-09-16 11:17:00</td>\n",
       "      <td>130590</td>\n",
       "      <td>11.858</td>\n",
       "      <td>False</td>\n",
       "      <td>Finance</td>\n",
       "    </tr>\n",
       "  </tbody>\n",
       "</table>\n",
       "</div>"
      ],
      "text/plain": [
       "  First Name  Gender Start Date     Last Login Time  Salary  Bonus %  \\\n",
       "0    Douglas    Male 1993-08-06 2019-09-16 12:42:00   97308    6.945   \n",
       "1     Thomas    Male 1996-03-31 2019-09-16 06:53:00   61933    4.170   \n",
       "2      Maria  Female 1993-04-23 2019-09-16 11:17:00  130590   11.858   \n",
       "\n",
       "   Senior Management       Team  \n",
       "0               True  Marketing  \n",
       "1               True        NaN  \n",
       "2              False    Finance  "
      ]
     },
     "execution_count": 21,
     "metadata": {},
     "output_type": "execute_result"
    }
   ],
   "source": [
    "df = pd.read_csv(\"employees.csv\", parse_dates=[\"Start Date\",\"Last Login Time\"])\n",
    "df[\"Senior Management\"] = df[\"Senior Management\"].astype(\"bool\")\n",
    "df[\"Gender\"] = df[\"Gender\"].astype(\"category\")\n",
    "df.head(3)"
   ]
  },
  {
   "cell_type": "code",
   "execution_count": 23,
   "metadata": {},
   "outputs": [
    {
     "data": {
      "text/plain": [
       "[Male, Female, NaN]\n",
       "Categories (2, object): [Male, Female]"
      ]
     },
     "execution_count": 23,
     "metadata": {},
     "output_type": "execute_result"
    }
   ],
   "source": [
    "df[\"Gender\"].unique() #this will give an array that will store all the unique values"
   ]
  },
  {
   "cell_type": "code",
   "execution_count": 26,
   "metadata": {},
   "outputs": [
    {
     "data": {
      "text/plain": [
       "array(['Marketing', nan, 'Finance', 'Client Services', 'Legal', 'Product',\n",
       "       'Engineering', 'Business Development', 'Human Resources', 'Sales',\n",
       "       'Distribution'], dtype=object)"
      ]
     },
     "execution_count": 26,
     "metadata": {},
     "output_type": "execute_result"
    }
   ],
   "source": [
    "df[\"Team\"].unique()"
   ]
  },
  {
   "cell_type": "code",
   "execution_count": 29,
   "metadata": {},
   "outputs": [
    {
     "data": {
      "text/plain": [
       "201"
      ]
     },
     "execution_count": 29,
     "metadata": {},
     "output_type": "execute_result"
    }
   ],
   "source": [
    "len(df[\"First Name\"].unique()) #to find the number of unique values in a column"
   ]
  },
  {
   "cell_type": "code",
   "execution_count": 31,
   "metadata": {},
   "outputs": [
    {
     "data": {
      "text/plain": [
       "200"
      ]
     },
     "execution_count": 31,
     "metadata": {},
     "output_type": "execute_result"
    }
   ],
   "source": [
    "df[\"First Name\"].nunique() #does the same things as the statement above, minus NULL"
   ]
  },
  {
   "cell_type": "code",
   "execution_count": 33,
   "metadata": {},
   "outputs": [
    {
     "data": {
      "text/plain": [
       "201"
      ]
     },
     "execution_count": 33,
     "metadata": {},
     "output_type": "execute_result"
    }
   ],
   "source": [
    "df[\"First Name\"].nunique(dropna=False) #dropna parameter, the null counter is set to True by default can change it"
   ]
  },
  {
   "cell_type": "code",
   "execution_count": null,
   "metadata": {},
   "outputs": [],
   "source": []
  }
 ],
 "metadata": {
  "kernelspec": {
   "display_name": "Python 3",
   "language": "python",
   "name": "python3"
  },
  "language_info": {
   "codemirror_mode": {
    "name": "ipython",
    "version": 3
   },
   "file_extension": ".py",
   "mimetype": "text/x-python",
   "name": "python",
   "nbconvert_exporter": "python",
   "pygments_lexer": "ipython3",
   "version": "3.7.3"
  }
 },
 "nbformat": 4,
 "nbformat_minor": 2
}
